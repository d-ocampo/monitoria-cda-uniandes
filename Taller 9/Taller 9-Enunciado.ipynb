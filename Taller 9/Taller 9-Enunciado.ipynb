{
 "cells": [
  {
   "cell_type": "markdown",
   "id": "36740e0d",
   "metadata": {},
   "source": [
    "# Taller 9 Combinación de técnicas\n",
    "\n",
    "## Contexto\n",
    "Suponga que está trabajando como científico de datos, en urgencias del hospital SaludAlpes. En esta época del año es necesario establecer los planes de acción para el próximo año, por lo tanto, deben definir el esquema de contratación, el presupuesto para el próximo año y la forma de asignar los turnos en urgencias. En este contexto es posible que su grupo asuma uno de los siguientes roles:\n",
    "\n",
    "* Gerente del hospital con preocupación en los ingresos por lo que está interesado en el análisis de gastos\n",
    "* Jefe de médicos con preocupación en el manejo de personal de salud para brindar un servicio de calidad y no exceder el presupuesto\n",
    "* Jefe de enfermería con preocupación en la asignación de turnos para atender de forma oportuna y con calidad los pacientes que llegan a urgencias\n",
    "\n",
    "Con el fin de responder a las necesidades del hospital, se determinó realizar un análisis prescriptivo para aportar en la  definición del presupuesto con base al \"mejor escenario\" posible. En este análisis y con el fin de resolver el problema puede utilizar todo lo visto en el curso que considere necesario. Adicionalmente, se recolectaron una serie de datos de este año que busca aportar en este objetivo. Los datos que se lograron recolectar para esa consultoría corresponden a los gastos de personal en urgencias y los turnos. El hospital es consciente de que no se incluye información valiosa como los gastos fijos del hospital. "
   ]
  },
  {
   "cell_type": "code",
   "execution_count": 1,
   "id": "b9ee81e1",
   "metadata": {},
   "outputs": [],
   "source": [
    "import pandas as pd\n",
    "import matplotlib as plt"
   ]
  },
  {
   "cell_type": "code",
   "execution_count": 2,
   "id": "da6c3dc4",
   "metadata": {},
   "outputs": [],
   "source": [
    "salario=pd.read_csv('salarios_urgencias.csv',sep=';',encoding='latin-1')\n",
    "turnos=pd.read_csv('turnos_urgencias.csv',sep=';',encoding='latin-1')"
   ]
  },
  {
   "cell_type": "code",
   "execution_count": 3,
   "id": "5e2f2839",
   "metadata": {},
   "outputs": [
    {
     "data": {
      "text/html": [
       "<div>\n",
       "<style scoped>\n",
       "    .dataframe tbody tr th:only-of-type {\n",
       "        vertical-align: middle;\n",
       "    }\n",
       "\n",
       "    .dataframe tbody tr th {\n",
       "        vertical-align: top;\n",
       "    }\n",
       "\n",
       "    .dataframe thead th {\n",
       "        text-align: right;\n",
       "    }\n",
       "</style>\n",
       "<table border=\"1\" class=\"dataframe\">\n",
       "  <thead>\n",
       "    <tr style=\"text-align: right;\">\n",
       "      <th></th>\n",
       "      <th>experiencia</th>\n",
       "      <th>edad</th>\n",
       "      <th>salario</th>\n",
       "      <th>especialidad</th>\n",
       "    </tr>\n",
       "  </thead>\n",
       "  <tbody>\n",
       "    <tr>\n",
       "      <th>0</th>\n",
       "      <td>1.1</td>\n",
       "      <td>21.0</td>\n",
       "      <td>39343.0</td>\n",
       "      <td>Enfermería</td>\n",
       "    </tr>\n",
       "    <tr>\n",
       "      <th>1</th>\n",
       "      <td>1.3</td>\n",
       "      <td>21.5</td>\n",
       "      <td>46205.0</td>\n",
       "      <td>Enfermería</td>\n",
       "    </tr>\n",
       "    <tr>\n",
       "      <th>2</th>\n",
       "      <td>1.5</td>\n",
       "      <td>21.7</td>\n",
       "      <td>37731.0</td>\n",
       "      <td>Enfermería</td>\n",
       "    </tr>\n",
       "    <tr>\n",
       "      <th>3</th>\n",
       "      <td>2.0</td>\n",
       "      <td>22.0</td>\n",
       "      <td>43525.0</td>\n",
       "      <td>Enfermería</td>\n",
       "    </tr>\n",
       "    <tr>\n",
       "      <th>4</th>\n",
       "      <td>2.2</td>\n",
       "      <td>22.2</td>\n",
       "      <td>39891.0</td>\n",
       "      <td>Enfermería</td>\n",
       "    </tr>\n",
       "  </tbody>\n",
       "</table>\n",
       "</div>"
      ],
      "text/plain": [
       "   experiencia  edad  salario especialidad\n",
       "0          1.1  21.0  39343.0   Enfermería\n",
       "1          1.3  21.5  46205.0   Enfermería\n",
       "2          1.5  21.7  37731.0   Enfermería\n",
       "3          2.0  22.0  43525.0   Enfermería\n",
       "4          2.2  22.2  39891.0   Enfermería"
      ]
     },
     "execution_count": 3,
     "metadata": {},
     "output_type": "execute_result"
    }
   ],
   "source": [
    "salario.head()"
   ]
  },
  {
   "cell_type": "code",
   "execution_count": 4,
   "id": "994cf09b",
   "metadata": {},
   "outputs": [
    {
     "data": {
      "text/html": [
       "<div>\n",
       "<style scoped>\n",
       "    .dataframe tbody tr th:only-of-type {\n",
       "        vertical-align: middle;\n",
       "    }\n",
       "\n",
       "    .dataframe tbody tr th {\n",
       "        vertical-align: top;\n",
       "    }\n",
       "\n",
       "    .dataframe thead th {\n",
       "        text-align: right;\n",
       "    }\n",
       "</style>\n",
       "<table border=\"1\" class=\"dataframe\">\n",
       "  <thead>\n",
       "    <tr style=\"text-align: right;\">\n",
       "      <th></th>\n",
       "      <th>fecha</th>\n",
       "      <th>especialidad</th>\n",
       "      <th>horas_estadia</th>\n",
       "      <th>valor</th>\n",
       "    </tr>\n",
       "  </thead>\n",
       "  <tbody>\n",
       "    <tr>\n",
       "      <th>0</th>\n",
       "      <td>2021-09-26 21:42:54</td>\n",
       "      <td>Urgencias</td>\n",
       "      <td>20</td>\n",
       "      <td>1208.03</td>\n",
       "    </tr>\n",
       "    <tr>\n",
       "      <th>1</th>\n",
       "      <td>2021-05-02 01:05:57</td>\n",
       "      <td>Médico cirujano</td>\n",
       "      <td>18</td>\n",
       "      <td>708.81</td>\n",
       "    </tr>\n",
       "    <tr>\n",
       "      <th>2</th>\n",
       "      <td>2021-01-28 03:48:30</td>\n",
       "      <td>Médico General</td>\n",
       "      <td>8</td>\n",
       "      <td>95.94</td>\n",
       "    </tr>\n",
       "    <tr>\n",
       "      <th>3</th>\n",
       "      <td>2021-06-26 18:22:27</td>\n",
       "      <td>Enfermería</td>\n",
       "      <td>15</td>\n",
       "      <td>627.89</td>\n",
       "    </tr>\n",
       "    <tr>\n",
       "      <th>4</th>\n",
       "      <td>2021-06-13 07:38:41</td>\n",
       "      <td>Urgencias</td>\n",
       "      <td>6</td>\n",
       "      <td>34.61</td>\n",
       "    </tr>\n",
       "  </tbody>\n",
       "</table>\n",
       "</div>"
      ],
      "text/plain": [
       "                 fecha     especialidad  horas_estadia    valor\n",
       "0  2021-09-26 21:42:54        Urgencias             20  1208.03\n",
       "1  2021-05-02 01:05:57  Médico cirujano             18   708.81\n",
       "2  2021-01-28 03:48:30   Médico General              8    95.94\n",
       "3  2021-06-26 18:22:27       Enfermería             15   627.89\n",
       "4  2021-06-13 07:38:41        Urgencias              6    34.61"
      ]
     },
     "execution_count": 4,
     "metadata": {},
     "output_type": "execute_result"
    }
   ],
   "source": [
    "turnos.head()"
   ]
  },
  {
   "cell_type": "markdown",
   "id": "cb31fcbf",
   "metadata": {},
   "source": [
    "### Diccionario de datos\n",
    "#### Turnos de urgencias\n",
    "* fecha: La fecha de ingreso de la persona a urgencias\n",
    "* especialidad: La especialidad que requirió el paciente al ingreso\n",
    "* horas_estadia: Las horas que tardó el paciente en urgencias\n",
    "* valor: El costo que tuvo la hospitalización del cliente\n",
    "\n",
    "#### Salarios\n",
    "\n",
    "* experiencia: Los años de experiencia que tiene el empleado\n",
    "* edad: La edad en años del empleado\n",
    "* especialidad: La especialidad del empleado\n",
    "* salario: El salario anual del empleado"
   ]
  },
  {
   "cell_type": "markdown",
   "id": "91e02e25",
   "metadata": {},
   "source": [
    "### Supuestos\n",
    "\n",
    "SaludAlpes nos comparte una serie de supuestos, importantes para la consultoría:\n",
    "\n",
    "* Las ganancias tienen un impuesto del 19%\n",
    "* Un empleado trabaja 48 horas por semana \n",
    "* Un mes tiene 4 semanas\n",
    "* En tres meses de atención en el hospital siempre se tiene para todas las especialidades en algún momento, la totalidad de las camas ocupadas.\n",
    "\n",
    "\n",
    "Con el fin de garantizar la inclusión del punto de vista de los tres roles, el hospital les define la siguiente forma de trabajar:\n",
    "- G1, G2, G3, G10 deben trabajar con el gerente del hospital con preocupación en los ingresos por lo que está interesado en el análisis de gastos\n",
    "- G4, G5, G6 deben trabajar con el jefe de médicos con preocupación en el manejo de personal de salud para brindar un servicio de calidad y no exceder el presupuesto\n",
    "- G7, G8, G9, G11 deben trabajar con la jefe de enfermería con preocupación en la asignación de turnos para atender de forma oportuna y con calidad los pacientes que llegan a urgencias\n",
    "\n",
    "Si bien cada grupo tiene un rol principal con el que trabaja, para tener la solución final, debe incluir de alguna manera la perspectiva de otro rol para lo cual se sugiere charlar con otro grupo del curso que tenga un rol diferente al de su grupo,\n",
    "\n"
   ]
  },
  {
   "cell_type": "markdown",
   "id": "f65e6289",
   "metadata": {},
   "source": [
    "### Entregables\n",
    "* Describir la metodología a utilizar para resolver el caso y las actividades a realizar para tener la solución completa\n",
    "* Describir y construir un modelo de analítica prescriptiva en el cual deben incluir la formalización del problema en términos de optimización lineal.\n",
    "* Analizar el resultado a la luz de la necesidad del negocio en la cual deben incluir la visión de al menos dos roles involucrados en el problema y proponer una única solución. En este punto como base, les sugerimos dialogar con otro grupo que tenga asignado un rol distinto al de su grupo.\n",
    "* Plantear una narrativa y su audio respectivo para presentar la propuesta."
   ]
  }
 ],
 "metadata": {
  "kernelspec": {
   "display_name": "Python 3",
   "language": "python",
   "name": "python3"
  },
  "language_info": {
   "codemirror_mode": {
    "name": "ipython",
    "version": 3
   },
   "file_extension": ".py",
   "mimetype": "text/x-python",
   "name": "python",
   "nbconvert_exporter": "python",
   "pygments_lexer": "ipython3",
   "version": "3.8.8"
  }
 },
 "nbformat": 4,
 "nbformat_minor": 5
}
