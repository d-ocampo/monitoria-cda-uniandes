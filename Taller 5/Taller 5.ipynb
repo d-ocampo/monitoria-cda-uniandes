{
 "cells": [
  {
   "cell_type": "markdown",
   "metadata": {},
   "source": [
    "# Ciencia de datos aplicada\n",
    "\n",
    "## Taller 5\n",
    "\n",
    "### Contexto\n",
    "Imagine that you are a medical researcher compiling data for a study. You have collected data about a set of patients, all of whom suffered from the same illness. During their course of treatment, each patient responded to one of 5 medications, Drug A, Drug B, Drug c, Drug x and y.\n",
    "\n",
    "Part of your job is to build a model to find out which drug might be appropriate for a future patient with the same illness. The features of this dataset are Age, Sex, Blood Pressure, and the Cholesterol of the patients, and the target is the drug that each patient responded to.\n",
    "\n",
    "It is a sample of multiclass classifier, and you can use the training part of the dataset to build a decision tree, and then use it to predict the class of a unknown patient, or to prescribe a drug to a new patient\n",
    " \n",
    "https://www.kaggle.com/pablomgomez21/drugs-a-b-c-x-y-for-decision-trees"
   ]
  },
  {
   "cell_type": "markdown",
   "metadata": {},
   "source": [
    "### 1. Importación de librerías y datos\n",
    "\n",
    "En las siguientes líneas de código se importan las librerías, datos y herramientas necesarias para desarrollar el caso de uso."
   ]
  },
  {
   "cell_type": "code",
   "execution_count": 242,
   "metadata": {},
   "outputs": [],
   "source": [
    "#Librería de manejo de datos\n",
    "import pandas as pd\n",
    "\n",
    "import numpy as np\n",
    "\n",
    "# Detección de anomálias\n",
    "from sklearn.ensemble import IsolationForest\n",
    "from sklearn.pipeline import make_pipeline\n",
    "from sklearn.preprocessing import StandardScaler\n",
    "\n",
    "# Arbol de decisión y sus métricas\n",
    "from sklearn.metrics import confusion_matrix\n",
    "from sklearn.model_selection import train_test_split\n",
    "from sklearn.tree import DecisionTreeClassifier\n",
    "from sklearn import tree\n",
    "from sklearn.metrics import accuracy_score\n",
    "from sklearn.metrics import classification_report\n",
    "from sklearn.preprocessing import label_binarize\n",
    "from sklearn.metrics import roc_curve, auc\n",
    "import random\n",
    "\n",
    "#Semilla para poder replicar los datos\n",
    "random.seed(202120)\n",
    "\n",
    "#Gráficos\n",
    "import matplotlib.pyplot as plt\n",
    "from matplotlib import style\n",
    "import seaborn as sns\n",
    "import graphviz\n",
    "\n",
    "#Prueba chi cuadrado\n",
    "from  scipy.stats import chi2_contingency"
   ]
  },
  {
   "cell_type": "code",
   "execution_count": 64,
   "metadata": {
    "scrolled": true
   },
   "outputs": [
    {
     "data": {
      "text/html": [
       "<div>\n",
       "<style scoped>\n",
       "    .dataframe tbody tr th:only-of-type {\n",
       "        vertical-align: middle;\n",
       "    }\n",
       "\n",
       "    .dataframe tbody tr th {\n",
       "        vertical-align: top;\n",
       "    }\n",
       "\n",
       "    .dataframe thead th {\n",
       "        text-align: right;\n",
       "    }\n",
       "</style>\n",
       "<table border=\"1\" class=\"dataframe\">\n",
       "  <thead>\n",
       "    <tr style=\"text-align: right;\">\n",
       "      <th></th>\n",
       "      <th>Age</th>\n",
       "      <th>Sex</th>\n",
       "      <th>BP</th>\n",
       "      <th>Cholesterol</th>\n",
       "      <th>Na_to_K</th>\n",
       "      <th>Drug</th>\n",
       "    </tr>\n",
       "  </thead>\n",
       "  <tbody>\n",
       "    <tr>\n",
       "      <th>0</th>\n",
       "      <td>23</td>\n",
       "      <td>F</td>\n",
       "      <td>HIGH</td>\n",
       "      <td>HIGH</td>\n",
       "      <td>25.355</td>\n",
       "      <td>drugY</td>\n",
       "    </tr>\n",
       "    <tr>\n",
       "      <th>1</th>\n",
       "      <td>47</td>\n",
       "      <td>M</td>\n",
       "      <td>LOW</td>\n",
       "      <td>HIGH</td>\n",
       "      <td>13.093</td>\n",
       "      <td>drugC</td>\n",
       "    </tr>\n",
       "    <tr>\n",
       "      <th>2</th>\n",
       "      <td>47</td>\n",
       "      <td>M</td>\n",
       "      <td>LOW</td>\n",
       "      <td>HIGH</td>\n",
       "      <td>10.114</td>\n",
       "      <td>drugC</td>\n",
       "    </tr>\n",
       "    <tr>\n",
       "      <th>3</th>\n",
       "      <td>28</td>\n",
       "      <td>F</td>\n",
       "      <td>NORMAL</td>\n",
       "      <td>HIGH</td>\n",
       "      <td>7.798</td>\n",
       "      <td>drugX</td>\n",
       "    </tr>\n",
       "    <tr>\n",
       "      <th>4</th>\n",
       "      <td>61</td>\n",
       "      <td>F</td>\n",
       "      <td>LOW</td>\n",
       "      <td>HIGH</td>\n",
       "      <td>18.043</td>\n",
       "      <td>drugY</td>\n",
       "    </tr>\n",
       "  </tbody>\n",
       "</table>\n",
       "</div>"
      ],
      "text/plain": [
       "   Age Sex      BP Cholesterol  Na_to_K   Drug\n",
       "0   23   F    HIGH        HIGH   25.355  drugY\n",
       "1   47   M     LOW        HIGH   13.093  drugC\n",
       "2   47   M     LOW        HIGH   10.114  drugC\n",
       "3   28   F  NORMAL        HIGH    7.798  drugX\n",
       "4   61   F     LOW        HIGH   18.043  drugY"
      ]
     },
     "execution_count": 64,
     "metadata": {},
     "output_type": "execute_result"
    }
   ],
   "source": [
    "#Cargar los datos\n",
    "data=pd.read_csv('drug200.csv')\n",
    "data.head()"
   ]
  },
  {
   "cell_type": "code",
   "execution_count": 65,
   "metadata": {},
   "outputs": [
    {
     "data": {
      "text/plain": [
       "(200, 6)"
      ]
     },
     "execution_count": 65,
     "metadata": {},
     "output_type": "execute_result"
    }
   ],
   "source": [
    "data.shape"
   ]
  },
  {
   "cell_type": "code",
   "execution_count": 66,
   "metadata": {
    "scrolled": false
   },
   "outputs": [
    {
     "data": {
      "text/plain": [
       "Age              int64\n",
       "Sex             object\n",
       "BP              object\n",
       "Cholesterol     object\n",
       "Na_to_K        float64\n",
       "Drug            object\n",
       "dtype: object"
      ]
     },
     "execution_count": 66,
     "metadata": {},
     "output_type": "execute_result"
    }
   ],
   "source": [
    "data.dtypes"
   ]
  },
  {
   "cell_type": "markdown",
   "metadata": {},
   "source": [
    "### 1.1. Distribución de los datos \n",
    "La distribución muestral de una estadística es la distribución de esa estadística, considerada como una variable aleatoria, cuando se deriva de una muestra aleatoria de tamaño. Puede considerarse como la distribución de la estadística para todas las muestras posibles de la misma población de un tamaño determinado. Las distribuciones muestrales permiten que las consideraciones analíticas se basen en la distribución muestral de una estadística en lugar de en la distribución de probabilidad conjunta de todos los valores muestrales individuales."
   ]
  },
  {
   "cell_type": "code",
   "execution_count": 67,
   "metadata": {
    "scrolled": true
   },
   "outputs": [
    {
     "data": {
      "text/plain": [
       "(array([24., 53., 32., 24., 23., 11., 11.,  9.,  5.,  5.,  3.]),\n",
       " array([ 6.269     ,  9.17609091, 12.08318182, 14.99027273, 17.89736364,\n",
       "        20.80445455, 23.71154545, 26.61863636, 29.52572727, 32.43281818,\n",
       "        35.33990909, 38.247     ]),\n",
       " <BarContainer object of 11 artists>)"
      ]
     },
     "execution_count": 67,
     "metadata": {},
     "output_type": "execute_result"
    },
    {
     "data": {
      "image/png": "[encoded data removed]",
      "text/plain": [
       "<Figure size 432x288 with 1 Axes>"
      ]
     },
     "metadata": {
      "needs_background": "light"
     },
     "output_type": "display_data"
    }
   ],
   "source": [
    "#Histograma de Na  a K\n",
    "plt.hist(x=data['Na_to_K'], bins='auto', color='#0504aa',\n",
    "                            alpha=0.7, rwidth=0.85)"
   ]
  },
  {
   "cell_type": "code",
   "execution_count": 68,
   "metadata": {
    "scrolled": false
   },
   "outputs": [
    {
     "data": {
      "text/plain": [
       "<BarContainer object of 5 artists>"
      ]
     },
     "execution_count": 68,
     "metadata": {},
     "output_type": "execute_result"
    },
    {
     "data": {
      "image/png": "[encoded data removed]",
      "text/plain": [
       "<Figure size 432x288 with 1 Axes>"
      ]
     },
     "metadata": {
      "needs_background": "light"
     },
     "output_type": "display_data"
    }
   ],
   "source": [
    "# Diagrama de barras de la salida\n",
    "data_drug=data.groupby('Drug').count().reset_index()\n",
    "plt.bar(data_drug['Drug'],data_drug['Age'])"
   ]
  },
  {
   "cell_type": "code",
   "execution_count": null,
   "metadata": {},
   "outputs": [],
   "source": [
    "#Graficar x dato\n",
    "plt.hist #Graficar las variables continuas \n",
    "plt.bar #Categóricas"
   ]
  },
  {
   "cell_type": "markdown",
   "metadata": {},
   "source": [
    "### 1.2 Simulación\n",
    "La definición básica de simulación de datos es tomar una gran cantidad de datos y usarlos para simular o reflejar condiciones del mundo real para predecir una instancia futura, determinar el mejor curso de acción o validar un modelo.\n",
    "\n",
    "Hay muchas formas diferentes de simulación de datos.\n",
    "\n",
    "Algunos buscan aproximarse a las condiciones conocidas para determinar, por ejemplo, la probabilidad de que haya recursos de petróleo, gas o minerales dentro de los estratos geológicos.\n",
    "\n",
    "Otros toman grandes cantidades de datos y ejecutan una variedad de escenarios para ver cómo podrían funcionar los diferentes enfoques. Ves este tipo de simulación en las proyecciones climáticas. Los modeladores ejecutan diferentes escenarios basados ​​en las emisiones existentes, aumentando las emisiones y reduciendo las emisiones para estimar los niveles de temperatura décadas en el futuro."
   ]
  },
  {
   "cell_type": "code",
   "execution_count": 314,
   "metadata": {},
   "outputs": [
    {
     "data": {
      "text/plain": [
       "['drugY', 'drugA', 'drugX']"
      ]
     },
     "execution_count": 314,
     "metadata": {},
     "output_type": "execute_result"
    }
   ],
   "source": [
    "random.seed(202120)\n",
    "#Simular la droga\n",
    "drug=[]\n",
    "dict_drug={\n",
    "    1:'drugA',\n",
    "    2:'drugB',\n",
    "    3:'drugC',\n",
    "    4:'drugX',\n",
    "    5:'drugY'\n",
    "}\n",
    "for i in range(1,2000):\n",
    "    drug.append(dict_drug[random.randint(1,5)])\n",
    "drug[0:3]"
   ]
  },
  {
   "cell_type": "code",
   "execution_count": 315,
   "metadata": {},
   "outputs": [
    {
     "data": {
      "text/plain": [
       "[15, 43, 42, 48, 48, 69, 46, 33, 39, 51]"
      ]
     },
     "execution_count": 315,
     "metadata": {},
     "output_type": "execute_result"
    }
   ],
   "source": [
    "random.seed(202120)\n",
    "#Simular la edad\n",
    "age=[]\n",
    "for i in range(1,2000):\n",
    "    age.append(random.randint(data['Age'].min(),data['Age'].max()))\n",
    "age[0:10]"
   ]
  },
  {
   "cell_type": "code",
   "execution_count": 316,
   "metadata": {},
   "outputs": [
    {
     "data": {
      "text/plain": [
       "<BarContainer object of 3 artists>"
      ]
     },
     "execution_count": 316,
     "metadata": {},
     "output_type": "execute_result"
    },
    {
     "data": {
      "image/png": "[encoded data removed]",
      "text/plain": [
       "<Figure size 432x288 with 1 Axes>"
      ]
     },
     "metadata": {
      "needs_background": "light"
     },
     "output_type": "display_data"
    }
   ],
   "source": [
    "# Diagrama de barras de la salida\n",
    "data_drug=data.groupby('BP').count().reset_index()\n",
    "plt.bar(data_drug['BP'],data_drug['Sex'])"
   ]
  },
  {
   "cell_type": "code",
   "execution_count": 317,
   "metadata": {},
   "outputs": [
    {
     "data": {
      "text/plain": [
       "['F', 'F', 'F']"
      ]
     },
     "execution_count": 317,
     "metadata": {},
     "output_type": "execute_result"
    }
   ],
   "source": [
    "random.seed(202120)\n",
    "#Simular el sexo droga\n",
    "sex=[]\n",
    "dict_sex={\n",
    "    1:'F',\n",
    "    2:'M'\n",
    "}\n",
    "for i in range(1,2000):\n",
    "    sex.append(dict_sex[random.randint(1,2)])\n",
    "sex[0:3]"
   ]
  },
  {
   "cell_type": "code",
   "execution_count": 115,
   "metadata": {},
   "outputs": [
    {
     "data": {
      "text/plain": [
       "['HIGH', 'LOW', 'HIGH']"
      ]
     },
     "execution_count": 115,
     "metadata": {},
     "output_type": "execute_result"
    }
   ],
   "source": [
    "random.seed(202120)\n",
    "#Simular el ritmo cardiaco\n",
    "bp=[]\n",
    "dict_bp={\n",
    "    1:'LOW',\n",
    "    2:'HIGH',\n",
    "    3:'NORMAL'\n",
    "}\n",
    "for i in range(1,2000):\n",
    "    bp.append(dict_bp[random.randint(1,3)])\n",
    "bp[0:3]"
   ]
  },
  {
   "cell_type": "code",
   "execution_count": 323,
   "metadata": {},
   "outputs": [
    {
     "data": {
      "text/plain": [
       "['HIGH', 'NORMAL', 'NORMAL']"
      ]
     },
     "execution_count": 323,
     "metadata": {},
     "output_type": "execute_result"
    }
   ],
   "source": [
    "random.seed(202120)\n",
    "#Simular el colesterol\n",
    "ch=[]\n",
    "dict_ch={\n",
    "    1:'HIGH',\n",
    "    2:'NORMAL'\n",
    "}\n",
    "for i in range(1,2000):\n",
    "    ch.append(dict_ch[random.randint(1,2)])\n",
    "ch[0:3]"
   ]
  },
  {
   "cell_type": "code",
   "execution_count": 328,
   "metadata": {},
   "outputs": [
    {
     "data": {
      "text/plain": [
       "[0.13327300364952271,\n",
       " 8.74294629236903,\n",
       " 11.541925403982725,\n",
       " 10.63381193072652,\n",
       " 7.695358084508533,\n",
       " 14.850839738222689,\n",
       " 40.409619333056504,\n",
       " 19.049678893727645,\n",
       " 24.028261763234198,\n",
       " 21.501228401245925]"
      ]
     },
     "execution_count": 328,
     "metadata": {},
     "output_type": "execute_result"
    }
   ],
   "source": [
    "random.seed(202120)\n",
    "#Simular Na_to_K\n",
    "nk=[]\n",
    "for i in range(1,2000):\n",
    "    nk.append(random.expovariate(1/data['Na_to_K'].mean()))     \n",
    "nk[0:10]"
   ]
  },
  {
   "cell_type": "code",
   "execution_count": 334,
   "metadata": {
    "scrolled": false
   },
   "outputs": [
    {
     "data": {
      "text/html": [
       "<div>\n",
       "<style scoped>\n",
       "    .dataframe tbody tr th:only-of-type {\n",
       "        vertical-align: middle;\n",
       "    }\n",
       "\n",
       "    .dataframe tbody tr th {\n",
       "        vertical-align: top;\n",
       "    }\n",
       "\n",
       "    .dataframe thead th {\n",
       "        text-align: right;\n",
       "    }\n",
       "</style>\n",
       "<table border=\"1\" class=\"dataframe\">\n",
       "  <thead>\n",
       "    <tr style=\"text-align: right;\">\n",
       "      <th></th>\n",
       "      <th>Age</th>\n",
       "      <th>Sex</th>\n",
       "      <th>BP</th>\n",
       "      <th>Cholesterol</th>\n",
       "      <th>Na_to_K</th>\n",
       "      <th>Drug</th>\n",
       "    </tr>\n",
       "  </thead>\n",
       "  <tbody>\n",
       "    <tr>\n",
       "      <th>0</th>\n",
       "      <td>15</td>\n",
       "      <td>F</td>\n",
       "      <td>HIGH</td>\n",
       "      <td>HIGH</td>\n",
       "      <td>0.133273</td>\n",
       "      <td>drugY</td>\n",
       "    </tr>\n",
       "    <tr>\n",
       "      <th>1</th>\n",
       "      <td>43</td>\n",
       "      <td>F</td>\n",
       "      <td>LOW</td>\n",
       "      <td>NORMAL</td>\n",
       "      <td>8.742946</td>\n",
       "      <td>drugA</td>\n",
       "    </tr>\n",
       "    <tr>\n",
       "      <th>2</th>\n",
       "      <td>42</td>\n",
       "      <td>F</td>\n",
       "      <td>HIGH</td>\n",
       "      <td>NORMAL</td>\n",
       "      <td>11.541925</td>\n",
       "      <td>drugX</td>\n",
       "    </tr>\n",
       "    <tr>\n",
       "      <th>3</th>\n",
       "      <td>48</td>\n",
       "      <td>M</td>\n",
       "      <td>NORMAL</td>\n",
       "      <td>NORMAL</td>\n",
       "      <td>10.633812</td>\n",
       "      <td>drugX</td>\n",
       "    </tr>\n",
       "    <tr>\n",
       "      <th>4</th>\n",
       "      <td>48</td>\n",
       "      <td>F</td>\n",
       "      <td>LOW</td>\n",
       "      <td>NORMAL</td>\n",
       "      <td>7.695358</td>\n",
       "      <td>drugY</td>\n",
       "    </tr>\n",
       "  </tbody>\n",
       "</table>\n",
       "</div>"
      ],
      "text/plain": [
       "   Age Sex      BP Cholesterol    Na_to_K   Drug\n",
       "0   15   F    HIGH        HIGH   0.133273  drugY\n",
       "1   43   F     LOW      NORMAL   8.742946  drugA\n",
       "2   42   F    HIGH      NORMAL  11.541925  drugX\n",
       "3   48   M  NORMAL      NORMAL  10.633812  drugX\n",
       "4   48   F     LOW      NORMAL   7.695358  drugY"
      ]
     },
     "execution_count": 334,
     "metadata": {},
     "output_type": "execute_result"
    }
   ],
   "source": [
    "random.seed(202120)\n",
    "#Crear el dataframe\n",
    "data_sim = pd.DataFrame(list(zip(age,sex,bp,ch,nk,drug)),\n",
    "               columns =['Age', 'Sex', 'BP', 'Cholesterol', 'Na_to_K', 'Drug'])\n",
    "data_sim.head()"
   ]
  },
  {
   "cell_type": "code",
   "execution_count": 119,
   "metadata": {},
   "outputs": [
    {
     "data": {
      "text/plain": [
       "(array([295., 241., 230., 213., 153., 146., 111.,  88.,  80.,  70.,  51.,\n",
       "         50.,  38.,  35.,  26.,  24.,  21.,  21.,  13.,  12.,  15.,   6.,\n",
       "         13.,   7.,   7.,   1.,   5.,   4.,   5.,   1.,   2.,   5.,   1.,\n",
       "          1.,   1.,   2.,   1.,   1.,   0.,   0.,   0.,   1.,   0.,   0.,\n",
       "          2.]),\n",
       " array([1.50617022e-02, 2.61094672e+00, 5.20683174e+00, 7.80271675e+00,\n",
       "        1.03986018e+01, 1.29944868e+01, 1.55903718e+01, 1.81862568e+01,\n",
       "        2.07821418e+01, 2.33780269e+01, 2.59739119e+01, 2.85697969e+01,\n",
       "        3.11656819e+01, 3.37615669e+01, 3.63574519e+01, 3.89533370e+01,\n",
       "        4.15492220e+01, 4.41451070e+01, 4.67409920e+01, 4.93368770e+01,\n",
       "        5.19327620e+01, 5.45286470e+01, 5.71245321e+01, 5.97204171e+01,\n",
       "        6.23163021e+01, 6.49121871e+01, 6.75080721e+01, 7.01039571e+01,\n",
       "        7.26998422e+01, 7.52957272e+01, 7.78916122e+01, 8.04874972e+01,\n",
       "        8.30833822e+01, 8.56792672e+01, 8.82751523e+01, 9.08710373e+01,\n",
       "        9.34669223e+01, 9.60628073e+01, 9.86586923e+01, 1.01254577e+02,\n",
       "        1.03850462e+02, 1.06446347e+02, 1.09042232e+02, 1.11638117e+02,\n",
       "        1.14234002e+02, 1.16829887e+02]),\n",
       " <BarContainer object of 45 artists>)"
      ]
     },
     "execution_count": 119,
     "metadata": {},
     "output_type": "execute_result"
    },
    {
     "data": {
      "image/png": "[encoded data removed]",
      "text/plain": [
       "<Figure size 432x288 with 1 Axes>"
      ]
     },
     "metadata": {
      "needs_background": "light"
     },
     "output_type": "display_data"
    }
   ],
   "source": [
    "#Histograma de Na  a K\n",
    "plt.hist(x=data_sim['Na_to_K'], bins='auto', color='#0504aa',\n",
    "                            alpha=0.7, rwidth=0.85)"
   ]
  },
  {
   "cell_type": "code",
   "execution_count": 120,
   "metadata": {},
   "outputs": [
    {
     "data": {
      "text/plain": [
       "(2199, 7)"
      ]
     },
     "execution_count": 120,
     "metadata": {},
     "output_type": "execute_result"
    }
   ],
   "source": [
    "#Unir los dataset\n",
    "data=pd.concat([data,data_sim]).reset_index()\n",
    "data.shape"
   ]
  },
  {
   "cell_type": "code",
   "execution_count": 125,
   "metadata": {},
   "outputs": [],
   "source": [
    "#Introducir ruido\n",
    "for i in range(0,200):\n",
    "    data.at[random.randint(0,len(data)),'Na_to_K']=np.nan"
   ]
  },
  {
   "cell_type": "code",
   "execution_count": 123,
   "metadata": {},
   "outputs": [
    {
     "data": {
      "text/plain": [
       "'F'"
      ]
     },
     "execution_count": 123,
     "metadata": {},
     "output_type": "execute_result"
    }
   ],
   "source": [
    "data.at[0,'Sex']"
   ]
  },
  {
   "cell_type": "code",
   "execution_count": 126,
   "metadata": {
    "scrolled": false
   },
   "outputs": [
    {
     "data": {
      "text/plain": [
       "index            0\n",
       "Age              0\n",
       "Sex              0\n",
       "BP               0\n",
       "Cholesterol      0\n",
       "Na_to_K        191\n",
       "Drug             0\n",
       "dtype: int64"
      ]
     },
     "execution_count": 126,
     "metadata": {},
     "output_type": "execute_result"
    }
   ],
   "source": [
    "data.isna().sum()"
   ]
  },
  {
   "cell_type": "code",
   "execution_count": 127,
   "metadata": {
    "scrolled": true
   },
   "outputs": [
    {
     "data": {
      "text/plain": [
       "(array([261., 193., 208., 225., 173., 157., 130., 106.,  77.,  66.,  69.,\n",
       "         45.,  47.,  33.,  38.,  24.,  18.,  17.,  15.,  18.,  11.,   7.,\n",
       "         12.,   8.,   8.,   5.,   5.,   1.,   6.,   5.,   3.,   1.,   1.,\n",
       "          5.,   1.,   1.,   0.,   2.,   1.,   1.,   1.,   0.,   0.,   1.,\n",
       "          0.,   0.,   0.,   2.]),\n",
       " array([1.50617022e-02, 2.44870391e+00, 4.88234611e+00, 7.31598831e+00,\n",
       "        9.74963051e+00, 1.21832727e+01, 1.46169149e+01, 1.70505571e+01,\n",
       "        1.94841993e+01, 2.19178415e+01, 2.43514837e+01, 2.67851259e+01,\n",
       "        2.92187681e+01, 3.16524103e+01, 3.40860525e+01, 3.65196947e+01,\n",
       "        3.89533370e+01, 4.13869792e+01, 4.38206214e+01, 4.62542636e+01,\n",
       "        4.86879058e+01, 5.11215480e+01, 5.35551902e+01, 5.59888324e+01,\n",
       "        5.84224746e+01, 6.08561168e+01, 6.32897590e+01, 6.57234012e+01,\n",
       "        6.81570434e+01, 7.05906856e+01, 7.30243278e+01, 7.54579700e+01,\n",
       "        7.78916122e+01, 8.03252544e+01, 8.27588966e+01, 8.51925388e+01,\n",
       "        8.76261810e+01, 9.00598232e+01, 9.24934654e+01, 9.49271076e+01,\n",
       "        9.73607498e+01, 9.97943920e+01, 1.02228034e+02, 1.04661676e+02,\n",
       "        1.07095319e+02, 1.09528961e+02, 1.11962603e+02, 1.14396245e+02,\n",
       "        1.16829887e+02]),\n",
       " <BarContainer object of 48 artists>)"
      ]
     },
     "execution_count": 127,
     "metadata": {},
     "output_type": "execute_result"
    },
    {
     "data": {
      "image/png": "[encoded data removed]",
      "text/plain": [
       "<Figure size 432x288 with 1 Axes>"
      ]
     },
     "metadata": {
      "needs_background": "light"
     },
     "output_type": "display_data"
    }
   ],
   "source": [
    "#Histograma de Na  a K\n",
    "plt.hist(x=data['Na_to_K'], bins='auto', color='#0504aa',\n",
    "                            alpha=0.7, rwidth=0.85)"
   ]
  },
  {
   "cell_type": "code",
   "execution_count": 129,
   "metadata": {},
   "outputs": [
    {
     "data": {
      "text/plain": [
       "15.843421911676119"
      ]
     },
     "execution_count": 129,
     "metadata": {},
     "output_type": "execute_result"
    }
   ],
   "source": [
    "data['Na_to_K'].mean()"
   ]
  },
  {
   "cell_type": "code",
   "execution_count": 130,
   "metadata": {
    "scrolled": true
   },
   "outputs": [
    {
     "data": {
      "text/html": [
       "<div>\n",
       "<style scoped>\n",
       "    .dataframe tbody tr th:only-of-type {\n",
       "        vertical-align: middle;\n",
       "    }\n",
       "\n",
       "    .dataframe tbody tr th {\n",
       "        vertical-align: top;\n",
       "    }\n",
       "\n",
       "    .dataframe thead th {\n",
       "        text-align: right;\n",
       "    }\n",
       "</style>\n",
       "<table border=\"1\" class=\"dataframe\">\n",
       "  <thead>\n",
       "    <tr style=\"text-align: right;\">\n",
       "      <th></th>\n",
       "      <th>index</th>\n",
       "      <th>Age</th>\n",
       "      <th>Sex</th>\n",
       "      <th>BP</th>\n",
       "      <th>Cholesterol</th>\n",
       "      <th>Na_to_K</th>\n",
       "      <th>Drug</th>\n",
       "    </tr>\n",
       "  </thead>\n",
       "  <tbody>\n",
       "    <tr>\n",
       "      <th>0</th>\n",
       "      <td>0</td>\n",
       "      <td>23</td>\n",
       "      <td>F</td>\n",
       "      <td>HIGH</td>\n",
       "      <td>HIGH</td>\n",
       "      <td>25.355000</td>\n",
       "      <td>drugY</td>\n",
       "    </tr>\n",
       "    <tr>\n",
       "      <th>1</th>\n",
       "      <td>1</td>\n",
       "      <td>47</td>\n",
       "      <td>M</td>\n",
       "      <td>LOW</td>\n",
       "      <td>HIGH</td>\n",
       "      <td>13.093000</td>\n",
       "      <td>drugC</td>\n",
       "    </tr>\n",
       "    <tr>\n",
       "      <th>2</th>\n",
       "      <td>2</td>\n",
       "      <td>47</td>\n",
       "      <td>M</td>\n",
       "      <td>LOW</td>\n",
       "      <td>HIGH</td>\n",
       "      <td>10.114000</td>\n",
       "      <td>drugC</td>\n",
       "    </tr>\n",
       "    <tr>\n",
       "      <th>3</th>\n",
       "      <td>3</td>\n",
       "      <td>28</td>\n",
       "      <td>F</td>\n",
       "      <td>NORMAL</td>\n",
       "      <td>HIGH</td>\n",
       "      <td>7.798000</td>\n",
       "      <td>drugX</td>\n",
       "    </tr>\n",
       "    <tr>\n",
       "      <th>4</th>\n",
       "      <td>4</td>\n",
       "      <td>61</td>\n",
       "      <td>F</td>\n",
       "      <td>LOW</td>\n",
       "      <td>HIGH</td>\n",
       "      <td>18.043000</td>\n",
       "      <td>drugY</td>\n",
       "    </tr>\n",
       "    <tr>\n",
       "      <th>...</th>\n",
       "      <td>...</td>\n",
       "      <td>...</td>\n",
       "      <td>...</td>\n",
       "      <td>...</td>\n",
       "      <td>...</td>\n",
       "      <td>...</td>\n",
       "      <td>...</td>\n",
       "    </tr>\n",
       "    <tr>\n",
       "      <th>2194</th>\n",
       "      <td>1994</td>\n",
       "      <td>47</td>\n",
       "      <td>F</td>\n",
       "      <td>NORMAL</td>\n",
       "      <td>NORMAL</td>\n",
       "      <td>9.496631</td>\n",
       "      <td>drugB</td>\n",
       "    </tr>\n",
       "    <tr>\n",
       "      <th>2195</th>\n",
       "      <td>1995</td>\n",
       "      <td>64</td>\n",
       "      <td>F</td>\n",
       "      <td>HIGH</td>\n",
       "      <td>HIGH</td>\n",
       "      <td>25.799268</td>\n",
       "      <td>drugC</td>\n",
       "    </tr>\n",
       "    <tr>\n",
       "      <th>2196</th>\n",
       "      <td>1996</td>\n",
       "      <td>69</td>\n",
       "      <td>M</td>\n",
       "      <td>LOW</td>\n",
       "      <td>HIGH</td>\n",
       "      <td>4.228428</td>\n",
       "      <td>drugC</td>\n",
       "    </tr>\n",
       "    <tr>\n",
       "      <th>2197</th>\n",
       "      <td>1997</td>\n",
       "      <td>39</td>\n",
       "      <td>M</td>\n",
       "      <td>LOW</td>\n",
       "      <td>NORMAL</td>\n",
       "      <td>9.429915</td>\n",
       "      <td>drugC</td>\n",
       "    </tr>\n",
       "    <tr>\n",
       "      <th>2198</th>\n",
       "      <td>1998</td>\n",
       "      <td>63</td>\n",
       "      <td>F</td>\n",
       "      <td>LOW</td>\n",
       "      <td>HIGH</td>\n",
       "      <td>15.843422</td>\n",
       "      <td>drugB</td>\n",
       "    </tr>\n",
       "  </tbody>\n",
       "</table>\n",
       "<p>2199 rows × 7 columns</p>\n",
       "</div>"
      ],
      "text/plain": [
       "      index  Age Sex      BP Cholesterol    Na_to_K   Drug\n",
       "0         0   23   F    HIGH        HIGH  25.355000  drugY\n",
       "1         1   47   M     LOW        HIGH  13.093000  drugC\n",
       "2         2   47   M     LOW        HIGH  10.114000  drugC\n",
       "3         3   28   F  NORMAL        HIGH   7.798000  drugX\n",
       "4         4   61   F     LOW        HIGH  18.043000  drugY\n",
       "...     ...  ...  ..     ...         ...        ...    ...\n",
       "2194   1994   47   F  NORMAL      NORMAL   9.496631  drugB\n",
       "2195   1995   64   F    HIGH        HIGH  25.799268  drugC\n",
       "2196   1996   69   M     LOW        HIGH   4.228428  drugC\n",
       "2197   1997   39   M     LOW      NORMAL   9.429915  drugC\n",
       "2198   1998   63   F     LOW        HIGH  15.843422  drugB\n",
       "\n",
       "[2199 rows x 7 columns]"
      ]
     },
     "execution_count": 130,
     "metadata": {},
     "output_type": "execute_result"
    }
   ],
   "source": [
    "#Imputación de datos\n",
    "data=data.fillna(data['Na_to_K'].mean())\n",
    "data"
   ]
  },
  {
   "cell_type": "code",
   "execution_count": 131,
   "metadata": {},
   "outputs": [
    {
     "data": {
      "text/plain": [
       "15.843421911676044"
      ]
     },
     "execution_count": 131,
     "metadata": {},
     "output_type": "execute_result"
    }
   ],
   "source": [
    "data['Na_to_K'].mean()"
   ]
  },
  {
   "cell_type": "code",
   "execution_count": 132,
   "metadata": {},
   "outputs": [
    {
     "data": {
      "text/plain": [
       "index          0\n",
       "Age            0\n",
       "Sex            0\n",
       "BP             0\n",
       "Cholesterol    0\n",
       "Na_to_K        0\n",
       "Drug           0\n",
       "dtype: int64"
      ]
     },
     "execution_count": 132,
     "metadata": {},
     "output_type": "execute_result"
    }
   ],
   "source": [
    "data.isna().sum()"
   ]
  },
  {
   "cell_type": "markdown",
   "metadata": {},
   "source": [
    "### 2. Isolation Forest\n",
    "Dos de las principales implementaciones de Isolation Forest están disponibles en Scikit Learn. Si bien las dos están muy optimizadas, existen pequeñas diferencias a la hora de utilizarlas.\n",
    "\n",
    "En la implementación de Scikit Learn, al entrenar el modelo, se tiene que especificar el porcentaje de anomalías que se espera en los datos de entrenamiento (contamination). Con este valor, el modelo aprende el valor a partir del cual una observación se considera anomalía. Al aplicar el método predict() se obtiene -1 si es anomalía (outlier) o 1 si es un dato normal (inliers). Para recuperar la métrica de anomalía en lugar de la clasificación, hay que emplear el método score_samples(). Este último devuelve el valor negativo de la distancia de aislamiento, normalizada tal como se propone en el paper original."
   ]
  },
  {
   "cell_type": "code",
   "execution_count": 160,
   "metadata": {},
   "outputs": [
    {
     "data": {
      "text/html": [
       "<div>\n",
       "<style scoped>\n",
       "    .dataframe tbody tr th:only-of-type {\n",
       "        vertical-align: middle;\n",
       "    }\n",
       "\n",
       "    .dataframe tbody tr th {\n",
       "        vertical-align: top;\n",
       "    }\n",
       "\n",
       "    .dataframe thead th {\n",
       "        text-align: right;\n",
       "    }\n",
       "</style>\n",
       "<table border=\"1\" class=\"dataframe\">\n",
       "  <thead>\n",
       "    <tr style=\"text-align: right;\">\n",
       "      <th></th>\n",
       "      <th>index</th>\n",
       "      <th>Age</th>\n",
       "      <th>Na_to_K</th>\n",
       "      <th>atipico</th>\n",
       "      <th>Sex_F</th>\n",
       "      <th>Sex_M</th>\n",
       "      <th>BP_HIGH</th>\n",
       "      <th>BP_LOW</th>\n",
       "      <th>BP_NORMAL</th>\n",
       "      <th>Cholesterol_HIGH</th>\n",
       "      <th>Cholesterol_NORMAL</th>\n",
       "      <th>Drug_drugA</th>\n",
       "      <th>Drug_drugB</th>\n",
       "      <th>Drug_drugC</th>\n",
       "      <th>Drug_drugX</th>\n",
       "      <th>Drug_drugY</th>\n",
       "    </tr>\n",
       "  </thead>\n",
       "  <tbody>\n",
       "    <tr>\n",
       "      <th>0</th>\n",
       "      <td>0</td>\n",
       "      <td>23</td>\n",
       "      <td>25.355000</td>\n",
       "      <td>1</td>\n",
       "      <td>1</td>\n",
       "      <td>0</td>\n",
       "      <td>1</td>\n",
       "      <td>0</td>\n",
       "      <td>0</td>\n",
       "      <td>1</td>\n",
       "      <td>0</td>\n",
       "      <td>0</td>\n",
       "      <td>0</td>\n",
       "      <td>0</td>\n",
       "      <td>0</td>\n",
       "      <td>1</td>\n",
       "    </tr>\n",
       "    <tr>\n",
       "      <th>1</th>\n",
       "      <td>1</td>\n",
       "      <td>47</td>\n",
       "      <td>13.093000</td>\n",
       "      <td>1</td>\n",
       "      <td>0</td>\n",
       "      <td>1</td>\n",
       "      <td>0</td>\n",
       "      <td>1</td>\n",
       "      <td>0</td>\n",
       "      <td>1</td>\n",
       "      <td>0</td>\n",
       "      <td>0</td>\n",
       "      <td>0</td>\n",
       "      <td>1</td>\n",
       "      <td>0</td>\n",
       "      <td>0</td>\n",
       "    </tr>\n",
       "    <tr>\n",
       "      <th>2</th>\n",
       "      <td>2</td>\n",
       "      <td>47</td>\n",
       "      <td>10.114000</td>\n",
       "      <td>1</td>\n",
       "      <td>0</td>\n",
       "      <td>1</td>\n",
       "      <td>0</td>\n",
       "      <td>1</td>\n",
       "      <td>0</td>\n",
       "      <td>1</td>\n",
       "      <td>0</td>\n",
       "      <td>0</td>\n",
       "      <td>0</td>\n",
       "      <td>1</td>\n",
       "      <td>0</td>\n",
       "      <td>0</td>\n",
       "    </tr>\n",
       "    <tr>\n",
       "      <th>3</th>\n",
       "      <td>3</td>\n",
       "      <td>28</td>\n",
       "      <td>7.798000</td>\n",
       "      <td>1</td>\n",
       "      <td>1</td>\n",
       "      <td>0</td>\n",
       "      <td>0</td>\n",
       "      <td>0</td>\n",
       "      <td>1</td>\n",
       "      <td>1</td>\n",
       "      <td>0</td>\n",
       "      <td>0</td>\n",
       "      <td>0</td>\n",
       "      <td>0</td>\n",
       "      <td>1</td>\n",
       "      <td>0</td>\n",
       "    </tr>\n",
       "    <tr>\n",
       "      <th>4</th>\n",
       "      <td>4</td>\n",
       "      <td>61</td>\n",
       "      <td>18.043000</td>\n",
       "      <td>1</td>\n",
       "      <td>1</td>\n",
       "      <td>0</td>\n",
       "      <td>0</td>\n",
       "      <td>1</td>\n",
       "      <td>0</td>\n",
       "      <td>1</td>\n",
       "      <td>0</td>\n",
       "      <td>0</td>\n",
       "      <td>0</td>\n",
       "      <td>0</td>\n",
       "      <td>0</td>\n",
       "      <td>1</td>\n",
       "    </tr>\n",
       "    <tr>\n",
       "      <th>...</th>\n",
       "      <td>...</td>\n",
       "      <td>...</td>\n",
       "      <td>...</td>\n",
       "      <td>...</td>\n",
       "      <td>...</td>\n",
       "      <td>...</td>\n",
       "      <td>...</td>\n",
       "      <td>...</td>\n",
       "      <td>...</td>\n",
       "      <td>...</td>\n",
       "      <td>...</td>\n",
       "      <td>...</td>\n",
       "      <td>...</td>\n",
       "      <td>...</td>\n",
       "      <td>...</td>\n",
       "      <td>...</td>\n",
       "    </tr>\n",
       "    <tr>\n",
       "      <th>2194</th>\n",
       "      <td>1994</td>\n",
       "      <td>47</td>\n",
       "      <td>9.496631</td>\n",
       "      <td>1</td>\n",
       "      <td>1</td>\n",
       "      <td>0</td>\n",
       "      <td>0</td>\n",
       "      <td>0</td>\n",
       "      <td>1</td>\n",
       "      <td>0</td>\n",
       "      <td>1</td>\n",
       "      <td>0</td>\n",
       "      <td>1</td>\n",
       "      <td>0</td>\n",
       "      <td>0</td>\n",
       "      <td>0</td>\n",
       "    </tr>\n",
       "    <tr>\n",
       "      <th>2195</th>\n",
       "      <td>1995</td>\n",
       "      <td>64</td>\n",
       "      <td>25.799268</td>\n",
       "      <td>1</td>\n",
       "      <td>1</td>\n",
       "      <td>0</td>\n",
       "      <td>1</td>\n",
       "      <td>0</td>\n",
       "      <td>0</td>\n",
       "      <td>1</td>\n",
       "      <td>0</td>\n",
       "      <td>0</td>\n",
       "      <td>0</td>\n",
       "      <td>1</td>\n",
       "      <td>0</td>\n",
       "      <td>0</td>\n",
       "    </tr>\n",
       "    <tr>\n",
       "      <th>2196</th>\n",
       "      <td>1996</td>\n",
       "      <td>69</td>\n",
       "      <td>4.228428</td>\n",
       "      <td>1</td>\n",
       "      <td>0</td>\n",
       "      <td>1</td>\n",
       "      <td>0</td>\n",
       "      <td>1</td>\n",
       "      <td>0</td>\n",
       "      <td>1</td>\n",
       "      <td>0</td>\n",
       "      <td>0</td>\n",
       "      <td>0</td>\n",
       "      <td>1</td>\n",
       "      <td>0</td>\n",
       "      <td>0</td>\n",
       "    </tr>\n",
       "    <tr>\n",
       "      <th>2197</th>\n",
       "      <td>1997</td>\n",
       "      <td>39</td>\n",
       "      <td>9.429915</td>\n",
       "      <td>1</td>\n",
       "      <td>0</td>\n",
       "      <td>1</td>\n",
       "      <td>0</td>\n",
       "      <td>1</td>\n",
       "      <td>0</td>\n",
       "      <td>0</td>\n",
       "      <td>1</td>\n",
       "      <td>0</td>\n",
       "      <td>0</td>\n",
       "      <td>1</td>\n",
       "      <td>0</td>\n",
       "      <td>0</td>\n",
       "    </tr>\n",
       "    <tr>\n",
       "      <th>2198</th>\n",
       "      <td>1998</td>\n",
       "      <td>63</td>\n",
       "      <td>15.843422</td>\n",
       "      <td>1</td>\n",
       "      <td>1</td>\n",
       "      <td>0</td>\n",
       "      <td>0</td>\n",
       "      <td>1</td>\n",
       "      <td>0</td>\n",
       "      <td>1</td>\n",
       "      <td>0</td>\n",
       "      <td>0</td>\n",
       "      <td>1</td>\n",
       "      <td>0</td>\n",
       "      <td>0</td>\n",
       "      <td>0</td>\n",
       "    </tr>\n",
       "  </tbody>\n",
       "</table>\n",
       "<p>2199 rows × 16 columns</p>\n",
       "</div>"
      ],
      "text/plain": [
       "      index  Age    Na_to_K  atipico  Sex_F  Sex_M  BP_HIGH  BP_LOW  \\\n",
       "0         0   23  25.355000        1      1      0        1       0   \n",
       "1         1   47  13.093000        1      0      1        0       1   \n",
       "2         2   47  10.114000        1      0      1        0       1   \n",
       "3         3   28   7.798000        1      1      0        0       0   \n",
       "4         4   61  18.043000        1      1      0        0       1   \n",
       "...     ...  ...        ...      ...    ...    ...      ...     ...   \n",
       "2194   1994   47   9.496631        1      1      0        0       0   \n",
       "2195   1995   64  25.799268        1      1      0        1       0   \n",
       "2196   1996   69   4.228428        1      0      1        0       1   \n",
       "2197   1997   39   9.429915        1      0      1        0       1   \n",
       "2198   1998   63  15.843422        1      1      0        0       1   \n",
       "\n",
       "      BP_NORMAL  Cholesterol_HIGH  Cholesterol_NORMAL  Drug_drugA  Drug_drugB  \\\n",
       "0             0                 1                   0           0           0   \n",
       "1             0                 1                   0           0           0   \n",
       "2             0                 1                   0           0           0   \n",
       "3             1                 1                   0           0           0   \n",
       "4             0                 1                   0           0           0   \n",
       "...         ...               ...                 ...         ...         ...   \n",
       "2194          1                 0                   1           0           1   \n",
       "2195          0                 1                   0           0           0   \n",
       "2196          0                 1                   0           0           0   \n",
       "2197          0                 0                   1           0           0   \n",
       "2198          0                 1                   0           0           1   \n",
       "\n",
       "      Drug_drugC  Drug_drugX  Drug_drugY  \n",
       "0              0           0           1  \n",
       "1              1           0           0  \n",
       "2              1           0           0  \n",
       "3              0           1           0  \n",
       "4              0           0           1  \n",
       "...          ...         ...         ...  \n",
       "2194           0           0           0  \n",
       "2195           1           0           0  \n",
       "2196           1           0           0  \n",
       "2197           1           0           0  \n",
       "2198           0           0           0  \n",
       "\n",
       "[2199 rows x 16 columns]"
      ]
     },
     "execution_count": 160,
     "metadata": {},
     "output_type": "execute_result"
    }
   ],
   "source": [
    "#Preparación de los datos\n",
    "data_X = pd.get_dummies(pd.DataFrame(data))\n",
    "data_X"
   ]
  },
  {
   "cell_type": "code",
   "execution_count": 161,
   "metadata": {},
   "outputs": [],
   "source": [
    "# Definición y entrenamiento del modelo IsolationForest\n",
    "modelo_isof = IsolationForest(\n",
    "                n_estimators  = 1000,\n",
    "                max_samples   ='auto',\n",
    "                contamination = 0.01,\n",
    "                n_jobs        = -1,\n",
    "                random_state  = 123,\n",
    "            )"
   ]
  },
  {
   "cell_type": "code",
   "execution_count": 162,
   "metadata": {},
   "outputs": [
    {
     "name": "stderr",
     "output_type": "stream",
     "text": [
      "/home/davidsaw/anaconda3/lib/python3.7/site-packages/sklearn/base.py:442: UserWarning: X does not have valid feature names, but IsolationForest was fitted with feature names\n",
      "  \"X does not have valid feature names, but\"\n"
     ]
    },
    {
     "data": {
      "text/plain": [
       "IsolationForest(contamination=0.01, n_estimators=1000, n_jobs=-1,\n",
       "                random_state=123)"
      ]
     },
     "execution_count": 162,
     "metadata": {},
     "output_type": "execute_result"
    }
   ],
   "source": [
    "modelo_isof.fit(X=data_X)"
   ]
  },
  {
   "cell_type": "code",
   "execution_count": 163,
   "metadata": {
    "scrolled": false
   },
   "outputs": [
    {
     "name": "stderr",
     "output_type": "stream",
     "text": [
      "/home/davidsaw/anaconda3/lib/python3.7/site-packages/sklearn/base.py:442: UserWarning: X does not have valid feature names, but IsolationForest was fitted with feature names\n",
      "  \"X does not have valid feature names, but\"\n"
     ]
    },
    {
     "data": {
      "text/plain": [
       "array([1, 1, 1, 1, 1, 1, 1, 1, 1, 1])"
      ]
     },
     "execution_count": 163,
     "metadata": {},
     "output_type": "execute_result"
    }
   ],
   "source": [
    "# Predicción clasificación\n",
    "clasificacion_predicha = modelo_isof.predict(X=data_X)\n",
    "clasificacion_predicha[0:10]"
   ]
  },
  {
   "cell_type": "code",
   "execution_count": 164,
   "metadata": {},
   "outputs": [
    {
     "data": {
      "text/plain": [
       "22.0"
      ]
     },
     "execution_count": 164,
     "metadata": {},
     "output_type": "execute_result"
    }
   ],
   "source": [
    "(len(data)-sum(clasificacion_predicha))/2"
   ]
  },
  {
   "cell_type": "markdown",
   "metadata": {},
   "source": [
    "Con el método score_samples(), en lugar de la clasificación, se obtiene el valor de anomalía predicho por el modelo. Es importante destacar que este valor no es la distancia de aislamiento promedio, sino una normalización de la misma propuesta en el paper original.\n",
    "\n",
    "Como resultado de la normalización, y de multiplicarla por -1, los valores de anomalía quedan acotados en el rango [-1, 0]. Cuanto más próximo a -1 es el valor, mayor evidencia de anomalía. Valores entre -0.5 y 0 son los esperados para observaciones normales."
   ]
  },
  {
   "cell_type": "code",
   "execution_count": 165,
   "metadata": {},
   "outputs": [
    {
     "data": {
      "text/plain": [
       "array([-0.55438161, -0.53352951, -0.53466247, -0.54272197, -0.53947931,\n",
       "       -0.54796232, -0.53225214, -0.53645186, -0.53638248, -0.5253274 ])"
      ]
     },
     "execution_count": 165,
     "metadata": {},
     "output_type": "execute_result"
    }
   ],
   "source": [
    "# Predicción valor anomalía\n",
    "score_anomalia = modelo_isof.score_samples(X=data_X)\n",
    "score_anomalia[0:10]"
   ]
  },
  {
   "cell_type": "code",
   "execution_count": 166,
   "metadata": {
    "scrolled": false
   },
   "outputs": [
    {
     "name": "stderr",
     "output_type": "stream",
     "text": [
      "/home/davidsaw/anaconda3/lib/python3.7/site-packages/seaborn/distributions.py:2551: FutureWarning: `distplot` is a deprecated function and will be removed in a future version. Please adapt your code to use either `displot` (a figure-level function with similar flexibility) or `kdeplot` (an axes-level function for kernel density plots).\n",
      "  warnings.warn(msg, FutureWarning)\n",
      "/home/davidsaw/anaconda3/lib/python3.7/site-packages/seaborn/distributions.py:2055: FutureWarning: The `axis` variable is no longer used and will be removed. Instead, assign variables directly to `x` or `y`.\n",
      "  warnings.warn(msg, FutureWarning)\n"
     ]
    },
    {
     "data": {
      "image/png": "[encoded data removed]",
      "text/plain": [
       "<Figure size 504x252 with 1 Axes>"
      ]
     },
     "metadata": {
      "needs_background": "light"
     },
     "output_type": "display_data"
    }
   ],
   "source": [
    "#Gráfico\n",
    "# Distribución de los valores de anomalía\n",
    "# ==============================================================================\n",
    "fig, ax = plt.subplots(nrows=1, ncols=1, figsize=(7, 3.5))\n",
    "sns.distplot(\n",
    "    score_anomalia,\n",
    "    hist    = False,\n",
    "    rug     = True,\n",
    "    color   = 'blue',\n",
    "    kde_kws = {'shade': True, 'linewidth': 1},\n",
    "    ax      = ax\n",
    ")\n",
    "\n",
    "# ax.axvline(cuantil_01, c='red', linestyle='--', label='cuantil 0.01')\n",
    "ax.set_title('Distribución de los valores de anomalía')\n",
    "ax.set_xlabel('Score de anomalía');"
   ]
  },
  {
   "cell_type": "code",
   "execution_count": 167,
   "metadata": {},
   "outputs": [],
   "source": [
    "data['atipico']=clasificacion_predicha"
   ]
  },
  {
   "cell_type": "markdown",
   "metadata": {},
   "source": [
    "# 3. Test chi cuadrado\n",
    "La prueba de chi-cuadrado es un método de prueba de hipótesis ampliamente utilizado para contar datos. Pertenece a la categoría de pruebas no paramétricas y compara principalmente dos o más frecuencias de muestreo (proporciones de composición) y el análisis de correlación de dos variables categóricas. La idea básica es comparar el grado de ajuste o la bondad del ajuste entre la frecuencia teórica y la frecuencia real.\n",
    "\n",
    "La idea básica de la prueba de chi-cuadrado:\n",
    "\n",
    "La prueba de chi-cuadrado es $\\chi^2$ Un método de prueba de hipótesis común basado en la distribución.\n",
    "Su hipótesis básica H0 es: no hay diferencia entre la frecuencia observada y la frecuencia esperada.\n",
    "\n",
    "La idea básica de la prueba es: primero suponga que H0 se cumple y calcule según esta premisa $\\chi^2$ Valor, que indica el grado de desviación entre el valor observado y el valor teórico. De acuerdo a $\\chi^2$ La distribución y los grados de libertad determinan la probabilidad P de que se obtengan las estadísticas actuales y los casos más extremos cuando se cumple la hipótesis H0. Si el valor P es pequeño, indica que el valor observado se desvía demasiado del valor teórico, y la hipótesis nula debe rechazarse, lo que indica que existe una diferencia significativa entre los datos de comparación; de lo contrario, la hipótesis no válida no puede rechazarse, y la situación real y los supuestos teóricos representados por la muestra no pueden considerarse Hay diferencias\n",
    "\n",
    "#### 3.1 Ejercicio con los datos\n",
    "\n",
    "$H_0:$ No existe relación sobre las variables categóricas en la población\n",
    "\n",
    "$H_1:$ **Existe** relación sobre las variables categóricas en la población\n"
   ]
  },
  {
   "cell_type": "code",
   "execution_count": 172,
   "metadata": {},
   "outputs": [
    {
     "data": {
      "text/html": [
       "<div>\n",
       "<style scoped>\n",
       "    .dataframe tbody tr th:only-of-type {\n",
       "        vertical-align: middle;\n",
       "    }\n",
       "\n",
       "    .dataframe tbody tr th {\n",
       "        vertical-align: top;\n",
       "    }\n",
       "\n",
       "    .dataframe thead th {\n",
       "        text-align: right;\n",
       "    }\n",
       "</style>\n",
       "<table border=\"1\" class=\"dataframe\">\n",
       "  <thead>\n",
       "    <tr style=\"text-align: right;\">\n",
       "      <th>Cholesterol</th>\n",
       "      <th>HIGH</th>\n",
       "      <th>NORMAL</th>\n",
       "    </tr>\n",
       "    <tr>\n",
       "      <th>Drug</th>\n",
       "      <th></th>\n",
       "      <th></th>\n",
       "    </tr>\n",
       "  </thead>\n",
       "  <tbody>\n",
       "    <tr>\n",
       "      <th>drugA</th>\n",
       "      <td>223</td>\n",
       "      <td>186</td>\n",
       "    </tr>\n",
       "    <tr>\n",
       "      <th>drugB</th>\n",
       "      <td>219</td>\n",
       "      <td>212</td>\n",
       "    </tr>\n",
       "    <tr>\n",
       "      <th>drugC</th>\n",
       "      <td>200</td>\n",
       "      <td>210</td>\n",
       "    </tr>\n",
       "    <tr>\n",
       "      <th>drugX</th>\n",
       "      <td>207</td>\n",
       "      <td>246</td>\n",
       "    </tr>\n",
       "    <tr>\n",
       "      <th>drugY</th>\n",
       "      <td>245</td>\n",
       "      <td>251</td>\n",
       "    </tr>\n",
       "  </tbody>\n",
       "</table>\n",
       "</div>"
      ],
      "text/plain": [
       "Cholesterol  HIGH  NORMAL\n",
       "Drug                     \n",
       "drugA         223     186\n",
       "drugB         219     212\n",
       "drugC         200     210\n",
       "drugX         207     246\n",
       "drugY         245     251"
      ]
     },
     "execution_count": 172,
     "metadata": {},
     "output_type": "execute_result"
    }
   ],
   "source": [
    "#Incluir crosstab\n",
    "data_grupos=pd.crosstab(data['Drug'], data['Cholesterol'])\n",
    "data_grupos"
   ]
  },
  {
   "cell_type": "code",
   "execution_count": 173,
   "metadata": {},
   "outputs": [
    {
     "data": {
      "text/plain": [
       "(7.080128490276944, 0.1317139066683917, 4, array([[203.47703502, 205.52296498],\n",
       "        [214.42201   , 216.57799   ],\n",
       "        [203.97453388, 206.02546612],\n",
       "        [225.36698499, 227.63301501],\n",
       "        [246.75943611, 249.24056389]]))"
      ]
     },
     "execution_count": 173,
     "metadata": {},
     "output_type": "execute_result"
    }
   ],
   "source": [
    "#Prueba Chi\n",
    "kf = chi2_contingency(data_grupos)\n",
    "kf"
   ]
  },
  {
   "cell_type": "code",
   "execution_count": 174,
   "metadata": {},
   "outputs": [
    {
     "name": "stdout",
     "output_type": "stream",
     "text": [
      "chisq-statistic=7.0801, p-value=0.1317, df=4 expected_frep=[[203.47703502 205.52296498]\n",
      " [214.42201    216.57799   ]\n",
      " [203.97453388 206.02546612]\n",
      " [225.36698499 227.63301501]\n",
      " [246.75943611 249.24056389]]\n"
     ]
    }
   ],
   "source": [
    "print('chisq-statistic=%.4f, p-value=%.4f, df=%i expected_frep=%s'%kf)"
   ]
  },
  {
   "cell_type": "markdown",
   "metadata": {},
   "source": [
    "Conclusión: Debido a que el valor p > 0.05, aceptamos la hipótesis nula y creemos que no hay una diferencia significativa en los grupos"
   ]
  },
  {
   "cell_type": "markdown",
   "metadata": {},
   "source": [
    "### 4. Árbol de decisión\n",
    "Es uno de los algoritmos más potentes y populares. El algoritmo de árbol de decisiones se incluye en la categoría de algoritmos de aprendizaje supervisado. Funciona tanto para variables de salida continuas como categóricas.\n",
    "\n",
    "#### Gini\n",
    "El índice de Gini es una métrica para medir la frecuencia con la que un elemento elegido al azar se identificaría incorrectamente.\n",
    "Significa que se debe preferir un atributo con un índice de gini más bajo.\n",
    "Sklearn admite los criterios \"gini\" para el índice Gini y, de forma predeterminada, toma el valor \"gini\".\n",
    "\n",
    "#### Entropía\n",
    "La entropía es la medida de la incertidumbre de una variable aleatoria, caracteriza la impureza de una colección arbitraria de ejemplos. Cuanto mayor sea la entropía, mayor será el contenido de información.\n",
    "Ganancia de información\n",
    "La entropía generalmente cambia cuando usamos un nodo en un árbol de decisión para dividir las instancias de entrenamiento en subconjuntos más pequeños. La ganancia de información es una medida de este cambio en la entropía.\n",
    "Sklearn admite criterios de \"entropía\" para la ganancia de información y si queremos utilizar el método de ganancia de información en sklearn, debemos mencionarlo explícitamente.\n",
    "\n",
    "#### Métricas\n",
    "La puntuación de precisión(accuracy) se utiliza para calcular la precisión del clasificador entrenado.\n",
    "Matriz de confusión\n",
    "\n",
    "Matriz de confusión se utiliza para comprender el comportamiento del clasificador entrenado sobre el conjunto de datos de prueba o validar el conjunto de datos.\n"
   ]
  },
  {
   "cell_type": "code",
   "execution_count": 230,
   "metadata": {},
   "outputs": [],
   "source": [
    "#Separamos los datos en predictoras y predichas\n",
    "X = pd.get_dummies(data[['Na_to_K','Sex','Drug']].drop('Drug',axis=1))\n",
    "Y = data['Drug']"
   ]
  },
  {
   "cell_type": "code",
   "execution_count": 231,
   "metadata": {},
   "outputs": [
    {
     "data": {
      "text/html": [
       "<div>\n",
       "<style scoped>\n",
       "    .dataframe tbody tr th:only-of-type {\n",
       "        vertical-align: middle;\n",
       "    }\n",
       "\n",
       "    .dataframe tbody tr th {\n",
       "        vertical-align: top;\n",
       "    }\n",
       "\n",
       "    .dataframe thead th {\n",
       "        text-align: right;\n",
       "    }\n",
       "</style>\n",
       "<table border=\"1\" class=\"dataframe\">\n",
       "  <thead>\n",
       "    <tr style=\"text-align: right;\">\n",
       "      <th></th>\n",
       "      <th>Na_to_K</th>\n",
       "      <th>Sex_F</th>\n",
       "      <th>Sex_M</th>\n",
       "    </tr>\n",
       "  </thead>\n",
       "  <tbody>\n",
       "    <tr>\n",
       "      <th>0</th>\n",
       "      <td>25.355000</td>\n",
       "      <td>1</td>\n",
       "      <td>0</td>\n",
       "    </tr>\n",
       "    <tr>\n",
       "      <th>1</th>\n",
       "      <td>13.093000</td>\n",
       "      <td>0</td>\n",
       "      <td>1</td>\n",
       "    </tr>\n",
       "    <tr>\n",
       "      <th>2</th>\n",
       "      <td>10.114000</td>\n",
       "      <td>0</td>\n",
       "      <td>1</td>\n",
       "    </tr>\n",
       "    <tr>\n",
       "      <th>3</th>\n",
       "      <td>7.798000</td>\n",
       "      <td>1</td>\n",
       "      <td>0</td>\n",
       "    </tr>\n",
       "    <tr>\n",
       "      <th>4</th>\n",
       "      <td>18.043000</td>\n",
       "      <td>1</td>\n",
       "      <td>0</td>\n",
       "    </tr>\n",
       "    <tr>\n",
       "      <th>...</th>\n",
       "      <td>...</td>\n",
       "      <td>...</td>\n",
       "      <td>...</td>\n",
       "    </tr>\n",
       "    <tr>\n",
       "      <th>2194</th>\n",
       "      <td>9.496631</td>\n",
       "      <td>1</td>\n",
       "      <td>0</td>\n",
       "    </tr>\n",
       "    <tr>\n",
       "      <th>2195</th>\n",
       "      <td>25.799268</td>\n",
       "      <td>1</td>\n",
       "      <td>0</td>\n",
       "    </tr>\n",
       "    <tr>\n",
       "      <th>2196</th>\n",
       "      <td>4.228428</td>\n",
       "      <td>0</td>\n",
       "      <td>1</td>\n",
       "    </tr>\n",
       "    <tr>\n",
       "      <th>2197</th>\n",
       "      <td>9.429915</td>\n",
       "      <td>0</td>\n",
       "      <td>1</td>\n",
       "    </tr>\n",
       "    <tr>\n",
       "      <th>2198</th>\n",
       "      <td>15.843422</td>\n",
       "      <td>1</td>\n",
       "      <td>0</td>\n",
       "    </tr>\n",
       "  </tbody>\n",
       "</table>\n",
       "<p>2199 rows × 3 columns</p>\n",
       "</div>"
      ],
      "text/plain": [
       "        Na_to_K  Sex_F  Sex_M\n",
       "0     25.355000      1      0\n",
       "1     13.093000      0      1\n",
       "2     10.114000      0      1\n",
       "3      7.798000      1      0\n",
       "4     18.043000      1      0\n",
       "...         ...    ...    ...\n",
       "2194   9.496631      1      0\n",
       "2195  25.799268      1      0\n",
       "2196   4.228428      0      1\n",
       "2197   9.429915      0      1\n",
       "2198  15.843422      1      0\n",
       "\n",
       "[2199 rows x 3 columns]"
      ]
     },
     "execution_count": 231,
     "metadata": {},
     "output_type": "execute_result"
    }
   ],
   "source": [
    "X"
   ]
  },
  {
   "cell_type": "code",
   "execution_count": 232,
   "metadata": {},
   "outputs": [],
   "source": [
    "# Realizamos la base de prueba\n",
    "X_train, X_test, y_train, y_test = train_test_split( \n",
    "          X, Y, test_size = 0.3, random_state = 100)"
   ]
  },
  {
   "cell_type": "code",
   "execution_count": 233,
   "metadata": {},
   "outputs": [
    {
     "data": {
      "text/plain": [
       "DecisionTreeClassifier(max_depth=3, min_samples_leaf=5, random_state=100)"
      ]
     },
     "execution_count": 233,
     "metadata": {},
     "output_type": "execute_result"
    }
   ],
   "source": [
    "# Creamos el árbol de decisión con el criterio gini\n",
    "clf_gini = DecisionTreeClassifier(criterion = \"gini\",\n",
    "            random_state = 100,max_depth=3, min_samples_leaf=5)\n",
    "clf_gini"
   ]
  },
  {
   "cell_type": "code",
   "execution_count": 234,
   "metadata": {},
   "outputs": [],
   "source": [
    "# Creamos el árbol de decisión con el criterio de entropía\n",
    "clf_entropy = DecisionTreeClassifier(\n",
    "            criterion = \"entropy\", random_state = 100,\n",
    "            max_depth = 3, min_samples_leaf = 5)"
   ]
  },
  {
   "cell_type": "code",
   "execution_count": 235,
   "metadata": {},
   "outputs": [
    {
     "data": {
      "text/plain": [
       "DecisionTreeClassifier(criterion='entropy', max_depth=3, min_samples_leaf=5,\n",
       "                       random_state=100)"
      ]
     },
     "execution_count": 235,
     "metadata": {},
     "output_type": "execute_result"
    }
   ],
   "source": [
    "# Ajustamos los modelos\n",
    "clf_gini.fit(X_train, y_train)\n",
    "clf_entropy.fit(X_train, y_train)"
   ]
  },
  {
   "cell_type": "code",
   "execution_count": 236,
   "metadata": {},
   "outputs": [],
   "source": [
    "# Realizamos una función para la predicción\n",
    "def pred(X_test, clf):\n",
    "    # Predicton on test with giniIndex\n",
    "    y_pred = clf.predict(X_test)\n",
    "    print(\"Predicted values:\")\n",
    "    print(y_pred)\n",
    "    return y_pred"
   ]
  },
  {
   "cell_type": "code",
   "execution_count": 237,
   "metadata": {},
   "outputs": [
    {
     "name": "stdout",
     "output_type": "stream",
     "text": [
      "Predicted values:\n",
      "['drugX' 'drugY' 'drugX' 'drugY' 'drugX' 'drugC' 'drugY' 'drugY' 'drugX'\n",
      " 'drugX' 'drugY' 'drugX' 'drugY' 'drugX' 'drugC' 'drugX' 'drugX' 'drugC'\n",
      " 'drugX' 'drugY' 'drugY' 'drugC' 'drugX' 'drugX' 'drugY' 'drugY' 'drugY'\n",
      " 'drugY' 'drugX' 'drugX' 'drugY' 'drugX' 'drugX' 'drugY' 'drugX' 'drugX'\n",
      " 'drugY' 'drugX' 'drugX' 'drugY' 'drugY' 'drugX' 'drugY' 'drugX' 'drugY'\n",
      " 'drugX' 'drugY' 'drugX' 'drugX' 'drugX' 'drugC' 'drugY' 'drugY' 'drugY'\n",
      " 'drugY' 'drugY' 'drugX' 'drugY' 'drugX' 'drugX' 'drugY' 'drugY' 'drugY'\n",
      " 'drugX' 'drugY' 'drugY' 'drugX' 'drugX' 'drugX' 'drugX' 'drugY' 'drugC'\n",
      " 'drugC' 'drugY' 'drugX' 'drugX' 'drugX' 'drugY' 'drugY' 'drugY' 'drugC'\n",
      " 'drugY' 'drugX' 'drugY' 'drugX' 'drugX' 'drugY' 'drugX' 'drugX' 'drugY'\n",
      " 'drugX' 'drugX' 'drugY' 'drugC' 'drugX' 'drugX' 'drugC' 'drugX' 'drugX'\n",
      " 'drugX' 'drugY' 'drugC' 'drugY' 'drugX' 'drugX' 'drugC' 'drugX' 'drugX'\n",
      " 'drugX' 'drugX' 'drugX' 'drugC' 'drugY' 'drugC' 'drugX' 'drugX' 'drugY'\n",
      " 'drugX' 'drugY' 'drugY' 'drugY' 'drugY' 'drugX' 'drugX' 'drugX' 'drugC'\n",
      " 'drugY' 'drugY' 'drugX' 'drugX' 'drugC' 'drugX' 'drugY' 'drugY' 'drugC'\n",
      " 'drugY' 'drugX' 'drugX' 'drugY' 'drugX' 'drugX' 'drugY' 'drugY' 'drugY'\n",
      " 'drugX' 'drugX' 'drugX' 'drugA' 'drugX' 'drugY' 'drugY' 'drugC' 'drugY'\n",
      " 'drugX' 'drugC' 'drugY' 'drugX' 'drugY' 'drugY' 'drugX' 'drugX' 'drugX'\n",
      " 'drugY' 'drugX' 'drugX' 'drugY' 'drugY' 'drugY' 'drugY' 'drugY' 'drugX'\n",
      " 'drugX' 'drugX' 'drugX' 'drugX' 'drugC' 'drugX' 'drugX' 'drugY' 'drugY'\n",
      " 'drugX' 'drugX' 'drugY' 'drugX' 'drugY' 'drugY' 'drugC' 'drugY' 'drugX'\n",
      " 'drugA' 'drugY' 'drugX' 'drugX' 'drugY' 'drugX' 'drugY' 'drugX' 'drugX'\n",
      " 'drugX' 'drugY' 'drugY' 'drugY' 'drugX' 'drugC' 'drugC' 'drugX' 'drugX'\n",
      " 'drugX' 'drugY' 'drugC' 'drugY' 'drugY' 'drugY' 'drugY' 'drugC' 'drugX'\n",
      " 'drugY' 'drugX' 'drugY' 'drugX' 'drugY' 'drugY' 'drugY' 'drugY' 'drugY'\n",
      " 'drugX' 'drugY' 'drugY' 'drugY' 'drugX' 'drugX' 'drugX' 'drugX' 'drugX'\n",
      " 'drugY' 'drugY' 'drugX' 'drugX' 'drugC' 'drugY' 'drugX' 'drugC' 'drugX'\n",
      " 'drugY' 'drugY' 'drugX' 'drugX' 'drugY' 'drugX' 'drugC' 'drugY' 'drugX'\n",
      " 'drugX' 'drugX' 'drugX' 'drugX' 'drugY' 'drugX' 'drugC' 'drugY' 'drugX'\n",
      " 'drugX' 'drugX' 'drugY' 'drugX' 'drugB' 'drugX' 'drugX' 'drugY' 'drugC'\n",
      " 'drugY' 'drugY' 'drugC' 'drugY' 'drugY' 'drugY' 'drugY' 'drugY' 'drugY'\n",
      " 'drugY' 'drugY' 'drugY' 'drugX' 'drugX' 'drugY' 'drugX' 'drugX' 'drugX'\n",
      " 'drugX' 'drugY' 'drugX' 'drugC' 'drugX' 'drugX' 'drugY' 'drugC' 'drugX'\n",
      " 'drugY' 'drugC' 'drugY' 'drugX' 'drugY' 'drugX' 'drugC' 'drugY' 'drugX'\n",
      " 'drugY' 'drugX' 'drugX' 'drugX' 'drugX' 'drugX' 'drugX' 'drugY' 'drugX'\n",
      " 'drugC' 'drugX' 'drugX' 'drugY' 'drugY' 'drugC' 'drugY' 'drugX' 'drugX'\n",
      " 'drugX' 'drugX' 'drugX' 'drugY' 'drugX' 'drugX' 'drugY' 'drugX' 'drugX'\n",
      " 'drugC' 'drugY' 'drugY' 'drugC' 'drugX' 'drugC' 'drugY' 'drugX' 'drugX'\n",
      " 'drugX' 'drugY' 'drugY' 'drugX' 'drugY' 'drugX' 'drugX' 'drugX' 'drugX'\n",
      " 'drugX' 'drugY' 'drugY' 'drugY' 'drugX' 'drugY' 'drugY' 'drugX' 'drugY'\n",
      " 'drugY' 'drugY' 'drugX' 'drugX' 'drugX' 'drugC' 'drugY' 'drugY' 'drugY'\n",
      " 'drugX' 'drugY' 'drugX' 'drugX' 'drugX' 'drugY' 'drugX' 'drugY' 'drugY'\n",
      " 'drugX' 'drugC' 'drugY' 'drugX' 'drugX' 'drugC' 'drugY' 'drugX' 'drugC'\n",
      " 'drugX' 'drugY' 'drugX' 'drugY' 'drugY' 'drugC' 'drugY' 'drugX' 'drugY'\n",
      " 'drugC' 'drugC' 'drugX' 'drugY' 'drugX' 'drugX' 'drugX' 'drugX' 'drugY'\n",
      " 'drugX' 'drugC' 'drugX' 'drugX' 'drugX' 'drugY' 'drugX' 'drugX' 'drugX'\n",
      " 'drugY' 'drugC' 'drugX' 'drugY' 'drugY' 'drugX' 'drugX' 'drugC' 'drugY'\n",
      " 'drugC' 'drugX' 'drugX' 'drugX' 'drugX' 'drugY' 'drugX' 'drugY' 'drugY'\n",
      " 'drugB' 'drugX' 'drugX' 'drugX' 'drugY' 'drugX' 'drugX' 'drugX' 'drugX'\n",
      " 'drugX' 'drugX' 'drugX' 'drugX' 'drugX' 'drugX' 'drugX' 'drugY' 'drugX'\n",
      " 'drugX' 'drugX' 'drugY' 'drugY' 'drugC' 'drugY' 'drugX' 'drugX' 'drugY'\n",
      " 'drugX' 'drugX' 'drugX' 'drugX' 'drugY' 'drugY' 'drugY' 'drugX' 'drugY'\n",
      " 'drugY' 'drugX' 'drugY' 'drugX' 'drugX' 'drugC' 'drugC' 'drugX' 'drugX'\n",
      " 'drugY' 'drugY' 'drugX' 'drugX' 'drugY' 'drugX' 'drugY' 'drugX' 'drugX'\n",
      " 'drugY' 'drugX' 'drugX' 'drugX' 'drugX' 'drugX' 'drugX' 'drugY' 'drugX'\n",
      " 'drugC' 'drugX' 'drugX' 'drugX' 'drugY' 'drugY' 'drugX' 'drugX' 'drugY'\n",
      " 'drugX' 'drugX' 'drugX' 'drugY' 'drugY' 'drugX' 'drugX' 'drugX' 'drugX'\n",
      " 'drugX' 'drugC' 'drugX' 'drugX' 'drugX' 'drugX' 'drugY' 'drugX' 'drugX'\n",
      " 'drugY' 'drugX' 'drugX' 'drugX' 'drugY' 'drugC' 'drugY' 'drugX' 'drugX'\n",
      " 'drugX' 'drugX' 'drugX' 'drugY' 'drugX' 'drugX' 'drugX' 'drugY' 'drugC'\n",
      " 'drugY' 'drugX' 'drugX' 'drugB' 'drugY' 'drugX' 'drugX' 'drugX' 'drugC'\n",
      " 'drugC' 'drugX' 'drugX' 'drugC' 'drugY' 'drugB' 'drugY' 'drugY' 'drugY'\n",
      " 'drugC' 'drugX' 'drugC' 'drugX' 'drugC' 'drugX' 'drugC' 'drugY' 'drugY'\n",
      " 'drugX' 'drugX' 'drugY' 'drugX' 'drugX' 'drugC' 'drugY' 'drugX' 'drugX'\n",
      " 'drugY' 'drugX' 'drugX' 'drugX' 'drugX' 'drugX' 'drugX' 'drugY' 'drugY'\n",
      " 'drugY' 'drugX' 'drugC' 'drugX' 'drugC' 'drugY' 'drugX' 'drugX' 'drugY'\n",
      " 'drugX' 'drugC' 'drugX' 'drugX' 'drugY' 'drugX' 'drugY' 'drugX' 'drugX'\n",
      " 'drugX' 'drugY' 'drugY' 'drugY' 'drugX' 'drugX' 'drugY' 'drugC' 'drugY'\n",
      " 'drugC' 'drugC' 'drugX' 'drugX' 'drugY' 'drugX' 'drugY' 'drugY' 'drugY'\n",
      " 'drugX' 'drugC' 'drugY' 'drugX' 'drugX' 'drugX' 'drugX' 'drugX' 'drugX'\n",
      " 'drugY' 'drugX' 'drugY' 'drugX' 'drugX' 'drugX' 'drugY' 'drugX' 'drugX'\n",
      " 'drugC' 'drugY' 'drugX' 'drugY' 'drugX' 'drugC' 'drugY' 'drugX' 'drugY'\n",
      " 'drugY' 'drugX' 'drugX' 'drugY' 'drugX' 'drugY' 'drugY' 'drugY' 'drugC'\n",
      " 'drugC' 'drugY' 'drugX']\n"
     ]
    },
    {
     "data": {
      "text/plain": [
       "array(['drugX'], dtype=object)"
      ]
     },
     "execution_count": 237,
     "metadata": {},
     "output_type": "execute_result"
    }
   ],
   "source": [
    "pred(X_test,clf_entropy)[0:1]"
   ]
  },
  {
   "cell_type": "code",
   "execution_count": 238,
   "metadata": {},
   "outputs": [],
   "source": [
    "# Función para calcular las métricas\n",
    "def metricas(y_test, y_pred):\n",
    "    print(\"Matriz de confusión: \",\n",
    "        confusion_matrix(y_test, y_pred))\n",
    "      \n",
    "    print (\"Precisión : \",\n",
    "    accuracy_score(y_test,y_pred)*100)\n",
    "      \n",
    "    print(\"Reporte : \",\n",
    "    classification_report(y_test, y_pred))"
   ]
  },
  {
   "cell_type": "code",
   "execution_count": 239,
   "metadata": {
    "scrolled": false
   },
   "outputs": [
    {
     "name": "stdout",
     "output_type": "stream",
     "text": [
      "Predicted values:\n",
      "['drugX' 'drugY' 'drugX' 'drugY' 'drugX' 'drugC' 'drugY' 'drugY' 'drugX'\n",
      " 'drugX' 'drugY' 'drugX' 'drugY' 'drugX' 'drugC' 'drugX' 'drugX' 'drugC'\n",
      " 'drugX' 'drugY' 'drugY' 'drugC' 'drugX' 'drugX' 'drugY' 'drugY' 'drugY'\n",
      " 'drugY' 'drugX' 'drugX' 'drugY' 'drugX' 'drugX' 'drugY' 'drugX' 'drugX'\n",
      " 'drugY' 'drugX' 'drugX' 'drugY' 'drugY' 'drugX' 'drugY' 'drugX' 'drugY'\n",
      " 'drugX' 'drugY' 'drugX' 'drugX' 'drugX' 'drugC' 'drugY' 'drugY' 'drugY'\n",
      " 'drugY' 'drugY' 'drugX' 'drugY' 'drugX' 'drugX' 'drugY' 'drugY' 'drugY'\n",
      " 'drugX' 'drugY' 'drugY' 'drugX' 'drugX' 'drugX' 'drugX' 'drugY' 'drugC'\n",
      " 'drugC' 'drugY' 'drugX' 'drugX' 'drugX' 'drugY' 'drugY' 'drugY' 'drugC'\n",
      " 'drugY' 'drugX' 'drugY' 'drugX' 'drugX' 'drugY' 'drugX' 'drugX' 'drugY'\n",
      " 'drugX' 'drugX' 'drugY' 'drugC' 'drugX' 'drugX' 'drugC' 'drugX' 'drugX'\n",
      " 'drugX' 'drugY' 'drugC' 'drugY' 'drugX' 'drugX' 'drugC' 'drugX' 'drugX'\n",
      " 'drugX' 'drugX' 'drugX' 'drugC' 'drugY' 'drugC' 'drugX' 'drugX' 'drugY'\n",
      " 'drugX' 'drugY' 'drugY' 'drugY' 'drugY' 'drugX' 'drugX' 'drugX' 'drugC'\n",
      " 'drugY' 'drugY' 'drugX' 'drugX' 'drugC' 'drugX' 'drugY' 'drugY' 'drugC'\n",
      " 'drugY' 'drugX' 'drugX' 'drugY' 'drugX' 'drugX' 'drugY' 'drugY' 'drugY'\n",
      " 'drugX' 'drugX' 'drugX' 'drugA' 'drugX' 'drugY' 'drugY' 'drugC' 'drugY'\n",
      " 'drugX' 'drugC' 'drugY' 'drugX' 'drugY' 'drugY' 'drugX' 'drugX' 'drugX'\n",
      " 'drugY' 'drugX' 'drugX' 'drugY' 'drugY' 'drugY' 'drugY' 'drugY' 'drugX'\n",
      " 'drugX' 'drugX' 'drugX' 'drugX' 'drugC' 'drugX' 'drugX' 'drugY' 'drugY'\n",
      " 'drugX' 'drugX' 'drugY' 'drugX' 'drugY' 'drugY' 'drugC' 'drugY' 'drugX'\n",
      " 'drugA' 'drugY' 'drugX' 'drugX' 'drugY' 'drugX' 'drugY' 'drugX' 'drugX'\n",
      " 'drugX' 'drugY' 'drugY' 'drugY' 'drugX' 'drugC' 'drugC' 'drugX' 'drugX'\n",
      " 'drugX' 'drugY' 'drugC' 'drugY' 'drugY' 'drugY' 'drugY' 'drugC' 'drugX'\n",
      " 'drugY' 'drugX' 'drugY' 'drugX' 'drugY' 'drugY' 'drugY' 'drugY' 'drugY'\n",
      " 'drugX' 'drugY' 'drugY' 'drugY' 'drugX' 'drugX' 'drugX' 'drugX' 'drugX'\n",
      " 'drugY' 'drugY' 'drugX' 'drugX' 'drugC' 'drugY' 'drugX' 'drugC' 'drugX'\n",
      " 'drugY' 'drugY' 'drugX' 'drugX' 'drugY' 'drugX' 'drugC' 'drugY' 'drugX'\n",
      " 'drugX' 'drugX' 'drugX' 'drugX' 'drugY' 'drugX' 'drugC' 'drugY' 'drugX'\n",
      " 'drugX' 'drugX' 'drugY' 'drugX' 'drugB' 'drugX' 'drugX' 'drugY' 'drugC'\n",
      " 'drugY' 'drugY' 'drugC' 'drugY' 'drugY' 'drugY' 'drugY' 'drugY' 'drugY'\n",
      " 'drugY' 'drugY' 'drugY' 'drugX' 'drugX' 'drugY' 'drugX' 'drugX' 'drugX'\n",
      " 'drugX' 'drugY' 'drugX' 'drugC' 'drugX' 'drugX' 'drugY' 'drugC' 'drugX'\n",
      " 'drugY' 'drugC' 'drugY' 'drugX' 'drugY' 'drugX' 'drugC' 'drugY' 'drugX'\n",
      " 'drugY' 'drugX' 'drugX' 'drugX' 'drugX' 'drugX' 'drugX' 'drugY' 'drugX'\n",
      " 'drugC' 'drugX' 'drugX' 'drugY' 'drugY' 'drugC' 'drugY' 'drugX' 'drugX'\n",
      " 'drugX' 'drugX' 'drugX' 'drugY' 'drugX' 'drugX' 'drugY' 'drugX' 'drugX'\n",
      " 'drugC' 'drugY' 'drugY' 'drugC' 'drugX' 'drugC' 'drugY' 'drugX' 'drugX'\n",
      " 'drugX' 'drugY' 'drugY' 'drugX' 'drugY' 'drugX' 'drugX' 'drugX' 'drugX'\n",
      " 'drugX' 'drugY' 'drugY' 'drugY' 'drugX' 'drugY' 'drugY' 'drugX' 'drugY'\n",
      " 'drugY' 'drugY' 'drugX' 'drugX' 'drugX' 'drugC' 'drugY' 'drugY' 'drugY'\n",
      " 'drugX' 'drugY' 'drugX' 'drugX' 'drugX' 'drugY' 'drugX' 'drugY' 'drugY'\n",
      " 'drugX' 'drugC' 'drugY' 'drugX' 'drugX' 'drugC' 'drugY' 'drugX' 'drugC'\n",
      " 'drugX' 'drugY' 'drugX' 'drugY' 'drugY' 'drugC' 'drugY' 'drugX' 'drugY'\n",
      " 'drugC' 'drugC' 'drugX' 'drugY' 'drugX' 'drugX' 'drugX' 'drugX' 'drugY'\n",
      " 'drugX' 'drugC' 'drugX' 'drugX' 'drugX' 'drugY' 'drugX' 'drugX' 'drugX'\n",
      " 'drugY' 'drugC' 'drugX' 'drugY' 'drugY' 'drugX' 'drugX' 'drugC' 'drugY'\n",
      " 'drugC' 'drugX' 'drugX' 'drugX' 'drugX' 'drugY' 'drugX' 'drugY' 'drugY'\n",
      " 'drugB' 'drugX' 'drugX' 'drugX' 'drugY' 'drugX' 'drugX' 'drugX' 'drugX'\n",
      " 'drugX' 'drugX' 'drugX' 'drugX' 'drugX' 'drugX' 'drugX' 'drugY' 'drugX'\n",
      " 'drugX' 'drugX' 'drugY' 'drugY' 'drugC' 'drugY' 'drugX' 'drugX' 'drugY'\n",
      " 'drugX' 'drugX' 'drugX' 'drugX' 'drugY' 'drugY' 'drugY' 'drugX' 'drugY'\n",
      " 'drugY' 'drugX' 'drugY' 'drugX' 'drugX' 'drugC' 'drugC' 'drugX' 'drugX'\n",
      " 'drugY' 'drugY' 'drugX' 'drugX' 'drugY' 'drugX' 'drugY' 'drugX' 'drugX'\n",
      " 'drugY' 'drugX' 'drugX' 'drugX' 'drugX' 'drugX' 'drugX' 'drugY' 'drugX'\n",
      " 'drugC' 'drugX' 'drugX' 'drugX' 'drugY' 'drugY' 'drugX' 'drugX' 'drugY'\n",
      " 'drugX' 'drugX' 'drugX' 'drugY' 'drugY' 'drugX' 'drugX' 'drugX' 'drugX'\n",
      " 'drugX' 'drugC' 'drugX' 'drugX' 'drugX' 'drugX' 'drugY' 'drugX' 'drugX'\n",
      " 'drugY' 'drugX' 'drugX' 'drugX' 'drugY' 'drugC' 'drugY' 'drugX' 'drugX'\n",
      " 'drugX' 'drugX' 'drugX' 'drugY' 'drugX' 'drugX' 'drugX' 'drugY' 'drugC'\n",
      " 'drugY' 'drugX' 'drugX' 'drugB' 'drugY' 'drugX' 'drugX' 'drugX' 'drugC'\n",
      " 'drugC' 'drugX' 'drugX' 'drugC' 'drugY' 'drugB' 'drugY' 'drugY' 'drugY'\n",
      " 'drugC' 'drugX' 'drugC' 'drugX' 'drugC' 'drugX' 'drugC' 'drugY' 'drugY'\n",
      " 'drugX' 'drugX' 'drugY' 'drugX' 'drugX' 'drugC' 'drugY' 'drugX' 'drugX'\n",
      " 'drugY' 'drugX' 'drugX' 'drugX' 'drugX' 'drugX' 'drugX' 'drugY' 'drugY'\n",
      " 'drugY' 'drugX' 'drugC' 'drugX' 'drugC' 'drugY' 'drugX' 'drugX' 'drugY'\n",
      " 'drugX' 'drugC' 'drugX' 'drugX' 'drugY' 'drugX' 'drugY' 'drugX' 'drugX'\n",
      " 'drugX' 'drugY' 'drugY' 'drugY' 'drugX' 'drugX' 'drugY' 'drugC' 'drugY'\n",
      " 'drugC' 'drugC' 'drugX' 'drugX' 'drugY' 'drugX' 'drugY' 'drugY' 'drugY'\n",
      " 'drugX' 'drugC' 'drugY' 'drugX' 'drugX' 'drugX' 'drugX' 'drugX' 'drugX'\n",
      " 'drugY' 'drugX' 'drugY' 'drugX' 'drugX' 'drugX' 'drugY' 'drugX' 'drugX'\n",
      " 'drugC' 'drugY' 'drugX' 'drugY' 'drugX' 'drugC' 'drugY' 'drugX' 'drugY'\n",
      " 'drugY' 'drugX' 'drugX' 'drugY' 'drugX' 'drugY' 'drugY' 'drugY' 'drugC'\n",
      " 'drugC' 'drugY' 'drugX']\n",
      "Matriz de confusión:  [[ 0  0 13 66 37]\n",
      " [ 0  3 22 63 48]\n",
      " [ 1  1 14 61 43]\n",
      " [ 1  0 11 78 51]\n",
      " [ 0  0 17 68 62]]\n",
      "Precisión :  23.78787878787879\n",
      "Reporte :                precision    recall  f1-score   support\n",
      "\n",
      "       drugA       0.00      0.00      0.00       116\n",
      "       drugB       0.75      0.02      0.04       136\n",
      "       drugC       0.18      0.12      0.14       120\n",
      "       drugX       0.23      0.55      0.33       141\n",
      "       drugY       0.26      0.42      0.32       147\n",
      "\n",
      "    accuracy                           0.24       660\n",
      "   macro avg       0.28      0.22      0.17       660\n",
      "weighted avg       0.29      0.24      0.18       660\n",
      "\n"
     ]
    }
   ],
   "source": [
    "#Realizar las comparaciones\n",
    "metricas(y_test,pred(X_test,clf_entropy))"
   ]
  },
  {
   "cell_type": "code",
   "execution_count": 240,
   "metadata": {},
   "outputs": [
    {
     "data": {
      "image/svg+xml": [
       "<?xml version=\"1.0\" encoding=\"UTF-8\" standalone=\"no\"?>\n",
       "<!DOCTYPE svg PUBLIC \"-//W3C//DTD SVG 1.1//EN\"\n",
       " \"http://www.w3.org/Graphics/SVG/1.1/DTD/svg11.dtd\">\n",
       "<!-- Generated by graphviz version 2.43.0 (0)\n",
       " -->\n",
       "<!-- Title: Tree Pages: 1 -->\n",
       "<svg width=\"1721pt\" height=\"433pt\"\n",
       " viewBox=\"0.00 0.00 1721.00 433.00\" xmlns=\"http://www.w3.org/2000/svg\" xmlns:xlink=\"http://www.w3.org/1999/xlink\">\n",
       "<g id=\"graph0\" class=\"graph\" transform=\"scale(1 1) rotate(0) translate(4 429)\">\n",
       "<title>Tree</title>\n",
       "<polygon fill=\"white\" stroke=\"transparent\" points=\"-4,4 -4,-429 1717,-429 1717,4 -4,4\"/>\n",
       "<!-- 0 -->\n",
       "<g id=\"node1\" class=\"node\">\n",
       "<title>0</title>\n",
       "<polygon fill=\"#fef9fd\" stroke=\"black\" points=\"975.5,-425 718.5,-425 718.5,-342 975.5,-342 975.5,-425\"/>\n",
       "<text text-anchor=\"middle\" x=\"847\" y=\"-409.8\" font-family=\"Helvetica,sans-Serif\" font-size=\"14.00\">Na_to_K &lt;= 16.201</text>\n",
       "<text text-anchor=\"middle\" x=\"847\" y=\"-394.8\" font-family=\"Helvetica,sans-Serif\" font-size=\"14.00\">entropy = 2.318</text>\n",
       "<text text-anchor=\"middle\" x=\"847\" y=\"-379.8\" font-family=\"Helvetica,sans-Serif\" font-size=\"14.00\">samples = 1539</text>\n",
       "<text text-anchor=\"middle\" x=\"847\" y=\"-364.8\" font-family=\"Helvetica,sans-Serif\" font-size=\"14.00\">value = [293, 295, 290, 312, 349]</text>\n",
       "<text text-anchor=\"middle\" x=\"847\" y=\"-349.8\" font-family=\"Helvetica,sans-Serif\" font-size=\"14.00\">class = drugB</text>\n",
       "</g>\n",
       "<!-- 1 -->\n",
       "<g id=\"node2\" class=\"node\">\n",
       "<title>1</title>\n",
       "<polygon fill=\"#fbfbfe\" stroke=\"black\" points=\"775.5,-306 518.5,-306 518.5,-223 775.5,-223 775.5,-306\"/>\n",
       "<text text-anchor=\"middle\" x=\"647\" y=\"-290.8\" font-family=\"Helvetica,sans-Serif\" font-size=\"14.00\">Na_to_K &lt;= 3.192</text>\n",
       "<text text-anchor=\"middle\" x=\"647\" y=\"-275.8\" font-family=\"Helvetica,sans-Serif\" font-size=\"14.00\">entropy = 2.319</text>\n",
       "<text text-anchor=\"middle\" x=\"647\" y=\"-260.8\" font-family=\"Helvetica,sans-Serif\" font-size=\"14.00\">samples = 1060</text>\n",
       "<text text-anchor=\"middle\" x=\"647\" y=\"-245.8\" font-family=\"Helvetica,sans-Serif\" font-size=\"14.00\">value = [205, 218, 207, 235, 195]</text>\n",
       "<text text-anchor=\"middle\" x=\"647\" y=\"-230.8\" font-family=\"Helvetica,sans-Serif\" font-size=\"14.00\">class = drugA</text>\n",
       "</g>\n",
       "<!-- 0&#45;&gt;1 -->\n",
       "<g id=\"edge1\" class=\"edge\">\n",
       "<title>0&#45;&gt;1</title>\n",
       "<path fill=\"none\" stroke=\"black\" d=\"M777.61,-341.91C760.7,-332.02 742.5,-321.37 725.21,-311.25\"/>\n",
       "<polygon fill=\"black\" stroke=\"black\" points=\"726.67,-308.05 716.27,-306.02 723.13,-314.09 726.67,-308.05\"/>\n",
       "<text text-anchor=\"middle\" x=\"722.6\" y=\"-326.51\" font-family=\"Helvetica,sans-Serif\" font-size=\"14.00\">True</text>\n",
       "</g>\n",
       "<!-- 8 -->\n",
       "<g id=\"node9\" class=\"node\">\n",
       "<title>8</title>\n",
       "<polygon fill=\"#fbdef4\" stroke=\"black\" points=\"1180.5,-306 959.5,-306 959.5,-223 1180.5,-223 1180.5,-306\"/>\n",
       "<text text-anchor=\"middle\" x=\"1070\" y=\"-290.8\" font-family=\"Helvetica,sans-Serif\" font-size=\"14.00\">Na_to_K &lt;= 35.962</text>\n",
       "<text text-anchor=\"middle\" x=\"1070\" y=\"-275.8\" font-family=\"Helvetica,sans-Serif\" font-size=\"14.00\">entropy = 2.261</text>\n",
       "<text text-anchor=\"middle\" x=\"1070\" y=\"-260.8\" font-family=\"Helvetica,sans-Serif\" font-size=\"14.00\">samples = 479</text>\n",
       "<text text-anchor=\"middle\" x=\"1070\" y=\"-245.8\" font-family=\"Helvetica,sans-Serif\" font-size=\"14.00\">value = [88, 77, 83, 77, 154]</text>\n",
       "<text text-anchor=\"middle\" x=\"1070\" y=\"-230.8\" font-family=\"Helvetica,sans-Serif\" font-size=\"14.00\">class = drugB</text>\n",
       "</g>\n",
       "<!-- 0&#45;&gt;8 -->\n",
       "<g id=\"edge8\" class=\"edge\">\n",
       "<title>0&#45;&gt;8</title>\n",
       "<path fill=\"none\" stroke=\"black\" d=\"M924.37,-341.91C943.57,-331.83 964.26,-320.98 983.85,-310.7\"/>\n",
       "<polygon fill=\"black\" stroke=\"black\" points=\"985.54,-313.77 992.77,-306.02 982.29,-307.57 985.54,-313.77\"/>\n",
       "<text text-anchor=\"middle\" x=\"985.33\" y=\"-326.19\" font-family=\"Helvetica,sans-Serif\" font-size=\"14.00\">False</text>\n",
       "</g>\n",
       "<!-- 2 -->\n",
       "<g id=\"node3\" class=\"node\">\n",
       "<title>2</title>\n",
       "<polygon fill=\"#f3fdfc\" stroke=\"black\" points=\"428,-187 216,-187 216,-104 428,-104 428,-187\"/>\n",
       "<text text-anchor=\"middle\" x=\"322\" y=\"-171.8\" font-family=\"Helvetica,sans-Serif\" font-size=\"14.00\">Na_to_K &lt;= 2.458</text>\n",
       "<text text-anchor=\"middle\" x=\"322\" y=\"-156.8\" font-family=\"Helvetica,sans-Serif\" font-size=\"14.00\">entropy = 2.295</text>\n",
       "<text text-anchor=\"middle\" x=\"322\" y=\"-141.8\" font-family=\"Helvetica,sans-Serif\" font-size=\"14.00\">samples = 221</text>\n",
       "<text text-anchor=\"middle\" x=\"322\" y=\"-126.8\" font-family=\"Helvetica,sans-Serif\" font-size=\"14.00\">value = [40, 36, 59, 37, 49]</text>\n",
       "<text text-anchor=\"middle\" x=\"322\" y=\"-111.8\" font-family=\"Helvetica,sans-Serif\" font-size=\"14.00\">class = drugX</text>\n",
       "</g>\n",
       "<!-- 1&#45;&gt;2 -->\n",
       "<g id=\"edge2\" class=\"edge\">\n",
       "<title>1&#45;&gt;2</title>\n",
       "<path fill=\"none\" stroke=\"black\" d=\"M534.24,-222.91C503.01,-211.66 469.06,-199.44 437.66,-188.14\"/>\n",
       "<polygon fill=\"black\" stroke=\"black\" points=\"438.6,-184.76 428,-184.66 436.23,-191.34 438.6,-184.76\"/>\n",
       "</g>\n",
       "<!-- 5 -->\n",
       "<g id=\"node6\" class=\"node\">\n",
       "<title>5</title>\n",
       "<polygon fill=\"#fafafe\" stroke=\"black\" points=\"775.5,-187 518.5,-187 518.5,-104 775.5,-104 775.5,-187\"/>\n",
       "<text text-anchor=\"middle\" x=\"647\" y=\"-171.8\" font-family=\"Helvetica,sans-Serif\" font-size=\"14.00\">Na_to_K &lt;= 15.981</text>\n",
       "<text text-anchor=\"middle\" x=\"647\" y=\"-156.8\" font-family=\"Helvetica,sans-Serif\" font-size=\"14.00\">entropy = 2.312</text>\n",
       "<text text-anchor=\"middle\" x=\"647\" y=\"-141.8\" font-family=\"Helvetica,sans-Serif\" font-size=\"14.00\">samples = 839</text>\n",
       "<text text-anchor=\"middle\" x=\"647\" y=\"-126.8\" font-family=\"Helvetica,sans-Serif\" font-size=\"14.00\">value = [165, 182, 148, 198, 146]</text>\n",
       "<text text-anchor=\"middle\" x=\"647\" y=\"-111.8\" font-family=\"Helvetica,sans-Serif\" font-size=\"14.00\">class = drugA</text>\n",
       "</g>\n",
       "<!-- 1&#45;&gt;5 -->\n",
       "<g id=\"edge5\" class=\"edge\">\n",
       "<title>1&#45;&gt;5</title>\n",
       "<path fill=\"none\" stroke=\"black\" d=\"M647,-222.91C647,-214.65 647,-205.86 647,-197.3\"/>\n",
       "<polygon fill=\"black\" stroke=\"black\" points=\"650.5,-197.02 647,-187.02 643.5,-197.02 650.5,-197.02\"/>\n",
       "</g>\n",
       "<!-- 3 -->\n",
       "<g id=\"node4\" class=\"node\">\n",
       "<title>3</title>\n",
       "<polygon fill=\"#eefdfa\" stroke=\"black\" points=\"212,-68 0,-68 0,0 212,0 212,-68\"/>\n",
       "<text text-anchor=\"middle\" x=\"106\" y=\"-52.8\" font-family=\"Helvetica,sans-Serif\" font-size=\"14.00\">entropy = 2.3</text>\n",
       "<text text-anchor=\"middle\" x=\"106\" y=\"-37.8\" font-family=\"Helvetica,sans-Serif\" font-size=\"14.00\">samples = 185</text>\n",
       "<text text-anchor=\"middle\" x=\"106\" y=\"-22.8\" font-family=\"Helvetica,sans-Serif\" font-size=\"14.00\">value = [35, 36, 49, 29, 36]</text>\n",
       "<text text-anchor=\"middle\" x=\"106\" y=\"-7.8\" font-family=\"Helvetica,sans-Serif\" font-size=\"14.00\">class = drugX</text>\n",
       "</g>\n",
       "<!-- 2&#45;&gt;3 -->\n",
       "<g id=\"edge3\" class=\"edge\">\n",
       "<title>2&#45;&gt;3</title>\n",
       "<path fill=\"none\" stroke=\"black\" d=\"M241.88,-103.88C221.68,-93.64 200.08,-82.69 180.19,-72.61\"/>\n",
       "<polygon fill=\"black\" stroke=\"black\" points=\"181.68,-69.44 171.18,-68.04 178.52,-75.69 181.68,-69.44\"/>\n",
       "</g>\n",
       "<!-- 4 -->\n",
       "<g id=\"node5\" class=\"node\">\n",
       "<title>4</title>\n",
       "<polygon fill=\"#fce8f8\" stroke=\"black\" points=\"414.5,-68 229.5,-68 229.5,0 414.5,0 414.5,-68\"/>\n",
       "<text text-anchor=\"middle\" x=\"322\" y=\"-52.8\" font-family=\"Helvetica,sans-Serif\" font-size=\"14.00\">entropy = 1.922</text>\n",
       "<text text-anchor=\"middle\" x=\"322\" y=\"-37.8\" font-family=\"Helvetica,sans-Serif\" font-size=\"14.00\">samples = 36</text>\n",
       "<text text-anchor=\"middle\" x=\"322\" y=\"-22.8\" font-family=\"Helvetica,sans-Serif\" font-size=\"14.00\">value = [5, 0, 10, 8, 13]</text>\n",
       "<text text-anchor=\"middle\" x=\"322\" y=\"-7.8\" font-family=\"Helvetica,sans-Serif\" font-size=\"14.00\">class = drugB</text>\n",
       "</g>\n",
       "<!-- 2&#45;&gt;4 -->\n",
       "<g id=\"edge4\" class=\"edge\">\n",
       "<title>2&#45;&gt;4</title>\n",
       "<path fill=\"none\" stroke=\"black\" d=\"M322,-103.73C322,-95.52 322,-86.86 322,-78.56\"/>\n",
       "<polygon fill=\"black\" stroke=\"black\" points=\"325.5,-78.3 322,-68.3 318.5,-78.3 325.5,-78.3\"/>\n",
       "</g>\n",
       "<!-- 6 -->\n",
       "<g id=\"node7\" class=\"node\">\n",
       "<title>6</title>\n",
       "<polygon fill=\"#f9f9fe\" stroke=\"black\" points=\"689.5,-68 432.5,-68 432.5,0 689.5,0 689.5,-68\"/>\n",
       "<text text-anchor=\"middle\" x=\"561\" y=\"-52.8\" font-family=\"Helvetica,sans-Serif\" font-size=\"14.00\">entropy = 2.312</text>\n",
       "<text text-anchor=\"middle\" x=\"561\" y=\"-37.8\" font-family=\"Helvetica,sans-Serif\" font-size=\"14.00\">samples = 831</text>\n",
       "<text text-anchor=\"middle\" x=\"561\" y=\"-22.8\" font-family=\"Helvetica,sans-Serif\" font-size=\"14.00\">value = [164, 177, 146, 198, 146]</text>\n",
       "<text text-anchor=\"middle\" x=\"561\" y=\"-7.8\" font-family=\"Helvetica,sans-Serif\" font-size=\"14.00\">class = drugA</text>\n",
       "</g>\n",
       "<!-- 5&#45;&gt;6 -->\n",
       "<g id=\"edge6\" class=\"edge\">\n",
       "<title>5&#45;&gt;6</title>\n",
       "<path fill=\"none\" stroke=\"black\" d=\"M614.98,-103.73C607.96,-94.79 600.52,-85.32 593.48,-76.36\"/>\n",
       "<polygon fill=\"black\" stroke=\"black\" points=\"596.08,-74 587.15,-68.3 590.58,-78.33 596.08,-74\"/>\n",
       "</g>\n",
       "<!-- 7 -->\n",
       "<g id=\"node8\" class=\"node\">\n",
       "<title>7</title>\n",
       "<polygon fill=\"#bdf29c\" stroke=\"black\" points=\"874.5,-68 707.5,-68 707.5,0 874.5,0 874.5,-68\"/>\n",
       "<text text-anchor=\"middle\" x=\"791\" y=\"-52.8\" font-family=\"Helvetica,sans-Serif\" font-size=\"14.00\">entropy = 1.299</text>\n",
       "<text text-anchor=\"middle\" x=\"791\" y=\"-37.8\" font-family=\"Helvetica,sans-Serif\" font-size=\"14.00\">samples = 8</text>\n",
       "<text text-anchor=\"middle\" x=\"791\" y=\"-22.8\" font-family=\"Helvetica,sans-Serif\" font-size=\"14.00\">value = [1, 5, 2, 0, 0]</text>\n",
       "<text text-anchor=\"middle\" x=\"791\" y=\"-7.8\" font-family=\"Helvetica,sans-Serif\" font-size=\"14.00\">class = drugC</text>\n",
       "</g>\n",
       "<!-- 5&#45;&gt;7 -->\n",
       "<g id=\"edge7\" class=\"edge\">\n",
       "<title>5&#45;&gt;7</title>\n",
       "<path fill=\"none\" stroke=\"black\" d=\"M700.62,-103.73C713.21,-94.15 726.61,-83.96 739.13,-74.44\"/>\n",
       "<polygon fill=\"black\" stroke=\"black\" points=\"741.37,-77.14 747.21,-68.3 737.13,-71.57 741.37,-77.14\"/>\n",
       "</g>\n",
       "<!-- 9 -->\n",
       "<g id=\"node10\" class=\"node\">\n",
       "<title>9</title>\n",
       "<polygon fill=\"#f9d3f1\" stroke=\"black\" points=\"1180.5,-187 959.5,-187 959.5,-104 1180.5,-104 1180.5,-187\"/>\n",
       "<text text-anchor=\"middle\" x=\"1070\" y=\"-171.8\" font-family=\"Helvetica,sans-Serif\" font-size=\"14.00\">Na_to_K &lt;= 16.662</text>\n",
       "<text text-anchor=\"middle\" x=\"1070\" y=\"-156.8\" font-family=\"Helvetica,sans-Serif\" font-size=\"14.00\">entropy = 2.226</text>\n",
       "<text text-anchor=\"middle\" x=\"1070\" y=\"-141.8\" font-family=\"Helvetica,sans-Serif\" font-size=\"14.00\">samples = 355</text>\n",
       "<text text-anchor=\"middle\" x=\"1070\" y=\"-126.8\" font-family=\"Helvetica,sans-Serif\" font-size=\"14.00\">value = [59, 58, 61, 51, 126]</text>\n",
       "<text text-anchor=\"middle\" x=\"1070\" y=\"-111.8\" font-family=\"Helvetica,sans-Serif\" font-size=\"14.00\">class = drugB</text>\n",
       "</g>\n",
       "<!-- 8&#45;&gt;9 -->\n",
       "<g id=\"edge9\" class=\"edge\">\n",
       "<title>8&#45;&gt;9</title>\n",
       "<path fill=\"none\" stroke=\"black\" d=\"M1070,-222.91C1070,-214.65 1070,-205.86 1070,-197.3\"/>\n",
       "<polygon fill=\"black\" stroke=\"black\" points=\"1073.5,-197.02 1070,-187.02 1066.5,-197.02 1073.5,-197.02\"/>\n",
       "</g>\n",
       "<!-- 12 -->\n",
       "<g id=\"node13\" class=\"node\">\n",
       "<title>12</title>\n",
       "<polygon fill=\"#fffefd\" stroke=\"black\" points=\"1506,-187 1294,-187 1294,-104 1506,-104 1506,-187\"/>\n",
       "<text text-anchor=\"middle\" x=\"1400\" y=\"-171.8\" font-family=\"Helvetica,sans-Serif\" font-size=\"14.00\">Na_to_K &lt;= 37.148</text>\n",
       "<text text-anchor=\"middle\" x=\"1400\" y=\"-156.8\" font-family=\"Helvetica,sans-Serif\" font-size=\"14.00\">entropy = 2.305</text>\n",
       "<text text-anchor=\"middle\" x=\"1400\" y=\"-141.8\" font-family=\"Helvetica,sans-Serif\" font-size=\"14.00\">samples = 124</text>\n",
       "<text text-anchor=\"middle\" x=\"1400\" y=\"-126.8\" font-family=\"Helvetica,sans-Serif\" font-size=\"14.00\">value = [29, 19, 22, 26, 28]</text>\n",
       "<text text-anchor=\"middle\" x=\"1400\" y=\"-111.8\" font-family=\"Helvetica,sans-Serif\" font-size=\"14.00\">class = drugY</text>\n",
       "</g>\n",
       "<!-- 8&#45;&gt;12 -->\n",
       "<g id=\"edge12\" class=\"edge\">\n",
       "<title>8&#45;&gt;12</title>\n",
       "<path fill=\"none\" stroke=\"black\" d=\"M1180.8,-224.22C1214.04,-212.43 1250.57,-199.48 1284.12,-187.59\"/>\n",
       "<polygon fill=\"black\" stroke=\"black\" points=\"1285.7,-190.74 1293.96,-184.1 1283.36,-184.14 1285.7,-190.74\"/>\n",
       "</g>\n",
       "<!-- 10 -->\n",
       "<g id=\"node11\" class=\"node\">\n",
       "<title>10</title>\n",
       "<polygon fill=\"#fdf0fa\" stroke=\"black\" points=\"1059.5,-68 892.5,-68 892.5,0 1059.5,0 1059.5,-68\"/>\n",
       "<text text-anchor=\"middle\" x=\"976\" y=\"-52.8\" font-family=\"Helvetica,sans-Serif\" font-size=\"14.00\">entropy = 1.907</text>\n",
       "<text text-anchor=\"middle\" x=\"976\" y=\"-37.8\" font-family=\"Helvetica,sans-Serif\" font-size=\"14.00\">samples = 18</text>\n",
       "<text text-anchor=\"middle\" x=\"976\" y=\"-22.8\" font-family=\"Helvetica,sans-Serif\" font-size=\"14.00\">value = [5, 0, 2, 5, 6]</text>\n",
       "<text text-anchor=\"middle\" x=\"976\" y=\"-7.8\" font-family=\"Helvetica,sans-Serif\" font-size=\"14.00\">class = drugB</text>\n",
       "</g>\n",
       "<!-- 9&#45;&gt;10 -->\n",
       "<g id=\"edge10\" class=\"edge\">\n",
       "<title>9&#45;&gt;10</title>\n",
       "<path fill=\"none\" stroke=\"black\" d=\"M1035,-103.73C1027.25,-94.7 1019.03,-85.12 1011.27,-76.08\"/>\n",
       "<polygon fill=\"black\" stroke=\"black\" points=\"1013.76,-73.61 1004.59,-68.3 1008.44,-78.17 1013.76,-73.61\"/>\n",
       "</g>\n",
       "<!-- 11 -->\n",
       "<g id=\"node12\" class=\"node\">\n",
       "<title>11</title>\n",
       "<polygon fill=\"#f9d4f1\" stroke=\"black\" points=\"1298.5,-68 1077.5,-68 1077.5,0 1298.5,0 1298.5,-68\"/>\n",
       "<text text-anchor=\"middle\" x=\"1188\" y=\"-52.8\" font-family=\"Helvetica,sans-Serif\" font-size=\"14.00\">entropy = 2.223</text>\n",
       "<text text-anchor=\"middle\" x=\"1188\" y=\"-37.8\" font-family=\"Helvetica,sans-Serif\" font-size=\"14.00\">samples = 337</text>\n",
       "<text text-anchor=\"middle\" x=\"1188\" y=\"-22.8\" font-family=\"Helvetica,sans-Serif\" font-size=\"14.00\">value = [54, 58, 59, 46, 120]</text>\n",
       "<text text-anchor=\"middle\" x=\"1188\" y=\"-7.8\" font-family=\"Helvetica,sans-Serif\" font-size=\"14.00\">class = drugB</text>\n",
       "</g>\n",
       "<!-- 9&#45;&gt;11 -->\n",
       "<g id=\"edge11\" class=\"edge\">\n",
       "<title>9&#45;&gt;11</title>\n",
       "<path fill=\"none\" stroke=\"black\" d=\"M1113.94,-103.73C1123.96,-94.42 1134.61,-84.54 1144.61,-75.26\"/>\n",
       "<polygon fill=\"black\" stroke=\"black\" points=\"1147.17,-77.67 1152.12,-68.3 1142.4,-72.54 1147.17,-77.67\"/>\n",
       "</g>\n",
       "<!-- 13 -->\n",
       "<g id=\"node14\" class=\"node\">\n",
       "<title>13</title>\n",
       "<polygon fill=\"#f6d5bd\" stroke=\"black\" points=\"1483.5,-68 1316.5,-68 1316.5,0 1483.5,0 1483.5,-68\"/>\n",
       "<text text-anchor=\"middle\" x=\"1400\" y=\"-52.8\" font-family=\"Helvetica,sans-Serif\" font-size=\"14.00\">entropy = 1.73</text>\n",
       "<text text-anchor=\"middle\" x=\"1400\" y=\"-37.8\" font-family=\"Helvetica,sans-Serif\" font-size=\"14.00\">samples = 12</text>\n",
       "<text text-anchor=\"middle\" x=\"1400\" y=\"-22.8\" font-family=\"Helvetica,sans-Serif\" font-size=\"14.00\">value = [6, 0, 3, 1, 2]</text>\n",
       "<text text-anchor=\"middle\" x=\"1400\" y=\"-7.8\" font-family=\"Helvetica,sans-Serif\" font-size=\"14.00\">class = drugY</text>\n",
       "</g>\n",
       "<!-- 12&#45;&gt;13 -->\n",
       "<g id=\"edge13\" class=\"edge\">\n",
       "<title>12&#45;&gt;13</title>\n",
       "<path fill=\"none\" stroke=\"black\" d=\"M1400,-103.73C1400,-95.52 1400,-86.86 1400,-78.56\"/>\n",
       "<polygon fill=\"black\" stroke=\"black\" points=\"1403.5,-78.3 1400,-68.3 1396.5,-78.3 1403.5,-78.3\"/>\n",
       "</g>\n",
       "<!-- 14 -->\n",
       "<g id=\"node15\" class=\"node\">\n",
       "<title>14</title>\n",
       "<polygon fill=\"#fffdfe\" stroke=\"black\" points=\"1713,-68 1501,-68 1501,0 1713,0 1713,-68\"/>\n",
       "<text text-anchor=\"middle\" x=\"1607\" y=\"-52.8\" font-family=\"Helvetica,sans-Serif\" font-size=\"14.00\">entropy = 2.309</text>\n",
       "<text text-anchor=\"middle\" x=\"1607\" y=\"-37.8\" font-family=\"Helvetica,sans-Serif\" font-size=\"14.00\">samples = 112</text>\n",
       "<text text-anchor=\"middle\" x=\"1607\" y=\"-22.8\" font-family=\"Helvetica,sans-Serif\" font-size=\"14.00\">value = [23, 19, 19, 25, 26]</text>\n",
       "<text text-anchor=\"middle\" x=\"1607\" y=\"-7.8\" font-family=\"Helvetica,sans-Serif\" font-size=\"14.00\">class = drugB</text>\n",
       "</g>\n",
       "<!-- 12&#45;&gt;14 -->\n",
       "<g id=\"edge14\" class=\"edge\">\n",
       "<title>12&#45;&gt;14</title>\n",
       "<path fill=\"none\" stroke=\"black\" d=\"M1476.78,-103.88C1496.05,-93.69 1516.65,-82.79 1535.64,-72.75\"/>\n",
       "<polygon fill=\"black\" stroke=\"black\" points=\"1537.33,-75.81 1544.53,-68.04 1534.06,-69.63 1537.33,-75.81\"/>\n",
       "</g>\n",
       "</g>\n",
       "</svg>\n"
      ],
      "text/plain": [
       "<graphviz.files.Source at 0x7f0f68cade10>"
      ]
     },
     "execution_count": 240,
     "metadata": {},
     "output_type": "execute_result"
    }
   ],
   "source": [
    "# Crear gráfico\n",
    "dot_data = tree.export_graphviz(clf_entropy, out_file=None, \n",
    "                                feature_names=X.columns,  \n",
    "                                class_names=data['Drug'].unique(),\n",
    "                                filled=True)\n",
    "# Mostrar el gráfico\n",
    "graph = graphviz.Source(dot_data, format=\"png\") \n",
    "graph"
   ]
  },
  {
   "cell_type": "markdown",
   "metadata": {},
   "source": [
    "### 5. Curva ROC\n",
    "Las curvas ROC suelen presentar una tasa de verdaderos positivos en el eje Y y una tasa de falsos positivos en el eje X. Esto significa que la esquina superior izquierda de la gráfica es el punto \"ideal\": una tasa de falsos positivos de cero y una tasa de verdaderos positivos de uno. Esto no es muy realista, pero significa que un área más grande bajo la curva (AUC) suele ser mejor.\n",
    "\n",
    "La \"inclinación\" de las curvas ROC también es importante, ya que es ideal para maximizar la tasa de verdaderos positivos mientras se minimiza la tasa de falsos positivos.\n",
    "\n",
    "Las curvas ROC se utilizan normalmente en la clasificación binaria para estudiar la salida de un clasificador. Para extender la curva ROC y el área ROC a la clasificación de etiquetas múltiples, es necesario binarizar la salida. Se puede dibujar una curva ROC por etiqueta, pero también se puede dibujar una curva ROC considerando cada elemento de la matriz del indicador de etiqueta como una predicción binaria (micropromedio).\n"
   ]
  },
  {
   "cell_type": "code",
   "execution_count": 202,
   "metadata": {},
   "outputs": [],
   "source": [
    "# Binarize the output\n",
    "y = label_binarize(Y, classes=['drugA', 'drugB','drugC' ,'drugX', 'drugY'])\n",
    "n_classes = y.shape[1]"
   ]
  },
  {
   "cell_type": "code",
   "execution_count": 203,
   "metadata": {
    "scrolled": false
   },
   "outputs": [
    {
     "data": {
      "text/plain": [
       "array([[0, 0, 0, 0, 1],\n",
       "       [0, 0, 1, 0, 0],\n",
       "       [0, 0, 1, 0, 0],\n",
       "       [0, 0, 0, 1, 0],\n",
       "       [0, 0, 0, 0, 1],\n",
       "       [0, 0, 0, 1, 0],\n",
       "       [0, 0, 0, 0, 1],\n",
       "       [0, 0, 1, 0, 0],\n",
       "       [0, 0, 0, 0, 1],\n",
       "       [0, 0, 0, 0, 1]])"
      ]
     },
     "execution_count": 203,
     "metadata": {},
     "output_type": "execute_result"
    }
   ],
   "source": [
    "y[0:10]"
   ]
  },
  {
   "cell_type": "code",
   "execution_count": 204,
   "metadata": {},
   "outputs": [],
   "source": [
    "def plot_multiclass_roc(clf, X_test, y_test, n_classes, figsize=(17, 6)):\n",
    "    y_score = clf.predict_proba(X_test)\n",
    "\n",
    "    # estructura de datos\n",
    "    fpr = dict()\n",
    "    tpr = dict()\n",
    "    roc_auc = dict()\n",
    "\n",
    "    # calcular los dummies\n",
    "    y_test_dummies = pd.get_dummies(y_test, drop_first=False).values\n",
    "    for i in range(n_classes):\n",
    "        fpr[i], tpr[i], _ = roc_curve(y_test_dummies[:, i], y_score[:, i])\n",
    "        roc_auc[i] = auc(fpr[i], tpr[i])\n",
    "\n",
    "    # roc para cada clase\n",
    "    fig, ax = plt.subplots(figsize=figsize)\n",
    "    ax.plot([0, 1], [0, 1], 'k--')\n",
    "    ax.set_xlim([0.0, 1.0])\n",
    "    ax.set_ylim([0.0, 1.05])\n",
    "    ax.set_xlabel('False Positive Rate')\n",
    "    ax.set_ylabel('True Positive Rate')\n",
    "    ax.set_title('Receiver operating characteristic example')\n",
    "    for i in range(n_classes):\n",
    "        ax.plot(fpr[i], tpr[i], label='ROC curve (area = %0.2f) for label %i' % (roc_auc[i], i))\n",
    "    ax.legend(loc=\"best\")\n",
    "    ax.grid(alpha=.4)\n",
    "    sns.despine()\n",
    "    plt.show()"
   ]
  },
  {
   "cell_type": "code",
   "execution_count": 241,
   "metadata": {},
   "outputs": [
    {
     "data": {
      "image/png": "[encoded data removed]",
      "text/plain": [
       "<Figure size 1152x720 with 1 Axes>"
      ]
     },
     "metadata": {
      "needs_background": "light"
     },
     "output_type": "display_data"
    }
   ],
   "source": [
    "plot_multiclass_roc(clf_entropy, X_test, y_test, n_classes=5, figsize=(16, 10))"
   ]
  },
  {
   "cell_type": "markdown",
   "metadata": {},
   "source": [
    "### Extensión\n",
    "1. Realice el analisis de outliers con la edad\n",
    "2. Realice la prueba chi con menos variables\n",
    "3. Cambie las variables del clasificador para obtener mejor ajuste\n",
    "4. Si es necesario eliminar variables\n",
    "5. Crear una simulación diferente que sea similar a los gráficos originales(diferente a la vista en el notebook de ser posible), utilizar el comando _random.seed(202120)_ en el bloque de aleatoriedad\n",
    "6. Hacer el test chi para todas las variables categóricas\n",
    "7. Crear a través de gridsearch el mejor modelo(con métricas buenas), utilizando también los puntos anteriores\n",
    " "
   ]
  }
 ],
 "metadata": {
  "kernelspec": {
   "display_name": "Python 3",
   "language": "python",
   "name": "python3"
  },
  "language_info": {
   "codemirror_mode": {
    "name": "ipython",
    "version": 3
   },
   "file_extension": ".py",
   "mimetype": "text/x-python",
   "name": "python",
   "nbconvert_exporter": "python",
   "pygments_lexer": "ipython3",
   "version": "3.7.3"
  }
 },
 "nbformat": 4,
 "nbformat_minor": 5
}
