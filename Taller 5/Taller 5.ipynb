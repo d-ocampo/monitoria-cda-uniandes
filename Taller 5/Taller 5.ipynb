{
 "cells": [
  {
   "cell_type": "markdown",
   "metadata": {},
   "source": [
    "# Ciencia de datos aplicada\n",
    "\n",
    "## Taller 5\n",
    "\n",
    "### Contexto\n",
    "Imagine that you are a medical researcher compiling data for a study. You have collected data about a set of patients, all of whom suffered from the same illness. During their course of treatment, each patient responded to one of 5 medications, Drug A, Drug B, Drug c, Drug x and y.\n",
    "\n",
    "Part of your job is to build a model to find out which drug might be appropriate for a future patient with the same illness. The features of this dataset are Age, Sex, Blood Pressure, and the Cholesterol of the patients, and the target is the drug that each patient responded to.\n",
    "\n",
    "It is a sample of multiclass classifier, and you can use the training part of the dataset to build a decision tree, and then use it to predict the class of a unknown patient, or to prescribe a drug to a new patient\n",
    " \n",
    "https://www.kaggle.com/pablomgomez21/drugs-a-b-c-x-y-for-decision-trees"
   ]
  },
  {
   "cell_type": "markdown",
   "metadata": {},
   "source": [
    "### 1. Importación de librerías y datos\n",
    "\n",
    "En las siguientes líneas de código se importan las librerías, datos y herramientas necesarias para desarrollar el caso de uso."
   ]
  },
  {
   "cell_type": "code",
   "execution_count": 50,
   "metadata": {},
   "outputs": [],
   "source": [
    "#Librería de manejo de datos\n",
    "import pandas as pd\n",
    "\n",
    "import numpy as np\n",
    "\n",
    "# Detección de anomálias\n",
    "from sklearn.ensemble import IsolationForest\n",
    "from sklearn.pipeline import make_pipeline\n",
    "from sklearn.preprocessing import StandardScaler\n",
    "\n",
    "# Arbol de decisión y sus métricas\n",
    "from sklearn.metrics import confusion_matrix\n",
    "from sklearn.model_selection import train_test_split\n",
    "from sklearn.tree import DecisionTreeClassifier\n",
    "from sklearn import tree\n",
    "from sklearn.metrics import accuracy_score\n",
    "from sklearn.metrics import classification_report\n",
    "from sklearn.preprocessing import label_binarize\n",
    "from sklearn.metrics import roc_curve, auc\n",
    "import random\n",
    "\n",
    "#Gráficos\n",
    "import matplotlib.pyplot as plt\n",
    "from matplotlib import style\n",
    "import seaborn as sns\n",
    "import graphviz\n",
    "\n",
    "#Prueba chi cuadrado\n",
    "from  scipy.stats import chi2_contingency"
   ]
  },
  {
   "cell_type": "code",
   "execution_count": 2,
   "metadata": {
    "scrolled": true
   },
   "outputs": [
    {
     "data": {
      "text/html": [
       "<div>\n",
       "<style scoped>\n",
       "    .dataframe tbody tr th:only-of-type {\n",
       "        vertical-align: middle;\n",
       "    }\n",
       "\n",
       "    .dataframe tbody tr th {\n",
       "        vertical-align: top;\n",
       "    }\n",
       "\n",
       "    .dataframe thead th {\n",
       "        text-align: right;\n",
       "    }\n",
       "</style>\n",
       "<table border=\"1\" class=\"dataframe\">\n",
       "  <thead>\n",
       "    <tr style=\"text-align: right;\">\n",
       "      <th></th>\n",
       "      <th>Age</th>\n",
       "      <th>Sex</th>\n",
       "      <th>BP</th>\n",
       "      <th>Cholesterol</th>\n",
       "      <th>Na_to_K</th>\n",
       "      <th>Drug</th>\n",
       "    </tr>\n",
       "  </thead>\n",
       "  <tbody>\n",
       "    <tr>\n",
       "      <th>0</th>\n",
       "      <td>23</td>\n",
       "      <td>F</td>\n",
       "      <td>HIGH</td>\n",
       "      <td>HIGH</td>\n",
       "      <td>25.355</td>\n",
       "      <td>drugY</td>\n",
       "    </tr>\n",
       "    <tr>\n",
       "      <th>1</th>\n",
       "      <td>47</td>\n",
       "      <td>M</td>\n",
       "      <td>LOW</td>\n",
       "      <td>HIGH</td>\n",
       "      <td>13.093</td>\n",
       "      <td>drugC</td>\n",
       "    </tr>\n",
       "    <tr>\n",
       "      <th>2</th>\n",
       "      <td>47</td>\n",
       "      <td>M</td>\n",
       "      <td>LOW</td>\n",
       "      <td>HIGH</td>\n",
       "      <td>10.114</td>\n",
       "      <td>drugC</td>\n",
       "    </tr>\n",
       "    <tr>\n",
       "      <th>3</th>\n",
       "      <td>28</td>\n",
       "      <td>F</td>\n",
       "      <td>NORMAL</td>\n",
       "      <td>HIGH</td>\n",
       "      <td>7.798</td>\n",
       "      <td>drugX</td>\n",
       "    </tr>\n",
       "    <tr>\n",
       "      <th>4</th>\n",
       "      <td>61</td>\n",
       "      <td>F</td>\n",
       "      <td>LOW</td>\n",
       "      <td>HIGH</td>\n",
       "      <td>18.043</td>\n",
       "      <td>drugY</td>\n",
       "    </tr>\n",
       "  </tbody>\n",
       "</table>\n",
       "</div>"
      ],
      "text/plain": [
       "   Age Sex      BP Cholesterol  Na_to_K   Drug\n",
       "0   23   F    HIGH        HIGH   25.355  drugY\n",
       "1   47   M     LOW        HIGH   13.093  drugC\n",
       "2   47   M     LOW        HIGH   10.114  drugC\n",
       "3   28   F  NORMAL        HIGH    7.798  drugX\n",
       "4   61   F     LOW        HIGH   18.043  drugY"
      ]
     },
     "execution_count": 2,
     "metadata": {},
     "output_type": "execute_result"
    }
   ],
   "source": [
    "#Cargar los datos\n",
    "data=pd.read_csv('drug200.csv')\n",
    "data.head()"
   ]
  },
  {
   "cell_type": "code",
   "execution_count": 3,
   "metadata": {},
   "outputs": [
    {
     "data": {
      "text/plain": [
       "(200, 6)"
      ]
     },
     "execution_count": 3,
     "metadata": {},
     "output_type": "execute_result"
    }
   ],
   "source": [
    "data.shape"
   ]
  },
  {
   "cell_type": "code",
   "execution_count": 4,
   "metadata": {
    "scrolled": false
   },
   "outputs": [
    {
     "data": {
      "text/plain": [
       "Age              int64\n",
       "Sex             object\n",
       "BP              object\n",
       "Cholesterol     object\n",
       "Na_to_K        float64\n",
       "Drug            object\n",
       "dtype: object"
      ]
     },
     "execution_count": 4,
     "metadata": {},
     "output_type": "execute_result"
    }
   ],
   "source": [
    "data.dtypes"
   ]
  },
  {
   "cell_type": "markdown",
   "metadata": {},
   "source": [
    "### 1.1. Distribución de los datos \n",
    "La distribución muestral de una estadística es la distribución de esa estadística, considerada como una variable aleatoria, cuando se deriva de una muestra aleatoria de tamaño. Puede considerarse como la distribución de la estadística para todas las muestras posibles de la misma población de un tamaño determinado. Las distribuciones muestrales permiten que las consideraciones analíticas se basen en la distribución muestral de una estadística en lugar de en la distribución de probabilidad conjunta de todos los valores muestrales individuales."
   ]
  },
  {
   "cell_type": "code",
   "execution_count": 5,
   "metadata": {
    "scrolled": true
   },
   "outputs": [
    {
     "data": {
      "text/plain": [
       "(array([24., 53., 32., 24., 23., 11., 11.,  9.,  5.,  5.,  3.]),\n",
       " array([ 6.269     ,  9.17609091, 12.08318182, 14.99027273, 17.89736364,\n",
       "        20.80445455, 23.71154545, 26.61863636, 29.52572727, 32.43281818,\n",
       "        35.33990909, 38.247     ]),\n",
       " <BarContainer object of 11 artists>)"
      ]
     },
     "execution_count": 5,
     "metadata": {},
     "output_type": "execute_result"
    },
    {
     "data": {
      "image/png": "[encoded data removed]",
      "text/plain": [
       "<Figure size 432x288 with 1 Axes>"
      ]
     },
     "metadata": {
      "needs_background": "light"
     },
     "output_type": "display_data"
    }
   ],
   "source": [
    "#Histograma de Na  a K\n",
    "plt.hist(x=data['Na_to_K'], bins='auto', color='#0504aa',\n",
    "                            alpha=0.7, rwidth=0.85)"
   ]
  },
  {
   "cell_type": "code",
   "execution_count": 6,
   "metadata": {
    "scrolled": true
   },
   "outputs": [
    {
     "data": {
      "text/plain": [
       "<BarContainer object of 5 artists>"
      ]
     },
     "execution_count": 6,
     "metadata": {},
     "output_type": "execute_result"
    },
    {
     "data": {
      "image/png": "[encoded data removed]",
      "text/plain": [
       "<Figure size 432x288 with 1 Axes>"
      ]
     },
     "metadata": {
      "needs_background": "light"
     },
     "output_type": "display_data"
    }
   ],
   "source": [
    "# Diagrama de barras de la salida\n",
    "data_drug=data.groupby('Drug').count().reset_index()\n",
    "plt.bar(data_drug['Drug'],data_drug['Age'])"
   ]
  },
  {
   "cell_type": "markdown",
   "metadata": {},
   "source": [
    "### 1.2 Simulación\n",
    "La definición básica de simulación de datos es tomar una gran cantidad de datos y usarlos para simular o reflejar condiciones del mundo real para predecir una instancia futura, determinar el mejor curso de acción o validar un modelo.\n",
    "\n",
    "Hay muchas formas diferentes de simulación de datos.\n",
    "\n",
    "Algunos buscan aproximarse a las condiciones conocidas para determinar, por ejemplo, la probabilidad de que haya recursos de petróleo, gas o minerales dentro de los estratos geológicos.\n",
    "\n",
    "Otros toman grandes cantidades de datos y ejecutan una variedad de escenarios para ver cómo podrían funcionar los diferentes enfoques. Ves este tipo de simulación en las proyecciones climáticas. Los modeladores ejecutan diferentes escenarios basados ​​en las emisiones existentes, aumentando las emisiones y reduciendo las emisiones para estimar los niveles de temperatura décadas en el futuro."
   ]
  },
  {
   "cell_type": "code",
   "execution_count": 7,
   "metadata": {},
   "outputs": [
    {
     "data": {
      "text/plain": [
       "['drugA', 'drugY', 'drugX']"
      ]
     },
     "execution_count": 7,
     "metadata": {},
     "output_type": "execute_result"
    }
   ],
   "source": [
    "#Simular la droga\n",
    "drug=[]\n",
    "dict_drug={\n",
    "    1:'drugA',\n",
    "    2:'drugB',\n",
    "    3:'drugX',\n",
    "    4:'drugY'\n",
    "}\n",
    "for i in range(1,2000):\n",
    "    drug.append(dict_drug[random.randint(1,4)])\n",
    "drug[0:3]"
   ]
  },
  {
   "cell_type": "code",
   "execution_count": 8,
   "metadata": {},
   "outputs": [
    {
     "data": {
      "text/plain": [
       "[68, 22, 18, 39, 66, 65, 32, 43, 74, 23]"
      ]
     },
     "execution_count": 8,
     "metadata": {},
     "output_type": "execute_result"
    }
   ],
   "source": [
    "#Simular la edad\n",
    "age=[]\n",
    "for i in range(1,2000):\n",
    "    age.append(random.randint(data['Age'].min(),data['Age'].max()))\n",
    "age[0:10]"
   ]
  },
  {
   "cell_type": "code",
   "execution_count": 9,
   "metadata": {},
   "outputs": [
    {
     "data": {
      "text/plain": [
       "['M', 'M', 'M']"
      ]
     },
     "execution_count": 9,
     "metadata": {},
     "output_type": "execute_result"
    }
   ],
   "source": [
    "#Simular el sexo droga\n",
    "sex=[]\n",
    "dict_sex={\n",
    "    1:'F',\n",
    "    2:'M'\n",
    "}\n",
    "for i in range(1,2000):\n",
    "    sex.append(dict_sex[random.randint(1,2)])\n",
    "sex[0:3]"
   ]
  },
  {
   "cell_type": "code",
   "execution_count": 10,
   "metadata": {},
   "outputs": [
    {
     "data": {
      "text/plain": [
       "['NORMAL', 'LOW', 'NORMAL']"
      ]
     },
     "execution_count": 10,
     "metadata": {},
     "output_type": "execute_result"
    }
   ],
   "source": [
    "#Simular el ritmo cardiaco\n",
    "bp=[]\n",
    "dict_bp={\n",
    "    1:'LOW',\n",
    "    2:'HIGH',\n",
    "    3:'NORMAL'\n",
    "}\n",
    "for i in range(1,2000):\n",
    "    bp.append(dict_bp[random.randint(1,3)])\n",
    "bp[0:3]"
   ]
  },
  {
   "cell_type": "code",
   "execution_count": 11,
   "metadata": {},
   "outputs": [
    {
     "data": {
      "text/plain": [
       "['NORMAL', 'NORMAL', 'HIGH']"
      ]
     },
     "execution_count": 11,
     "metadata": {},
     "output_type": "execute_result"
    }
   ],
   "source": [
    "#Simular el colesterol\n",
    "ch=[]\n",
    "dict_ch={\n",
    "    1:'HIGH',\n",
    "    2:'NORMAL'\n",
    "}\n",
    "for i in range(1,2000):\n",
    "    ch.append(dict_ch[random.randint(1,2)])\n",
    "ch[0:3]"
   ]
  },
  {
   "cell_type": "code",
   "execution_count": 12,
   "metadata": {},
   "outputs": [
    {
     "data": {
      "text/plain": [
       "[101.88847445938245,\n",
       " 4.8445412263914776,\n",
       " 3.7825571532521165,\n",
       " 6.759058117190006,\n",
       " 5.843848178626478,\n",
       " 13.493270640204656,\n",
       " 41.434036898809126,\n",
       " 11.744328080200928,\n",
       " 0.052364518424890406,\n",
       " 45.33454039777231]"
      ]
     },
     "execution_count": 12,
     "metadata": {},
     "output_type": "execute_result"
    }
   ],
   "source": [
    "#Simular Na_to_K\n",
    "nk=[]\n",
    "for i in range(1,2000):\n",
    "    nk.append(random.expovariate(1/data['Na_to_K'].mean()))     \n",
    "nk[0:10]"
   ]
  },
  {
   "cell_type": "code",
   "execution_count": 13,
   "metadata": {
    "scrolled": true
   },
   "outputs": [
    {
     "data": {
      "text/html": [
       "<div>\n",
       "<style scoped>\n",
       "    .dataframe tbody tr th:only-of-type {\n",
       "        vertical-align: middle;\n",
       "    }\n",
       "\n",
       "    .dataframe tbody tr th {\n",
       "        vertical-align: top;\n",
       "    }\n",
       "\n",
       "    .dataframe thead th {\n",
       "        text-align: right;\n",
       "    }\n",
       "</style>\n",
       "<table border=\"1\" class=\"dataframe\">\n",
       "  <thead>\n",
       "    <tr style=\"text-align: right;\">\n",
       "      <th></th>\n",
       "      <th>Age</th>\n",
       "      <th>Sex</th>\n",
       "      <th>BP</th>\n",
       "      <th>Cholesterol</th>\n",
       "      <th>Na_to_K</th>\n",
       "      <th>Drug</th>\n",
       "    </tr>\n",
       "  </thead>\n",
       "  <tbody>\n",
       "    <tr>\n",
       "      <th>0</th>\n",
       "      <td>68</td>\n",
       "      <td>M</td>\n",
       "      <td>NORMAL</td>\n",
       "      <td>NORMAL</td>\n",
       "      <td>101.888474</td>\n",
       "      <td>drugA</td>\n",
       "    </tr>\n",
       "    <tr>\n",
       "      <th>1</th>\n",
       "      <td>22</td>\n",
       "      <td>M</td>\n",
       "      <td>LOW</td>\n",
       "      <td>NORMAL</td>\n",
       "      <td>4.844541</td>\n",
       "      <td>drugY</td>\n",
       "    </tr>\n",
       "    <tr>\n",
       "      <th>2</th>\n",
       "      <td>18</td>\n",
       "      <td>M</td>\n",
       "      <td>NORMAL</td>\n",
       "      <td>HIGH</td>\n",
       "      <td>3.782557</td>\n",
       "      <td>drugX</td>\n",
       "    </tr>\n",
       "    <tr>\n",
       "      <th>3</th>\n",
       "      <td>39</td>\n",
       "      <td>F</td>\n",
       "      <td>NORMAL</td>\n",
       "      <td>HIGH</td>\n",
       "      <td>6.759058</td>\n",
       "      <td>drugA</td>\n",
       "    </tr>\n",
       "    <tr>\n",
       "      <th>4</th>\n",
       "      <td>66</td>\n",
       "      <td>M</td>\n",
       "      <td>HIGH</td>\n",
       "      <td>NORMAL</td>\n",
       "      <td>5.843848</td>\n",
       "      <td>drugA</td>\n",
       "    </tr>\n",
       "  </tbody>\n",
       "</table>\n",
       "</div>"
      ],
      "text/plain": [
       "   Age Sex      BP Cholesterol     Na_to_K   Drug\n",
       "0   68   M  NORMAL      NORMAL  101.888474  drugA\n",
       "1   22   M     LOW      NORMAL    4.844541  drugY\n",
       "2   18   M  NORMAL        HIGH    3.782557  drugX\n",
       "3   39   F  NORMAL        HIGH    6.759058  drugA\n",
       "4   66   M    HIGH      NORMAL    5.843848  drugA"
      ]
     },
     "execution_count": 13,
     "metadata": {},
     "output_type": "execute_result"
    }
   ],
   "source": [
    "#Crear el dataframe\n",
    "data_sim = pd.DataFrame(list(zip(age,sex,bp,ch,nk,drug)),\n",
    "               columns =['Age', 'Sex', 'BP', 'Cholesterol', 'Na_to_K', 'Drug'])\n",
    "data_sim.head()"
   ]
  },
  {
   "cell_type": "code",
   "execution_count": 14,
   "metadata": {},
   "outputs": [
    {
     "data": {
      "text/plain": [
       "(2199, 7)"
      ]
     },
     "execution_count": 14,
     "metadata": {},
     "output_type": "execute_result"
    }
   ],
   "source": [
    "#Unir los dataset\n",
    "data=pd.concat([data,data_sim]).reset_index()\n",
    "data.shape"
   ]
  },
  {
   "cell_type": "code",
   "execution_count": 55,
   "metadata": {},
   "outputs": [],
   "source": [
    "#Introducir ruido\n",
    "for i in range(0,200):\n",
    "    data.at[random.randint(0,len(data)),'Na_to_K']=np.nan"
   ]
  },
  {
   "cell_type": "code",
   "execution_count": 58,
   "metadata": {},
   "outputs": [
    {
     "data": {
      "text/plain": [
       "index            0\n",
       "Age              0\n",
       "Sex              0\n",
       "BP               0\n",
       "Cholesterol      0\n",
       "Na_to_K        191\n",
       "Drug             0\n",
       "dtype: int64"
      ]
     },
     "execution_count": 58,
     "metadata": {},
     "output_type": "execute_result"
    }
   ],
   "source": [
    "data.isna().sum()"
   ]
  },
  {
   "cell_type": "code",
   "execution_count": 61,
   "metadata": {},
   "outputs": [
    {
     "data": {
      "text/html": [
       "<div>\n",
       "<style scoped>\n",
       "    .dataframe tbody tr th:only-of-type {\n",
       "        vertical-align: middle;\n",
       "    }\n",
       "\n",
       "    .dataframe tbody tr th {\n",
       "        vertical-align: top;\n",
       "    }\n",
       "\n",
       "    .dataframe thead th {\n",
       "        text-align: right;\n",
       "    }\n",
       "</style>\n",
       "<table border=\"1\" class=\"dataframe\">\n",
       "  <thead>\n",
       "    <tr style=\"text-align: right;\">\n",
       "      <th></th>\n",
       "      <th>index</th>\n",
       "      <th>Age</th>\n",
       "      <th>Sex</th>\n",
       "      <th>BP</th>\n",
       "      <th>Cholesterol</th>\n",
       "      <th>Na_to_K</th>\n",
       "      <th>Drug</th>\n",
       "    </tr>\n",
       "  </thead>\n",
       "  <tbody>\n",
       "    <tr>\n",
       "      <th>0</th>\n",
       "      <td>0</td>\n",
       "      <td>23</td>\n",
       "      <td>F</td>\n",
       "      <td>HIGH</td>\n",
       "      <td>HIGH</td>\n",
       "      <td>25.355000</td>\n",
       "      <td>drugY</td>\n",
       "    </tr>\n",
       "    <tr>\n",
       "      <th>1</th>\n",
       "      <td>1</td>\n",
       "      <td>47</td>\n",
       "      <td>M</td>\n",
       "      <td>LOW</td>\n",
       "      <td>HIGH</td>\n",
       "      <td>13.093000</td>\n",
       "      <td>drugC</td>\n",
       "    </tr>\n",
       "    <tr>\n",
       "      <th>2</th>\n",
       "      <td>2</td>\n",
       "      <td>47</td>\n",
       "      <td>M</td>\n",
       "      <td>LOW</td>\n",
       "      <td>HIGH</td>\n",
       "      <td>10.114000</td>\n",
       "      <td>drugC</td>\n",
       "    </tr>\n",
       "    <tr>\n",
       "      <th>3</th>\n",
       "      <td>3</td>\n",
       "      <td>28</td>\n",
       "      <td>F</td>\n",
       "      <td>NORMAL</td>\n",
       "      <td>HIGH</td>\n",
       "      <td>7.798000</td>\n",
       "      <td>drugX</td>\n",
       "    </tr>\n",
       "    <tr>\n",
       "      <th>4</th>\n",
       "      <td>4</td>\n",
       "      <td>61</td>\n",
       "      <td>F</td>\n",
       "      <td>LOW</td>\n",
       "      <td>HIGH</td>\n",
       "      <td>18.043000</td>\n",
       "      <td>drugY</td>\n",
       "    </tr>\n",
       "    <tr>\n",
       "      <th>...</th>\n",
       "      <td>...</td>\n",
       "      <td>...</td>\n",
       "      <td>...</td>\n",
       "      <td>...</td>\n",
       "      <td>...</td>\n",
       "      <td>...</td>\n",
       "      <td>...</td>\n",
       "    </tr>\n",
       "    <tr>\n",
       "      <th>2194</th>\n",
       "      <td>1994</td>\n",
       "      <td>40</td>\n",
       "      <td>M</td>\n",
       "      <td>LOW</td>\n",
       "      <td>NORMAL</td>\n",
       "      <td>2.014338</td>\n",
       "      <td>drugX</td>\n",
       "    </tr>\n",
       "    <tr>\n",
       "      <th>2195</th>\n",
       "      <td>1995</td>\n",
       "      <td>42</td>\n",
       "      <td>F</td>\n",
       "      <td>HIGH</td>\n",
       "      <td>HIGH</td>\n",
       "      <td>12.741169</td>\n",
       "      <td>drugA</td>\n",
       "    </tr>\n",
       "    <tr>\n",
       "      <th>2196</th>\n",
       "      <td>1996</td>\n",
       "      <td>24</td>\n",
       "      <td>F</td>\n",
       "      <td>NORMAL</td>\n",
       "      <td>NORMAL</td>\n",
       "      <td>3.338679</td>\n",
       "      <td>drugY</td>\n",
       "    </tr>\n",
       "    <tr>\n",
       "      <th>2197</th>\n",
       "      <td>1997</td>\n",
       "      <td>26</td>\n",
       "      <td>F</td>\n",
       "      <td>LOW</td>\n",
       "      <td>HIGH</td>\n",
       "      <td>4.358533</td>\n",
       "      <td>drugA</td>\n",
       "    </tr>\n",
       "    <tr>\n",
       "      <th>2198</th>\n",
       "      <td>1998</td>\n",
       "      <td>74</td>\n",
       "      <td>F</td>\n",
       "      <td>NORMAL</td>\n",
       "      <td>HIGH</td>\n",
       "      <td>12.289595</td>\n",
       "      <td>drugX</td>\n",
       "    </tr>\n",
       "  </tbody>\n",
       "</table>\n",
       "<p>2199 rows × 7 columns</p>\n",
       "</div>"
      ],
      "text/plain": [
       "      index  Age Sex      BP Cholesterol    Na_to_K   Drug\n",
       "0         0   23   F    HIGH        HIGH  25.355000  drugY\n",
       "1         1   47   M     LOW        HIGH  13.093000  drugC\n",
       "2         2   47   M     LOW        HIGH  10.114000  drugC\n",
       "3         3   28   F  NORMAL        HIGH   7.798000  drugX\n",
       "4         4   61   F     LOW        HIGH  18.043000  drugY\n",
       "...     ...  ...  ..     ...         ...        ...    ...\n",
       "2194   1994   40   M     LOW      NORMAL   2.014338  drugX\n",
       "2195   1995   42   F    HIGH        HIGH  12.741169  drugA\n",
       "2196   1996   24   F  NORMAL      NORMAL   3.338679  drugY\n",
       "2197   1997   26   F     LOW        HIGH   4.358533  drugA\n",
       "2198   1998   74   F  NORMAL        HIGH  12.289595  drugX\n",
       "\n",
       "[2199 rows x 7 columns]"
      ]
     },
     "execution_count": 61,
     "metadata": {},
     "output_type": "execute_result"
    }
   ],
   "source": [
    "#Imputación de datos\n",
    "data=data.fillna(data['Na_to_K'].mean())\n",
    "data"
   ]
  },
  {
   "cell_type": "code",
   "execution_count": 62,
   "metadata": {},
   "outputs": [
    {
     "data": {
      "text/plain": [
       "index          0\n",
       "Age            0\n",
       "Sex            0\n",
       "BP             0\n",
       "Cholesterol    0\n",
       "Na_to_K        0\n",
       "Drug           0\n",
       "dtype: int64"
      ]
     },
     "execution_count": 62,
     "metadata": {},
     "output_type": "execute_result"
    }
   ],
   "source": [
    "data.isna().sum()"
   ]
  },
  {
   "cell_type": "markdown",
   "metadata": {},
   "source": [
    "### 2. Isolation Forest\n",
    "Dos de las principales implementaciones de Isolation Forest están disponibles en Scikit Learn. Si bien las dos están muy optimizadas, existen pequeñas diferencias a la hora de utilizarlas.\n",
    "\n",
    "En la implementación de Scikit Learn, al entrenar el modelo, se tiene que especificar el porcentaje de anomalías que se espera en los datos de entrenamiento (contamination). Con este valor, el modelo aprende el valor a partir del cual una observación se considera anomalía. Al aplicar el método predict() se obtiene -1 si es anomalía (outlier) o 1 si es un dato normal (inliers). Para recuperar la métrica de anomalía en lugar de la clasificación, hay que emplear el método score_samples(). Este último devuelve el valor negativo de la distancia de aislamiento, normalizada tal como se propone en el paper original."
   ]
  },
  {
   "cell_type": "code",
   "execution_count": 44,
   "metadata": {},
   "outputs": [
    {
     "data": {
      "text/html": [
       "<div>\n",
       "<style scoped>\n",
       "    .dataframe tbody tr th:only-of-type {\n",
       "        vertical-align: middle;\n",
       "    }\n",
       "\n",
       "    .dataframe tbody tr th {\n",
       "        vertical-align: top;\n",
       "    }\n",
       "\n",
       "    .dataframe thead th {\n",
       "        text-align: right;\n",
       "    }\n",
       "</style>\n",
       "<table border=\"1\" class=\"dataframe\">\n",
       "  <thead>\n",
       "    <tr style=\"text-align: right;\">\n",
       "      <th></th>\n",
       "      <th>index</th>\n",
       "      <th>Age</th>\n",
       "      <th>Na_to_K</th>\n",
       "      <th>Sex_F</th>\n",
       "      <th>Sex_M</th>\n",
       "      <th>BP_HIGH</th>\n",
       "      <th>BP_LOW</th>\n",
       "      <th>BP_NORMAL</th>\n",
       "      <th>Cholesterol_HIGH</th>\n",
       "      <th>Cholesterol_NORMAL</th>\n",
       "      <th>Drug_drugA</th>\n",
       "      <th>Drug_drugB</th>\n",
       "      <th>Drug_drugC</th>\n",
       "      <th>Drug_drugX</th>\n",
       "      <th>Drug_drugY</th>\n",
       "    </tr>\n",
       "  </thead>\n",
       "  <tbody>\n",
       "    <tr>\n",
       "      <th>0</th>\n",
       "      <td>0</td>\n",
       "      <td>23</td>\n",
       "      <td>25.355000</td>\n",
       "      <td>1</td>\n",
       "      <td>0</td>\n",
       "      <td>1</td>\n",
       "      <td>0</td>\n",
       "      <td>0</td>\n",
       "      <td>1</td>\n",
       "      <td>0</td>\n",
       "      <td>0</td>\n",
       "      <td>0</td>\n",
       "      <td>0</td>\n",
       "      <td>0</td>\n",
       "      <td>1</td>\n",
       "    </tr>\n",
       "    <tr>\n",
       "      <th>1</th>\n",
       "      <td>1</td>\n",
       "      <td>47</td>\n",
       "      <td>13.093000</td>\n",
       "      <td>0</td>\n",
       "      <td>1</td>\n",
       "      <td>0</td>\n",
       "      <td>1</td>\n",
       "      <td>0</td>\n",
       "      <td>1</td>\n",
       "      <td>0</td>\n",
       "      <td>0</td>\n",
       "      <td>0</td>\n",
       "      <td>1</td>\n",
       "      <td>0</td>\n",
       "      <td>0</td>\n",
       "    </tr>\n",
       "    <tr>\n",
       "      <th>2</th>\n",
       "      <td>2</td>\n",
       "      <td>47</td>\n",
       "      <td>10.114000</td>\n",
       "      <td>0</td>\n",
       "      <td>1</td>\n",
       "      <td>0</td>\n",
       "      <td>1</td>\n",
       "      <td>0</td>\n",
       "      <td>1</td>\n",
       "      <td>0</td>\n",
       "      <td>0</td>\n",
       "      <td>0</td>\n",
       "      <td>1</td>\n",
       "      <td>0</td>\n",
       "      <td>0</td>\n",
       "    </tr>\n",
       "    <tr>\n",
       "      <th>3</th>\n",
       "      <td>3</td>\n",
       "      <td>28</td>\n",
       "      <td>7.798000</td>\n",
       "      <td>1</td>\n",
       "      <td>0</td>\n",
       "      <td>0</td>\n",
       "      <td>0</td>\n",
       "      <td>1</td>\n",
       "      <td>1</td>\n",
       "      <td>0</td>\n",
       "      <td>0</td>\n",
       "      <td>0</td>\n",
       "      <td>0</td>\n",
       "      <td>1</td>\n",
       "      <td>0</td>\n",
       "    </tr>\n",
       "    <tr>\n",
       "      <th>4</th>\n",
       "      <td>4</td>\n",
       "      <td>61</td>\n",
       "      <td>18.043000</td>\n",
       "      <td>1</td>\n",
       "      <td>0</td>\n",
       "      <td>0</td>\n",
       "      <td>1</td>\n",
       "      <td>0</td>\n",
       "      <td>1</td>\n",
       "      <td>0</td>\n",
       "      <td>0</td>\n",
       "      <td>0</td>\n",
       "      <td>0</td>\n",
       "      <td>0</td>\n",
       "      <td>1</td>\n",
       "    </tr>\n",
       "    <tr>\n",
       "      <th>...</th>\n",
       "      <td>...</td>\n",
       "      <td>...</td>\n",
       "      <td>...</td>\n",
       "      <td>...</td>\n",
       "      <td>...</td>\n",
       "      <td>...</td>\n",
       "      <td>...</td>\n",
       "      <td>...</td>\n",
       "      <td>...</td>\n",
       "      <td>...</td>\n",
       "      <td>...</td>\n",
       "      <td>...</td>\n",
       "      <td>...</td>\n",
       "      <td>...</td>\n",
       "      <td>...</td>\n",
       "    </tr>\n",
       "    <tr>\n",
       "      <th>2194</th>\n",
       "      <td>1994</td>\n",
       "      <td>40</td>\n",
       "      <td>2.014338</td>\n",
       "      <td>0</td>\n",
       "      <td>1</td>\n",
       "      <td>0</td>\n",
       "      <td>1</td>\n",
       "      <td>0</td>\n",
       "      <td>0</td>\n",
       "      <td>1</td>\n",
       "      <td>0</td>\n",
       "      <td>0</td>\n",
       "      <td>0</td>\n",
       "      <td>1</td>\n",
       "      <td>0</td>\n",
       "    </tr>\n",
       "    <tr>\n",
       "      <th>2195</th>\n",
       "      <td>1995</td>\n",
       "      <td>42</td>\n",
       "      <td>12.741169</td>\n",
       "      <td>1</td>\n",
       "      <td>0</td>\n",
       "      <td>1</td>\n",
       "      <td>0</td>\n",
       "      <td>0</td>\n",
       "      <td>1</td>\n",
       "      <td>0</td>\n",
       "      <td>1</td>\n",
       "      <td>0</td>\n",
       "      <td>0</td>\n",
       "      <td>0</td>\n",
       "      <td>0</td>\n",
       "    </tr>\n",
       "    <tr>\n",
       "      <th>2196</th>\n",
       "      <td>1996</td>\n",
       "      <td>24</td>\n",
       "      <td>3.338679</td>\n",
       "      <td>1</td>\n",
       "      <td>0</td>\n",
       "      <td>0</td>\n",
       "      <td>0</td>\n",
       "      <td>1</td>\n",
       "      <td>0</td>\n",
       "      <td>1</td>\n",
       "      <td>0</td>\n",
       "      <td>0</td>\n",
       "      <td>0</td>\n",
       "      <td>0</td>\n",
       "      <td>1</td>\n",
       "    </tr>\n",
       "    <tr>\n",
       "      <th>2197</th>\n",
       "      <td>1997</td>\n",
       "      <td>26</td>\n",
       "      <td>4.358533</td>\n",
       "      <td>1</td>\n",
       "      <td>0</td>\n",
       "      <td>0</td>\n",
       "      <td>1</td>\n",
       "      <td>0</td>\n",
       "      <td>1</td>\n",
       "      <td>0</td>\n",
       "      <td>1</td>\n",
       "      <td>0</td>\n",
       "      <td>0</td>\n",
       "      <td>0</td>\n",
       "      <td>0</td>\n",
       "    </tr>\n",
       "    <tr>\n",
       "      <th>2198</th>\n",
       "      <td>1998</td>\n",
       "      <td>74</td>\n",
       "      <td>12.289595</td>\n",
       "      <td>1</td>\n",
       "      <td>0</td>\n",
       "      <td>0</td>\n",
       "      <td>0</td>\n",
       "      <td>1</td>\n",
       "      <td>1</td>\n",
       "      <td>0</td>\n",
       "      <td>0</td>\n",
       "      <td>0</td>\n",
       "      <td>0</td>\n",
       "      <td>1</td>\n",
       "      <td>0</td>\n",
       "    </tr>\n",
       "  </tbody>\n",
       "</table>\n",
       "<p>2199 rows × 15 columns</p>\n",
       "</div>"
      ],
      "text/plain": [
       "      index  Age    Na_to_K  Sex_F  Sex_M  BP_HIGH  BP_LOW  BP_NORMAL  \\\n",
       "0         0   23  25.355000      1      0        1       0          0   \n",
       "1         1   47  13.093000      0      1        0       1          0   \n",
       "2         2   47  10.114000      0      1        0       1          0   \n",
       "3         3   28   7.798000      1      0        0       0          1   \n",
       "4         4   61  18.043000      1      0        0       1          0   \n",
       "...     ...  ...        ...    ...    ...      ...     ...        ...   \n",
       "2194   1994   40   2.014338      0      1        0       1          0   \n",
       "2195   1995   42  12.741169      1      0        1       0          0   \n",
       "2196   1996   24   3.338679      1      0        0       0          1   \n",
       "2197   1997   26   4.358533      1      0        0       1          0   \n",
       "2198   1998   74  12.289595      1      0        0       0          1   \n",
       "\n",
       "      Cholesterol_HIGH  Cholesterol_NORMAL  Drug_drugA  Drug_drugB  \\\n",
       "0                    1                   0           0           0   \n",
       "1                    1                   0           0           0   \n",
       "2                    1                   0           0           0   \n",
       "3                    1                   0           0           0   \n",
       "4                    1                   0           0           0   \n",
       "...                ...                 ...         ...         ...   \n",
       "2194                 0                   1           0           0   \n",
       "2195                 1                   0           1           0   \n",
       "2196                 0                   1           0           0   \n",
       "2197                 1                   0           1           0   \n",
       "2198                 1                   0           0           0   \n",
       "\n",
       "      Drug_drugC  Drug_drugX  Drug_drugY  \n",
       "0              0           0           1  \n",
       "1              1           0           0  \n",
       "2              1           0           0  \n",
       "3              0           1           0  \n",
       "4              0           0           1  \n",
       "...          ...         ...         ...  \n",
       "2194           0           1           0  \n",
       "2195           0           0           0  \n",
       "2196           0           0           1  \n",
       "2197           0           0           0  \n",
       "2198           0           1           0  \n",
       "\n",
       "[2199 rows x 15 columns]"
      ]
     },
     "execution_count": 44,
     "metadata": {},
     "output_type": "execute_result"
    }
   ],
   "source": [
    "#Preparación de los datos\n",
    "data_X = pd.get_dummies(pd.DataFrame(data))\n",
    "data_X"
   ]
  },
  {
   "cell_type": "code",
   "execution_count": 45,
   "metadata": {},
   "outputs": [],
   "source": [
    "# Definición y entrenamiento del modelo IsolationForest\n",
    "modelo_isof = IsolationForest(\n",
    "                n_estimators  = 1000,\n",
    "                max_samples   ='auto',\n",
    "                contamination = 0.01,\n",
    "                n_jobs        = -1,\n",
    "                random_state  = 123,\n",
    "            )"
   ]
  },
  {
   "cell_type": "code",
   "execution_count": 46,
   "metadata": {},
   "outputs": [
    {
     "name": "stderr",
     "output_type": "stream",
     "text": [
      "/home/davidsaw/anaconda3/lib/python3.7/site-packages/sklearn/base.py:442: UserWarning: X does not have valid feature names, but IsolationForest was fitted with feature names\n",
      "  \"X does not have valid feature names, but\"\n"
     ]
    },
    {
     "data": {
      "text/plain": [
       "IsolationForest(contamination=0.01, n_estimators=1000, n_jobs=-1,\n",
       "                random_state=123)"
      ]
     },
     "execution_count": 46,
     "metadata": {},
     "output_type": "execute_result"
    }
   ],
   "source": [
    "modelo_isof.fit(X=data_X)"
   ]
  },
  {
   "cell_type": "code",
   "execution_count": 47,
   "metadata": {
    "scrolled": true
   },
   "outputs": [
    {
     "name": "stderr",
     "output_type": "stream",
     "text": [
      "/home/davidsaw/anaconda3/lib/python3.7/site-packages/sklearn/base.py:442: UserWarning: X does not have valid feature names, but IsolationForest was fitted with feature names\n",
      "  \"X does not have valid feature names, but\"\n"
     ]
    },
    {
     "data": {
      "text/plain": [
       "array([1, 1, 1, 1, 1, 1, 1, 1, 1, 1])"
      ]
     },
     "execution_count": 47,
     "metadata": {},
     "output_type": "execute_result"
    }
   ],
   "source": [
    "# Predicción clasificación\n",
    "clasificacion_predicha = modelo_isof.predict(X=data_X)\n",
    "clasificacion_predicha[0:10]"
   ]
  },
  {
   "cell_type": "markdown",
   "metadata": {},
   "source": [
    "Con el método score_samples(), en lugar de la clasificación, se obtiene el valor de anomalía predicho por el modelo. Es importante destacar que este valor no es la distancia de aislamiento promedio, sino una normalización de la misma propuesta en el paper original.\n",
    "\n",
    "Como resultado de la normalización, y de multiplicarla por -1, los valores de anomalía quedan acotados en el rango [-1, 0]. Cuanto más próximo a -1 es el valor, mayor evidencia de anomalía. Valores entre -0.5 y 0 son los esperados para observaciones normales."
   ]
  },
  {
   "cell_type": "code",
   "execution_count": 48,
   "metadata": {},
   "outputs": [
    {
     "data": {
      "text/plain": [
       "array([-0.55183002, -0.59858748, -0.59769447, -0.53810683, -0.54175923,\n",
       "       -0.54347177, -0.53802704, -0.59702189, -0.54010052, -0.53159973])"
      ]
     },
     "execution_count": 48,
     "metadata": {},
     "output_type": "execute_result"
    }
   ],
   "source": [
    "# Predicción valor anomalía\n",
    "score_anomalia = modelo_isof.score_samples(X=data_X)\n",
    "score_anomalia[0:10]"
   ]
  },
  {
   "cell_type": "code",
   "execution_count": 49,
   "metadata": {
    "scrolled": false
   },
   "outputs": [
    {
     "name": "stderr",
     "output_type": "stream",
     "text": [
      "/home/davidsaw/anaconda3/lib/python3.7/site-packages/seaborn/distributions.py:2551: FutureWarning: `distplot` is a deprecated function and will be removed in a future version. Please adapt your code to use either `displot` (a figure-level function with similar flexibility) or `kdeplot` (an axes-level function for kernel density plots).\n",
      "  warnings.warn(msg, FutureWarning)\n",
      "/home/davidsaw/anaconda3/lib/python3.7/site-packages/seaborn/distributions.py:2055: FutureWarning: The `axis` variable is no longer used and will be removed. Instead, assign variables directly to `x` or `y`.\n",
      "  warnings.warn(msg, FutureWarning)\n"
     ]
    },
    {
     "data": {
      "image/png": "[encoded data removed]",
      "text/plain": [
       "<Figure size 504x252 with 1 Axes>"
      ]
     },
     "metadata": {
      "needs_background": "light"
     },
     "output_type": "display_data"
    }
   ],
   "source": [
    "#Gráfico\n",
    "# Distribución de los valores de anomalía\n",
    "# ==============================================================================\n",
    "fig, ax = plt.subplots(nrows=1, ncols=1, figsize=(7, 3.5))\n",
    "sns.distplot(\n",
    "    score_anomalia,\n",
    "    hist    = False,\n",
    "    rug     = True,\n",
    "    color   = 'blue',\n",
    "    kde_kws = {'shade': True, 'linewidth': 1},\n",
    "    ax      = ax\n",
    ")\n",
    "\n",
    "# ax.axvline(cuantil_01, c='red', linestyle='--', label='cuantil 0.01')\n",
    "ax.set_title('Distribución de los valores de anomalía')\n",
    "ax.set_xlabel('Score de anomalía');"
   ]
  },
  {
   "cell_type": "markdown",
   "metadata": {},
   "source": [
    "# 3. Test chi cuadrado\n",
    "La prueba de chi-cuadrado es un método de prueba de hipótesis ampliamente utilizado para contar datos. Pertenece a la categoría de pruebas no paramétricas y compara principalmente dos o más frecuencias de muestreo (proporciones de composición) y el análisis de correlación de dos variables categóricas. La idea básica es comparar el grado de ajuste o la bondad del ajuste entre la frecuencia teórica y la frecuencia real.\n",
    "\n",
    "La idea básica de la prueba de chi-cuadrado:\n",
    "\n",
    "La prueba de chi-cuadrado es $\\chi^2$ Un método de prueba de hipótesis común basado en la distribución.\n",
    "Su hipótesis básica H0 es: no hay diferencia entre la frecuencia observada y la frecuencia esperada.\n",
    "\n",
    "La idea básica de la prueba es: primero suponga que H0 se cumple y calcule según esta premisa $\\chi^2$ Valor, que indica el grado de desviación entre el valor observado y el valor teórico. De acuerdo a $\\chi^2$ La distribución y los grados de libertad determinan la probabilidad P de que se obtengan las estadísticas actuales y los casos más extremos cuando se cumple la hipótesis H0. Si el valor P es pequeño, indica que el valor observado se desvía demasiado del valor teórico, y la hipótesis nula debe rechazarse, lo que indica que existe una diferencia significativa entre los datos de comparación; de lo contrario, la hipótesis no válida no puede rechazarse, y la situación real y los supuestos teóricos representados por la muestra no pueden considerarse Hay diferencias\n",
    "\n",
    "#### 3.1 Ejercicio con los datos\n",
    "\n",
    "$H_0:$ No existe relación sobre las variables categóricas en la población\n",
    "\n",
    "$H_1:$ **Existe** relación sobre las variables categóricas en la población\n"
   ]
  },
  {
   "cell_type": "code",
   "execution_count": 21,
   "metadata": {},
   "outputs": [
    {
     "data": {
      "text/html": [
       "<div>\n",
       "<style scoped>\n",
       "    .dataframe tbody tr th:only-of-type {\n",
       "        vertical-align: middle;\n",
       "    }\n",
       "\n",
       "    .dataframe tbody tr th {\n",
       "        vertical-align: top;\n",
       "    }\n",
       "\n",
       "    .dataframe thead th {\n",
       "        text-align: right;\n",
       "    }\n",
       "</style>\n",
       "<table border=\"1\" class=\"dataframe\">\n",
       "  <thead>\n",
       "    <tr style=\"text-align: right;\">\n",
       "      <th>BP</th>\n",
       "      <th>HIGH</th>\n",
       "      <th>LOW</th>\n",
       "      <th>NORMAL</th>\n",
       "    </tr>\n",
       "    <tr>\n",
       "      <th>Drug</th>\n",
       "      <th></th>\n",
       "      <th></th>\n",
       "      <th></th>\n",
       "    </tr>\n",
       "  </thead>\n",
       "  <tbody>\n",
       "    <tr>\n",
       "      <th>drugA</th>\n",
       "      <td>171</td>\n",
       "      <td>162</td>\n",
       "      <td>158</td>\n",
       "    </tr>\n",
       "    <tr>\n",
       "      <th>drugB</th>\n",
       "      <td>196</td>\n",
       "      <td>154</td>\n",
       "      <td>175</td>\n",
       "    </tr>\n",
       "    <tr>\n",
       "      <th>drugC</th>\n",
       "      <td>0</td>\n",
       "      <td>16</td>\n",
       "      <td>0</td>\n",
       "    </tr>\n",
       "    <tr>\n",
       "      <th>drugX</th>\n",
       "      <td>141</td>\n",
       "      <td>192</td>\n",
       "      <td>198</td>\n",
       "    </tr>\n",
       "    <tr>\n",
       "      <th>drugY</th>\n",
       "      <td>250</td>\n",
       "      <td>200</td>\n",
       "      <td>186</td>\n",
       "    </tr>\n",
       "  </tbody>\n",
       "</table>\n",
       "</div>"
      ],
      "text/plain": [
       "BP     HIGH  LOW  NORMAL\n",
       "Drug                    \n",
       "drugA   171  162     158\n",
       "drugB   196  154     175\n",
       "drugC     0   16       0\n",
       "drugX   141  192     198\n",
       "drugY   250  200     186"
      ]
     },
     "execution_count": 21,
     "metadata": {},
     "output_type": "execute_result"
    }
   ],
   "source": [
    "#Incluir crosstab\n",
    "data_grupos=pd.crosstab(data['Drug'], data['BP'])\n",
    "data_grupos"
   ]
  },
  {
   "cell_type": "code",
   "execution_count": 22,
   "metadata": {},
   "outputs": [
    {
     "data": {
      "text/plain": [
       "(57.88741444682956,\n",
       " 1.2082478570640087e-09,\n",
       " 8,\n",
       " array([[169.24874943, 161.65711687, 160.0941337 ],\n",
       "        [180.9686221 , 172.85129604, 171.18008186],\n",
       "        [  5.5152342 ,   5.26784902,   5.21691678],\n",
       "        [183.03683492, 174.82673943, 173.13642565],\n",
       "        [219.23055935, 209.39699864, 207.37244202]]))"
      ]
     },
     "execution_count": 22,
     "metadata": {},
     "output_type": "execute_result"
    }
   ],
   "source": [
    "#Prueba Chi\n",
    "kf = chi2_contingency(data_grupos)\n",
    "kf"
   ]
  },
  {
   "cell_type": "code",
   "execution_count": 23,
   "metadata": {},
   "outputs": [
    {
     "name": "stdout",
     "output_type": "stream",
     "text": [
      "chisq-statistic=57.8874, p-value=0.0000, df=8 expected_frep=[[169.24874943 161.65711687 160.0941337 ]\n",
      " [180.9686221  172.85129604 171.18008186]\n",
      " [  5.5152342    5.26784902   5.21691678]\n",
      " [183.03683492 174.82673943 173.13642565]\n",
      " [219.23055935 209.39699864 207.37244202]]\n"
     ]
    }
   ],
   "source": [
    "print('chisq-statistic=%.4f, p-value=%.4f, df=%i expected_frep=%s'%kf)"
   ]
  },
  {
   "cell_type": "markdown",
   "metadata": {},
   "source": [
    "Conclusión: Debido a que el valor p > 0.05, aceptamos la hipótesis nula y creemos que no hay una diferencia significativa en los grupos"
   ]
  },
  {
   "cell_type": "markdown",
   "metadata": {},
   "source": [
    "### 4. Árbol de decisión\n",
    "Es uno de los algoritmos más potentes y populares. El algoritmo de árbol de decisiones se incluye en la categoría de algoritmos de aprendizaje supervisado. Funciona tanto para variables de salida continuas como categóricas.\n",
    "\n",
    "#### Gini\n",
    "El índice de Gini es una métrica para medir la frecuencia con la que un elemento elegido al azar se identificaría incorrectamente.\n",
    "Significa que se debe preferir un atributo con un índice de gini más bajo.\n",
    "Sklearn admite los criterios \"gini\" para el índice Gini y, de forma predeterminada, toma el valor \"gini\".\n",
    "\n",
    "#### Entropía\n",
    "La entropía es la medida de la incertidumbre de una variable aleatoria, caracteriza la impureza de una colección arbitraria de ejemplos. Cuanto mayor sea la entropía, mayor será el contenido de información.\n",
    "Ganancia de información\n",
    "La entropía generalmente cambia cuando usamos un nodo en un árbol de decisión para dividir las instancias de entrenamiento en subconjuntos más pequeños. La ganancia de información es una medida de este cambio en la entropía.\n",
    "Sklearn admite criterios de \"entropía\" para la ganancia de información y si queremos utilizar el método de ganancia de información en sklearn, debemos mencionarlo explícitamente.\n",
    "\n",
    "#### Métricas\n",
    "La puntuación de precisión(accuracy) se utiliza para calcular la precisión del clasificador entrenado.\n",
    "Matriz de confusión\n",
    "\n",
    "Matriz de confusión se utiliza para comprender el comportamiento del clasificador entrenado sobre el conjunto de datos de prueba o validar el conjunto de datos.\n"
   ]
  },
  {
   "cell_type": "code",
   "execution_count": 24,
   "metadata": {},
   "outputs": [],
   "source": [
    "#Separamos los datos en predictoras y predichas\n",
    "X = pd.get_dummies(data[['Age', 'Sex', 'Drug']].drop('Drug',axis=1))\n",
    "Y = data['Drug']"
   ]
  },
  {
   "cell_type": "code",
   "execution_count": 25,
   "metadata": {},
   "outputs": [],
   "source": [
    "# Realizamos la base de prueba\n",
    "X_train, X_test, y_train, y_test = train_test_split( \n",
    "          X, Y, test_size = 0.3, random_state = 100)"
   ]
  },
  {
   "cell_type": "code",
   "execution_count": 26,
   "metadata": {},
   "outputs": [
    {
     "data": {
      "text/plain": [
       "DecisionTreeClassifier(max_depth=3, min_samples_leaf=5, random_state=100)"
      ]
     },
     "execution_count": 26,
     "metadata": {},
     "output_type": "execute_result"
    }
   ],
   "source": [
    "# Creamos el árbol de decisión con el criterio gini\n",
    "clf_gini = DecisionTreeClassifier(criterion = \"gini\",\n",
    "            random_state = 100,max_depth=3, min_samples_leaf=5)\n",
    "clf_gini"
   ]
  },
  {
   "cell_type": "code",
   "execution_count": 27,
   "metadata": {},
   "outputs": [],
   "source": [
    "# Creamos el árbol de decisión con el criterio de entropía\n",
    "clf_entropy = DecisionTreeClassifier(\n",
    "            criterion = \"entropy\", random_state = 100,\n",
    "            max_depth = 3, min_samples_leaf = 5)"
   ]
  },
  {
   "cell_type": "code",
   "execution_count": 28,
   "metadata": {},
   "outputs": [
    {
     "data": {
      "text/plain": [
       "DecisionTreeClassifier(criterion='entropy', max_depth=3, min_samples_leaf=5,\n",
       "                       random_state=100)"
      ]
     },
     "execution_count": 28,
     "metadata": {},
     "output_type": "execute_result"
    }
   ],
   "source": [
    "# Ajustamos los modelos\n",
    "clf_gini.fit(X_train, y_train)\n",
    "clf_entropy.fit(X_train, y_train)"
   ]
  },
  {
   "cell_type": "code",
   "execution_count": 29,
   "metadata": {},
   "outputs": [],
   "source": [
    "# Realizamos una función para la predicción\n",
    "def pred(X_test, clf):\n",
    "  \n",
    "    # Predicton on test with giniIndex\n",
    "    y_pred = clf.predict(X_test)\n",
    "    print(\"Predicted values:\")\n",
    "    print(y_pred)\n",
    "    return y_pred"
   ]
  },
  {
   "cell_type": "code",
   "execution_count": 35,
   "metadata": {},
   "outputs": [
    {
     "name": "stdout",
     "output_type": "stream",
     "text": [
      "Predicted values:\n",
      "['drugY' 'drugY' 'drugY' 'drugY' 'drugY' 'drugY' 'drugY' 'drugY' 'drugY'\n",
      " 'drugY' 'drugY' 'drugY' 'drugX' 'drugY' 'drugX' 'drugX' 'drugY' 'drugY'\n",
      " 'drugX' 'drugY' 'drugX' 'drugY' 'drugY' 'drugX' 'drugY' 'drugX' 'drugY'\n",
      " 'drugY' 'drugY' 'drugY' 'drugY' 'drugY' 'drugY' 'drugY' 'drugY' 'drugY'\n",
      " 'drugX' 'drugX' 'drugY' 'drugY' 'drugY' 'drugX' 'drugX' 'drugY' 'drugY'\n",
      " 'drugY' 'drugY' 'drugY' 'drugX' 'drugY' 'drugY' 'drugY' 'drugY' 'drugY'\n",
      " 'drugY' 'drugX' 'drugB' 'drugY' 'drugY' 'drugY' 'drugY' 'drugY' 'drugY'\n",
      " 'drugY' 'drugY' 'drugY' 'drugX' 'drugY' 'drugX' 'drugY' 'drugX' 'drugY'\n",
      " 'drugY' 'drugY' 'drugX' 'drugX' 'drugY' 'drugY' 'drugY' 'drugX' 'drugY'\n",
      " 'drugX' 'drugY' 'drugY' 'drugB' 'drugY' 'drugX' 'drugX' 'drugY' 'drugY'\n",
      " 'drugY' 'drugY' 'drugY' 'drugX' 'drugX' 'drugY' 'drugX' 'drugY' 'drugY'\n",
      " 'drugY' 'drugY' 'drugY' 'drugX' 'drugX' 'drugY' 'drugX' 'drugY' 'drugY'\n",
      " 'drugY' 'drugY' 'drugX' 'drugX' 'drugY' 'drugY' 'drugY' 'drugY' 'drugY'\n",
      " 'drugY' 'drugY' 'drugY' 'drugY' 'drugY' 'drugY' 'drugY' 'drugY' 'drugY'\n",
      " 'drugY' 'drugY' 'drugY' 'drugY' 'drugX' 'drugY' 'drugY' 'drugY' 'drugY'\n",
      " 'drugX' 'drugY' 'drugY' 'drugX' 'drugY' 'drugY' 'drugX' 'drugY' 'drugY'\n",
      " 'drugY' 'drugY' 'drugY' 'drugY' 'drugY' 'drugY' 'drugY' 'drugY' 'drugY'\n",
      " 'drugX' 'drugX' 'drugY' 'drugY' 'drugY' 'drugX' 'drugY' 'drugY' 'drugY'\n",
      " 'drugX' 'drugY' 'drugY' 'drugY' 'drugY' 'drugY' 'drugX' 'drugY' 'drugY'\n",
      " 'drugY' 'drugX' 'drugY' 'drugX' 'drugX' 'drugY' 'drugY' 'drugY' 'drugY'\n",
      " 'drugY' 'drugY' 'drugX' 'drugX' 'drugY' 'drugY' 'drugY' 'drugX' 'drugY'\n",
      " 'drugX' 'drugY' 'drugY' 'drugY' 'drugY' 'drugX' 'drugY' 'drugY' 'drugY'\n",
      " 'drugY' 'drugX' 'drugY' 'drugY' 'drugX' 'drugX' 'drugX' 'drugY' 'drugX'\n",
      " 'drugY' 'drugY' 'drugY' 'drugY' 'drugX' 'drugY' 'drugX' 'drugY' 'drugY'\n",
      " 'drugY' 'drugY' 'drugY' 'drugY' 'drugX' 'drugY' 'drugY' 'drugY' 'drugY'\n",
      " 'drugY' 'drugY' 'drugY' 'drugY' 'drugY' 'drugY' 'drugY' 'drugY' 'drugY'\n",
      " 'drugX' 'drugY' 'drugY' 'drugX' 'drugY' 'drugY' 'drugX' 'drugY' 'drugY'\n",
      " 'drugY' 'drugY' 'drugY' 'drugY' 'drugY' 'drugY' 'drugY' 'drugY' 'drugY'\n",
      " 'drugX' 'drugX' 'drugY' 'drugB' 'drugY' 'drugY' 'drugY' 'drugY' 'drugX'\n",
      " 'drugY' 'drugY' 'drugY' 'drugY' 'drugY' 'drugB' 'drugY' 'drugY' 'drugY'\n",
      " 'drugY' 'drugY' 'drugX' 'drugY' 'drugX' 'drugY' 'drugY' 'drugX' 'drugY'\n",
      " 'drugY' 'drugY' 'drugY' 'drugY' 'drugY' 'drugY' 'drugY' 'drugB' 'drugX'\n",
      " 'drugY' 'drugY' 'drugX' 'drugB' 'drugY' 'drugY' 'drugY' 'drugY' 'drugY'\n",
      " 'drugY' 'drugY' 'drugY' 'drugY' 'drugX' 'drugY' 'drugX' 'drugY' 'drugY'\n",
      " 'drugY' 'drugY' 'drugY' 'drugY' 'drugY' 'drugX' 'drugY' 'drugX' 'drugY'\n",
      " 'drugY' 'drugY' 'drugY' 'drugY' 'drugB' 'drugB' 'drugY' 'drugY' 'drugY'\n",
      " 'drugY' 'drugY' 'drugY' 'drugY' 'drugY' 'drugY' 'drugY' 'drugX' 'drugX'\n",
      " 'drugY' 'drugY' 'drugX' 'drugY' 'drugY' 'drugX' 'drugY' 'drugY' 'drugY'\n",
      " 'drugX' 'drugX' 'drugY' 'drugY' 'drugY' 'drugY' 'drugY' 'drugY' 'drugY'\n",
      " 'drugY' 'drugX' 'drugY' 'drugY' 'drugY' 'drugY' 'drugX' 'drugY' 'drugY'\n",
      " 'drugX' 'drugY' 'drugY' 'drugY' 'drugY' 'drugY' 'drugY' 'drugY' 'drugY'\n",
      " 'drugX' 'drugY' 'drugY' 'drugY' 'drugY' 'drugY' 'drugY' 'drugY' 'drugY'\n",
      " 'drugY' 'drugX' 'drugX' 'drugY' 'drugY' 'drugY' 'drugY' 'drugX' 'drugY'\n",
      " 'drugX' 'drugY' 'drugX' 'drugY' 'drugY' 'drugY' 'drugY' 'drugX' 'drugY'\n",
      " 'drugY' 'drugY' 'drugY' 'drugX' 'drugX' 'drugY' 'drugY' 'drugX' 'drugB'\n",
      " 'drugY' 'drugX' 'drugY' 'drugY' 'drugY' 'drugB' 'drugY' 'drugX' 'drugY'\n",
      " 'drugY' 'drugY' 'drugX' 'drugX' 'drugX' 'drugY' 'drugY' 'drugY' 'drugY'\n",
      " 'drugX' 'drugB' 'drugY' 'drugY' 'drugX' 'drugY' 'drugY' 'drugY' 'drugY'\n",
      " 'drugY' 'drugY' 'drugY' 'drugY' 'drugY' 'drugY' 'drugX' 'drugX' 'drugY'\n",
      " 'drugX' 'drugY' 'drugX' 'drugX' 'drugY' 'drugX' 'drugY' 'drugY' 'drugY'\n",
      " 'drugY' 'drugX' 'drugY' 'drugY' 'drugX' 'drugY' 'drugX' 'drugY' 'drugX'\n",
      " 'drugY' 'drugY' 'drugY' 'drugY' 'drugX' 'drugX' 'drugX' 'drugY' 'drugY'\n",
      " 'drugY' 'drugY' 'drugX' 'drugY' 'drugY' 'drugX' 'drugY' 'drugY' 'drugB'\n",
      " 'drugY' 'drugY' 'drugY' 'drugY' 'drugY' 'drugY' 'drugY' 'drugY' 'drugY'\n",
      " 'drugX' 'drugX' 'drugY' 'drugY' 'drugY' 'drugX' 'drugY' 'drugY' 'drugY'\n",
      " 'drugY' 'drugX' 'drugY' 'drugY' 'drugY' 'drugX' 'drugY' 'drugX' 'drugY'\n",
      " 'drugY' 'drugY' 'drugY' 'drugY' 'drugY' 'drugY' 'drugY' 'drugX' 'drugY'\n",
      " 'drugY' 'drugX' 'drugY' 'drugY' 'drugY' 'drugY' 'drugY' 'drugX' 'drugX'\n",
      " 'drugX' 'drugY' 'drugY' 'drugY' 'drugX' 'drugY' 'drugX' 'drugY' 'drugY'\n",
      " 'drugY' 'drugY' 'drugY' 'drugX' 'drugY' 'drugY' 'drugY' 'drugY' 'drugB'\n",
      " 'drugY' 'drugX' 'drugY' 'drugY' 'drugX' 'drugY' 'drugY' 'drugY' 'drugY'\n",
      " 'drugY' 'drugY' 'drugY' 'drugY' 'drugY' 'drugX' 'drugY' 'drugY' 'drugY'\n",
      " 'drugX' 'drugX' 'drugY' 'drugY' 'drugY' 'drugX' 'drugY' 'drugY' 'drugY'\n",
      " 'drugY' 'drugX' 'drugY' 'drugY' 'drugY' 'drugY' 'drugY' 'drugY' 'drugY'\n",
      " 'drugX' 'drugY' 'drugX' 'drugY' 'drugX' 'drugY' 'drugX' 'drugY' 'drugY'\n",
      " 'drugY' 'drugY' 'drugY' 'drugY' 'drugY' 'drugY' 'drugY' 'drugB' 'drugY'\n",
      " 'drugY' 'drugX' 'drugY' 'drugY' 'drugY' 'drugY' 'drugY' 'drugY' 'drugY'\n",
      " 'drugY' 'drugB' 'drugX' 'drugY' 'drugX' 'drugY' 'drugX' 'drugX' 'drugY'\n",
      " 'drugY' 'drugX' 'drugY' 'drugY' 'drugY' 'drugY' 'drugY' 'drugX' 'drugX'\n",
      " 'drugX' 'drugY' 'drugY' 'drugX' 'drugY' 'drugY' 'drugY' 'drugY' 'drugY'\n",
      " 'drugY' 'drugY' 'drugY' 'drugY' 'drugY' 'drugY' 'drugY' 'drugY' 'drugY'\n",
      " 'drugY' 'drugY' 'drugY' 'drugY' 'drugY' 'drugX' 'drugX' 'drugX' 'drugY'\n",
      " 'drugY' 'drugX' 'drugY' 'drugY' 'drugY' 'drugY' 'drugY' 'drugY' 'drugY'\n",
      " 'drugY' 'drugY' 'drugY']\n"
     ]
    },
    {
     "data": {
      "text/plain": [
       "array(['drugY'], dtype=object)"
      ]
     },
     "execution_count": 35,
     "metadata": {},
     "output_type": "execute_result"
    }
   ],
   "source": [
    "pred(X_test,clf_entropy)[0:1]"
   ]
  },
  {
   "cell_type": "code",
   "execution_count": 31,
   "metadata": {},
   "outputs": [],
   "source": [
    "# Función para calcular las métricas\n",
    "def metricas(y_test, y_pred):\n",
    "    print(\"Matriz de confusión: \",\n",
    "        confusion_matrix(y_test, y_pred))\n",
    "      \n",
    "    print (\"Precisión : \",\n",
    "    accuracy_score(y_test,y_pred)*100)\n",
    "      \n",
    "    print(\"Reporte : \",\n",
    "    classification_report(y_test, y_pred))"
   ]
  },
  {
   "cell_type": "code",
   "execution_count": 32,
   "metadata": {
    "scrolled": false
   },
   "outputs": [
    {
     "name": "stdout",
     "output_type": "stream",
     "text": [
      "Predicted values:\n",
      "['drugY' 'drugY' 'drugY' 'drugY' 'drugY' 'drugY' 'drugY' 'drugY' 'drugY'\n",
      " 'drugY' 'drugY' 'drugY' 'drugX' 'drugY' 'drugX' 'drugX' 'drugY' 'drugY'\n",
      " 'drugX' 'drugY' 'drugX' 'drugY' 'drugY' 'drugX' 'drugY' 'drugX' 'drugY'\n",
      " 'drugY' 'drugY' 'drugY' 'drugY' 'drugY' 'drugY' 'drugY' 'drugY' 'drugY'\n",
      " 'drugX' 'drugX' 'drugY' 'drugY' 'drugY' 'drugX' 'drugX' 'drugY' 'drugY'\n",
      " 'drugY' 'drugY' 'drugY' 'drugX' 'drugY' 'drugY' 'drugY' 'drugY' 'drugY'\n",
      " 'drugY' 'drugX' 'drugB' 'drugY' 'drugY' 'drugY' 'drugY' 'drugY' 'drugY'\n",
      " 'drugY' 'drugY' 'drugY' 'drugX' 'drugY' 'drugX' 'drugY' 'drugX' 'drugY'\n",
      " 'drugY' 'drugY' 'drugX' 'drugX' 'drugY' 'drugY' 'drugY' 'drugX' 'drugY'\n",
      " 'drugX' 'drugY' 'drugY' 'drugB' 'drugY' 'drugX' 'drugX' 'drugY' 'drugY'\n",
      " 'drugY' 'drugY' 'drugY' 'drugX' 'drugX' 'drugY' 'drugX' 'drugY' 'drugY'\n",
      " 'drugY' 'drugY' 'drugY' 'drugX' 'drugX' 'drugY' 'drugX' 'drugY' 'drugY'\n",
      " 'drugY' 'drugY' 'drugX' 'drugX' 'drugY' 'drugY' 'drugY' 'drugY' 'drugY'\n",
      " 'drugY' 'drugY' 'drugY' 'drugY' 'drugY' 'drugY' 'drugY' 'drugY' 'drugY'\n",
      " 'drugY' 'drugY' 'drugY' 'drugY' 'drugX' 'drugY' 'drugY' 'drugY' 'drugY'\n",
      " 'drugX' 'drugY' 'drugY' 'drugX' 'drugY' 'drugY' 'drugX' 'drugY' 'drugY'\n",
      " 'drugY' 'drugY' 'drugY' 'drugY' 'drugY' 'drugY' 'drugY' 'drugY' 'drugY'\n",
      " 'drugX' 'drugX' 'drugY' 'drugY' 'drugY' 'drugX' 'drugY' 'drugY' 'drugY'\n",
      " 'drugX' 'drugY' 'drugY' 'drugY' 'drugY' 'drugY' 'drugX' 'drugY' 'drugY'\n",
      " 'drugY' 'drugX' 'drugY' 'drugX' 'drugX' 'drugY' 'drugY' 'drugY' 'drugY'\n",
      " 'drugY' 'drugY' 'drugX' 'drugX' 'drugY' 'drugY' 'drugY' 'drugX' 'drugY'\n",
      " 'drugX' 'drugY' 'drugY' 'drugY' 'drugY' 'drugX' 'drugY' 'drugY' 'drugY'\n",
      " 'drugY' 'drugX' 'drugY' 'drugY' 'drugX' 'drugX' 'drugX' 'drugY' 'drugX'\n",
      " 'drugY' 'drugY' 'drugY' 'drugY' 'drugX' 'drugY' 'drugX' 'drugY' 'drugY'\n",
      " 'drugY' 'drugY' 'drugY' 'drugY' 'drugX' 'drugY' 'drugY' 'drugY' 'drugY'\n",
      " 'drugY' 'drugY' 'drugY' 'drugY' 'drugY' 'drugY' 'drugY' 'drugY' 'drugY'\n",
      " 'drugX' 'drugY' 'drugY' 'drugX' 'drugY' 'drugY' 'drugX' 'drugY' 'drugY'\n",
      " 'drugY' 'drugY' 'drugY' 'drugY' 'drugY' 'drugY' 'drugY' 'drugY' 'drugY'\n",
      " 'drugX' 'drugX' 'drugY' 'drugB' 'drugY' 'drugY' 'drugY' 'drugY' 'drugX'\n",
      " 'drugY' 'drugY' 'drugY' 'drugY' 'drugY' 'drugB' 'drugY' 'drugY' 'drugY'\n",
      " 'drugY' 'drugY' 'drugX' 'drugY' 'drugX' 'drugY' 'drugY' 'drugX' 'drugY'\n",
      " 'drugY' 'drugY' 'drugY' 'drugY' 'drugY' 'drugY' 'drugY' 'drugB' 'drugX'\n",
      " 'drugY' 'drugY' 'drugX' 'drugB' 'drugY' 'drugY' 'drugY' 'drugY' 'drugY'\n",
      " 'drugY' 'drugY' 'drugY' 'drugY' 'drugX' 'drugY' 'drugX' 'drugY' 'drugY'\n",
      " 'drugY' 'drugY' 'drugY' 'drugY' 'drugY' 'drugX' 'drugY' 'drugX' 'drugY'\n",
      " 'drugY' 'drugY' 'drugY' 'drugY' 'drugB' 'drugB' 'drugY' 'drugY' 'drugY'\n",
      " 'drugY' 'drugY' 'drugY' 'drugY' 'drugY' 'drugY' 'drugY' 'drugX' 'drugX'\n",
      " 'drugY' 'drugY' 'drugX' 'drugY' 'drugY' 'drugX' 'drugY' 'drugY' 'drugY'\n",
      " 'drugX' 'drugX' 'drugY' 'drugY' 'drugY' 'drugY' 'drugY' 'drugY' 'drugY'\n",
      " 'drugY' 'drugX' 'drugY' 'drugY' 'drugY' 'drugY' 'drugX' 'drugY' 'drugY'\n",
      " 'drugX' 'drugY' 'drugY' 'drugY' 'drugY' 'drugY' 'drugY' 'drugY' 'drugY'\n",
      " 'drugX' 'drugY' 'drugY' 'drugY' 'drugY' 'drugY' 'drugY' 'drugY' 'drugY'\n",
      " 'drugY' 'drugX' 'drugX' 'drugY' 'drugY' 'drugY' 'drugY' 'drugX' 'drugY'\n",
      " 'drugX' 'drugY' 'drugX' 'drugY' 'drugY' 'drugY' 'drugY' 'drugX' 'drugY'\n",
      " 'drugY' 'drugY' 'drugY' 'drugX' 'drugX' 'drugY' 'drugY' 'drugX' 'drugB'\n",
      " 'drugY' 'drugX' 'drugY' 'drugY' 'drugY' 'drugB' 'drugY' 'drugX' 'drugY'\n",
      " 'drugY' 'drugY' 'drugX' 'drugX' 'drugX' 'drugY' 'drugY' 'drugY' 'drugY'\n",
      " 'drugX' 'drugB' 'drugY' 'drugY' 'drugX' 'drugY' 'drugY' 'drugY' 'drugY'\n",
      " 'drugY' 'drugY' 'drugY' 'drugY' 'drugY' 'drugY' 'drugX' 'drugX' 'drugY'\n",
      " 'drugX' 'drugY' 'drugX' 'drugX' 'drugY' 'drugX' 'drugY' 'drugY' 'drugY'\n",
      " 'drugY' 'drugX' 'drugY' 'drugY' 'drugX' 'drugY' 'drugX' 'drugY' 'drugX'\n",
      " 'drugY' 'drugY' 'drugY' 'drugY' 'drugX' 'drugX' 'drugX' 'drugY' 'drugY'\n",
      " 'drugY' 'drugY' 'drugX' 'drugY' 'drugY' 'drugX' 'drugY' 'drugY' 'drugB'\n",
      " 'drugY' 'drugY' 'drugY' 'drugY' 'drugY' 'drugY' 'drugY' 'drugY' 'drugY'\n",
      " 'drugX' 'drugX' 'drugY' 'drugY' 'drugY' 'drugX' 'drugY' 'drugY' 'drugY'\n",
      " 'drugY' 'drugX' 'drugY' 'drugY' 'drugY' 'drugX' 'drugY' 'drugX' 'drugY'\n",
      " 'drugY' 'drugY' 'drugY' 'drugY' 'drugY' 'drugY' 'drugY' 'drugX' 'drugY'\n",
      " 'drugY' 'drugX' 'drugY' 'drugY' 'drugY' 'drugY' 'drugY' 'drugX' 'drugX'\n",
      " 'drugX' 'drugY' 'drugY' 'drugY' 'drugX' 'drugY' 'drugX' 'drugY' 'drugY'\n",
      " 'drugY' 'drugY' 'drugY' 'drugX' 'drugY' 'drugY' 'drugY' 'drugY' 'drugB'\n",
      " 'drugY' 'drugX' 'drugY' 'drugY' 'drugX' 'drugY' 'drugY' 'drugY' 'drugY'\n",
      " 'drugY' 'drugY' 'drugY' 'drugY' 'drugY' 'drugX' 'drugY' 'drugY' 'drugY'\n",
      " 'drugX' 'drugX' 'drugY' 'drugY' 'drugY' 'drugX' 'drugY' 'drugY' 'drugY'\n",
      " 'drugY' 'drugX' 'drugY' 'drugY' 'drugY' 'drugY' 'drugY' 'drugY' 'drugY'\n",
      " 'drugX' 'drugY' 'drugX' 'drugY' 'drugX' 'drugY' 'drugX' 'drugY' 'drugY'\n",
      " 'drugY' 'drugY' 'drugY' 'drugY' 'drugY' 'drugY' 'drugY' 'drugB' 'drugY'\n",
      " 'drugY' 'drugX' 'drugY' 'drugY' 'drugY' 'drugY' 'drugY' 'drugY' 'drugY'\n",
      " 'drugY' 'drugB' 'drugX' 'drugY' 'drugX' 'drugY' 'drugX' 'drugX' 'drugY'\n",
      " 'drugY' 'drugX' 'drugY' 'drugY' 'drugY' 'drugY' 'drugY' 'drugX' 'drugX'\n",
      " 'drugX' 'drugY' 'drugY' 'drugX' 'drugY' 'drugY' 'drugY' 'drugY' 'drugY'\n",
      " 'drugY' 'drugY' 'drugY' 'drugY' 'drugY' 'drugY' 'drugY' 'drugY' 'drugY'\n",
      " 'drugY' 'drugY' 'drugY' 'drugY' 'drugY' 'drugX' 'drugX' 'drugX' 'drugY'\n",
      " 'drugY' 'drugX' 'drugY' 'drugY' 'drugY' 'drugY' 'drugY' 'drugY' 'drugY'\n",
      " 'drugY' 'drugY' 'drugY']\n",
      "Matriz de confusión:  [[  0   2   0  31 123]\n",
      " [  0   2   0  32 109]\n",
      " [  0   0   0   1   2]\n",
      " [  0   8   0  33 117]\n",
      " [  0   3   0  53 144]]\n",
      "Precisión :  27.121212121212125\n",
      "Reporte :                precision    recall  f1-score   support\n",
      "\n",
      "       drugA       0.00      0.00      0.00       156\n",
      "       drugB       0.13      0.01      0.03       143\n",
      "       drugC       0.00      0.00      0.00         3\n",
      "       drugX       0.22      0.21      0.21       158\n",
      "       drugY       0.29      0.72      0.41       200\n",
      "\n",
      "    accuracy                           0.27       660\n",
      "   macro avg       0.13      0.19      0.13       660\n",
      "weighted avg       0.17      0.27      0.18       660\n",
      "\n"
     ]
    },
    {
     "name": "stderr",
     "output_type": "stream",
     "text": [
      "/home/davidsaw/anaconda3/lib/python3.7/site-packages/sklearn/metrics/_classification.py:1308: UndefinedMetricWarning: Precision and F-score are ill-defined and being set to 0.0 in labels with no predicted samples. Use `zero_division` parameter to control this behavior.\n",
      "  _warn_prf(average, modifier, msg_start, len(result))\n",
      "/home/davidsaw/anaconda3/lib/python3.7/site-packages/sklearn/metrics/_classification.py:1308: UndefinedMetricWarning: Precision and F-score are ill-defined and being set to 0.0 in labels with no predicted samples. Use `zero_division` parameter to control this behavior.\n",
      "  _warn_prf(average, modifier, msg_start, len(result))\n",
      "/home/davidsaw/anaconda3/lib/python3.7/site-packages/sklearn/metrics/_classification.py:1308: UndefinedMetricWarning: Precision and F-score are ill-defined and being set to 0.0 in labels with no predicted samples. Use `zero_division` parameter to control this behavior.\n",
      "  _warn_prf(average, modifier, msg_start, len(result))\n"
     ]
    }
   ],
   "source": [
    "#Realizar las comparaciones\n",
    "metricas(y_test,pred(X_test,clf_entropy))"
   ]
  },
  {
   "cell_type": "code",
   "execution_count": 36,
   "metadata": {},
   "outputs": [
    {
     "data": {
      "image/svg+xml": [
       "<?xml version=\"1.0\" encoding=\"UTF-8\" standalone=\"no\"?>\n",
       "<!DOCTYPE svg PUBLIC \"-//W3C//DTD SVG 1.1//EN\"\n",
       " \"http://www.w3.org/Graphics/SVG/1.1/DTD/svg11.dtd\">\n",
       "<!-- Generated by graphviz version 2.43.0 (0)\n",
       " -->\n",
       "<!-- Title: Tree Pages: 1 -->\n",
       "<svg width=\"1686pt\" height=\"433pt\"\n",
       " viewBox=\"0.00 0.00 1686.00 433.00\" xmlns=\"http://www.w3.org/2000/svg\" xmlns:xlink=\"http://www.w3.org/1999/xlink\">\n",
       "<g id=\"graph0\" class=\"graph\" transform=\"scale(1 1) rotate(0) translate(4 429)\">\n",
       "<title>Tree</title>\n",
       "<polygon fill=\"white\" stroke=\"transparent\" points=\"-4,4 -4,-429 1682,-429 1682,4 -4,4\"/>\n",
       "<!-- 0 -->\n",
       "<g id=\"node1\" class=\"node\">\n",
       "<title>0</title>\n",
       "<polygon fill=\"#fef6fc\" stroke=\"black\" points=\"863.5,-425 615.5,-425 615.5,-342 863.5,-342 863.5,-425\"/>\n",
       "<text text-anchor=\"middle\" x=\"739.5\" y=\"-409.8\" font-family=\"Helvetica,sans-Serif\" font-size=\"14.00\">Age &lt;= 16.5</text>\n",
       "<text text-anchor=\"middle\" x=\"739.5\" y=\"-394.8\" font-family=\"Helvetica,sans-Serif\" font-size=\"14.00\">entropy = 2.047</text>\n",
       "<text text-anchor=\"middle\" x=\"739.5\" y=\"-379.8\" font-family=\"Helvetica,sans-Serif\" font-size=\"14.00\">samples = 1539</text>\n",
       "<text text-anchor=\"middle\" x=\"739.5\" y=\"-364.8\" font-family=\"Helvetica,sans-Serif\" font-size=\"14.00\">value = [335, 382, 13, 373, 436]</text>\n",
       "<text text-anchor=\"middle\" x=\"739.5\" y=\"-349.8\" font-family=\"Helvetica,sans-Serif\" font-size=\"14.00\">class = drugB</text>\n",
       "</g>\n",
       "<!-- 1 -->\n",
       "<g id=\"node2\" class=\"node\">\n",
       "<title>1</title>\n",
       "<polygon fill=\"#f6fdf1\" stroke=\"black\" points=\"640.5,-306 446.5,-306 446.5,-223 640.5,-223 640.5,-306\"/>\n",
       "<text text-anchor=\"middle\" x=\"543.5\" y=\"-290.8\" font-family=\"Helvetica,sans-Serif\" font-size=\"14.00\">Age &lt;= 15.5</text>\n",
       "<text text-anchor=\"middle\" x=\"543.5\" y=\"-275.8\" font-family=\"Helvetica,sans-Serif\" font-size=\"14.00\">entropy = 1.996</text>\n",
       "<text text-anchor=\"middle\" x=\"543.5\" y=\"-260.8\" font-family=\"Helvetica,sans-Serif\" font-size=\"14.00\">samples = 62</text>\n",
       "<text text-anchor=\"middle\" x=\"543.5\" y=\"-245.8\" font-family=\"Helvetica,sans-Serif\" font-size=\"14.00\">value = [9, 22, 1, 11, 19]</text>\n",
       "<text text-anchor=\"middle\" x=\"543.5\" y=\"-230.8\" font-family=\"Helvetica,sans-Serif\" font-size=\"14.00\">class = drugC</text>\n",
       "</g>\n",
       "<!-- 0&#45;&gt;1 -->\n",
       "<g id=\"edge1\" class=\"edge\">\n",
       "<title>0&#45;&gt;1</title>\n",
       "<path fill=\"none\" stroke=\"black\" d=\"M671.5,-341.91C654.93,-332.02 637.09,-321.37 620.15,-311.25\"/>\n",
       "<polygon fill=\"black\" stroke=\"black\" points=\"621.76,-308.14 611.38,-306.02 618.17,-314.15 621.76,-308.14\"/>\n",
       "<text text-anchor=\"middle\" x=\"617.5\" y=\"-326.56\" font-family=\"Helvetica,sans-Serif\" font-size=\"14.00\">True</text>\n",
       "</g>\n",
       "<!-- 8 -->\n",
       "<g id=\"node9\" class=\"node\">\n",
       "<title>8</title>\n",
       "<polygon fill=\"#fef5fc\" stroke=\"black\" points=\"1093.5,-306 845.5,-306 845.5,-223 1093.5,-223 1093.5,-306\"/>\n",
       "<text text-anchor=\"middle\" x=\"969.5\" y=\"-290.8\" font-family=\"Helvetica,sans-Serif\" font-size=\"14.00\">Age &lt;= 47.5</text>\n",
       "<text text-anchor=\"middle\" x=\"969.5\" y=\"-275.8\" font-family=\"Helvetica,sans-Serif\" font-size=\"14.00\">entropy = 2.046</text>\n",
       "<text text-anchor=\"middle\" x=\"969.5\" y=\"-260.8\" font-family=\"Helvetica,sans-Serif\" font-size=\"14.00\">samples = 1477</text>\n",
       "<text text-anchor=\"middle\" x=\"969.5\" y=\"-245.8\" font-family=\"Helvetica,sans-Serif\" font-size=\"14.00\">value = [326, 360, 12, 362, 417]</text>\n",
       "<text text-anchor=\"middle\" x=\"969.5\" y=\"-230.8\" font-family=\"Helvetica,sans-Serif\" font-size=\"14.00\">class = drugB</text>\n",
       "</g>\n",
       "<!-- 0&#45;&gt;8 -->\n",
       "<g id=\"edge8\" class=\"edge\">\n",
       "<title>0&#45;&gt;8</title>\n",
       "<path fill=\"none\" stroke=\"black\" d=\"M819.3,-341.91C839.19,-331.79 860.64,-320.88 880.92,-310.56\"/>\n",
       "<polygon fill=\"black\" stroke=\"black\" points=\"882.52,-313.67 889.84,-306.02 879.34,-307.44 882.52,-313.67\"/>\n",
       "<text text-anchor=\"middle\" x=\"882.1\" y=\"-326.09\" font-family=\"Helvetica,sans-Serif\" font-size=\"14.00\">False</text>\n",
       "</g>\n",
       "<!-- 2 -->\n",
       "<g id=\"node3\" class=\"node\">\n",
       "<title>2</title>\n",
       "<polygon fill=\"#ffffff\" stroke=\"black\" points=\"361,-187 176,-187 176,-104 361,-104 361,-187\"/>\n",
       "<text text-anchor=\"middle\" x=\"268.5\" y=\"-171.8\" font-family=\"Helvetica,sans-Serif\" font-size=\"14.00\">Sex &lt;= 0.5</text>\n",
       "<text text-anchor=\"middle\" x=\"268.5\" y=\"-156.8\" font-family=\"Helvetica,sans-Serif\" font-size=\"14.00\">entropy = 1.891</text>\n",
       "<text text-anchor=\"middle\" x=\"268.5\" y=\"-141.8\" font-family=\"Helvetica,sans-Serif\" font-size=\"14.00\">samples = 36</text>\n",
       "<text text-anchor=\"middle\" x=\"268.5\" y=\"-126.8\" font-family=\"Helvetica,sans-Serif\" font-size=\"14.00\">value = [4, 12, 0, 8, 12]</text>\n",
       "<text text-anchor=\"middle\" x=\"268.5\" y=\"-111.8\" font-family=\"Helvetica,sans-Serif\" font-size=\"14.00\">class = drugC</text>\n",
       "</g>\n",
       "<!-- 1&#45;&gt;2 -->\n",
       "<g id=\"edge2\" class=\"edge\">\n",
       "<title>1&#45;&gt;2</title>\n",
       "<path fill=\"none\" stroke=\"black\" d=\"M448.09,-222.91C423.08,-212.27 396.02,-200.75 370.67,-189.97\"/>\n",
       "<polygon fill=\"black\" stroke=\"black\" points=\"371.99,-186.73 361.42,-186.03 369.25,-193.17 371.99,-186.73\"/>\n",
       "</g>\n",
       "<!-- 5 -->\n",
       "<g id=\"node6\" class=\"node\">\n",
       "<title>5</title>\n",
       "<polygon fill=\"#eafbe0\" stroke=\"black\" points=\"631.5,-187 455.5,-187 455.5,-104 631.5,-104 631.5,-187\"/>\n",
       "<text text-anchor=\"middle\" x=\"543.5\" y=\"-171.8\" font-family=\"Helvetica,sans-Serif\" font-size=\"14.00\">Sex &lt;= 0.5</text>\n",
       "<text text-anchor=\"middle\" x=\"543.5\" y=\"-156.8\" font-family=\"Helvetica,sans-Serif\" font-size=\"14.00\">entropy = 2.038</text>\n",
       "<text text-anchor=\"middle\" x=\"543.5\" y=\"-141.8\" font-family=\"Helvetica,sans-Serif\" font-size=\"14.00\">samples = 26</text>\n",
       "<text text-anchor=\"middle\" x=\"543.5\" y=\"-126.8\" font-family=\"Helvetica,sans-Serif\" font-size=\"14.00\">value = [5, 10, 1, 3, 7]</text>\n",
       "<text text-anchor=\"middle\" x=\"543.5\" y=\"-111.8\" font-family=\"Helvetica,sans-Serif\" font-size=\"14.00\">class = drugC</text>\n",
       "</g>\n",
       "<!-- 1&#45;&gt;5 -->\n",
       "<g id=\"edge5\" class=\"edge\">\n",
       "<title>1&#45;&gt;5</title>\n",
       "<path fill=\"none\" stroke=\"black\" d=\"M543.5,-222.91C543.5,-214.65 543.5,-205.86 543.5,-197.3\"/>\n",
       "<polygon fill=\"black\" stroke=\"black\" points=\"547,-197.02 543.5,-187.02 540,-197.02 547,-197.02\"/>\n",
       "</g>\n",
       "<!-- 3 -->\n",
       "<g id=\"node4\" class=\"node\">\n",
       "<title>3</title>\n",
       "<polygon fill=\"#f4fdee\" stroke=\"black\" points=\"167,-68 0,-68 0,0 167,0 167,-68\"/>\n",
       "<text text-anchor=\"middle\" x=\"83.5\" y=\"-52.8\" font-family=\"Helvetica,sans-Serif\" font-size=\"14.00\">entropy = 1.977</text>\n",
       "<text text-anchor=\"middle\" x=\"83.5\" y=\"-37.8\" font-family=\"Helvetica,sans-Serif\" font-size=\"14.00\">samples = 16</text>\n",
       "<text text-anchor=\"middle\" x=\"83.5\" y=\"-22.8\" font-family=\"Helvetica,sans-Serif\" font-size=\"14.00\">value = [3, 5, 0, 4, 4]</text>\n",
       "<text text-anchor=\"middle\" x=\"83.5\" y=\"-7.8\" font-family=\"Helvetica,sans-Serif\" font-size=\"14.00\">class = drugC</text>\n",
       "</g>\n",
       "<!-- 2&#45;&gt;3 -->\n",
       "<g id=\"edge3\" class=\"edge\">\n",
       "<title>2&#45;&gt;3</title>\n",
       "<path fill=\"none\" stroke=\"black\" d=\"M199.88,-103.88C182.89,-93.83 164.75,-83.09 147.97,-73.16\"/>\n",
       "<polygon fill=\"black\" stroke=\"black\" points=\"149.71,-70.12 139.33,-68.04 146.15,-76.15 149.71,-70.12\"/>\n",
       "</g>\n",
       "<!-- 4 -->\n",
       "<g id=\"node5\" class=\"node\">\n",
       "<title>4</title>\n",
       "<polygon fill=\"#fdf0fa\" stroke=\"black\" points=\"352,-68 185,-68 185,0 352,0 352,-68\"/>\n",
       "<text text-anchor=\"middle\" x=\"268.5\" y=\"-52.8\" font-family=\"Helvetica,sans-Serif\" font-size=\"14.00\">entropy = 1.739</text>\n",
       "<text text-anchor=\"middle\" x=\"268.5\" y=\"-37.8\" font-family=\"Helvetica,sans-Serif\" font-size=\"14.00\">samples = 20</text>\n",
       "<text text-anchor=\"middle\" x=\"268.5\" y=\"-22.8\" font-family=\"Helvetica,sans-Serif\" font-size=\"14.00\">value = [1, 7, 0, 4, 8]</text>\n",
       "<text text-anchor=\"middle\" x=\"268.5\" y=\"-7.8\" font-family=\"Helvetica,sans-Serif\" font-size=\"14.00\">class = drugB</text>\n",
       "</g>\n",
       "<!-- 2&#45;&gt;4 -->\n",
       "<g id=\"edge4\" class=\"edge\">\n",
       "<title>2&#45;&gt;4</title>\n",
       "<path fill=\"none\" stroke=\"black\" d=\"M268.5,-103.73C268.5,-95.52 268.5,-86.86 268.5,-78.56\"/>\n",
       "<polygon fill=\"black\" stroke=\"black\" points=\"272,-78.3 268.5,-68.3 265,-78.3 272,-78.3\"/>\n",
       "</g>\n",
       "<!-- 6 -->\n",
       "<g id=\"node7\" class=\"node\">\n",
       "<title>6</title>\n",
       "<polygon fill=\"#f8ceef\" stroke=\"black\" points=\"537,-68 370,-68 370,0 537,0 537,-68\"/>\n",
       "<text text-anchor=\"middle\" x=\"453.5\" y=\"-52.8\" font-family=\"Helvetica,sans-Serif\" font-size=\"14.00\">entropy = 1.626</text>\n",
       "<text text-anchor=\"middle\" x=\"453.5\" y=\"-37.8\" font-family=\"Helvetica,sans-Serif\" font-size=\"14.00\">samples = 12</text>\n",
       "<text text-anchor=\"middle\" x=\"453.5\" y=\"-22.8\" font-family=\"Helvetica,sans-Serif\" font-size=\"14.00\">value = [0, 4, 1, 1, 6]</text>\n",
       "<text text-anchor=\"middle\" x=\"453.5\" y=\"-7.8\" font-family=\"Helvetica,sans-Serif\" font-size=\"14.00\">class = drugB</text>\n",
       "</g>\n",
       "<!-- 5&#45;&gt;6 -->\n",
       "<g id=\"edge6\" class=\"edge\">\n",
       "<title>5&#45;&gt;6</title>\n",
       "<path fill=\"none\" stroke=\"black\" d=\"M509.99,-103.73C502.57,-94.7 494.7,-85.12 487.27,-76.08\"/>\n",
       "<polygon fill=\"black\" stroke=\"black\" points=\"489.92,-73.8 480.87,-68.3 484.52,-78.25 489.92,-73.8\"/>\n",
       "</g>\n",
       "<!-- 7 -->\n",
       "<g id=\"node8\" class=\"node\">\n",
       "<title>7</title>\n",
       "<polygon fill=\"#f0fce9\" stroke=\"black\" points=\"722,-68 555,-68 555,0 722,0 722,-68\"/>\n",
       "<text text-anchor=\"middle\" x=\"638.5\" y=\"-52.8\" font-family=\"Helvetica,sans-Serif\" font-size=\"14.00\">entropy = 1.727</text>\n",
       "<text text-anchor=\"middle\" x=\"638.5\" y=\"-37.8\" font-family=\"Helvetica,sans-Serif\" font-size=\"14.00\">samples = 14</text>\n",
       "<text text-anchor=\"middle\" x=\"638.5\" y=\"-22.8\" font-family=\"Helvetica,sans-Serif\" font-size=\"14.00\">value = [5, 6, 0, 2, 1]</text>\n",
       "<text text-anchor=\"middle\" x=\"638.5\" y=\"-7.8\" font-family=\"Helvetica,sans-Serif\" font-size=\"14.00\">class = drugC</text>\n",
       "</g>\n",
       "<!-- 5&#45;&gt;7 -->\n",
       "<g id=\"edge7\" class=\"edge\">\n",
       "<title>5&#45;&gt;7</title>\n",
       "<path fill=\"none\" stroke=\"black\" d=\"M578.87,-103.73C586.71,-94.7 595.01,-85.12 602.86,-76.08\"/>\n",
       "<polygon fill=\"black\" stroke=\"black\" points=\"605.7,-78.15 609.61,-68.3 600.41,-73.56 605.7,-78.15\"/>\n",
       "</g>\n",
       "<!-- 9 -->\n",
       "<g id=\"node10\" class=\"node\">\n",
       "<title>9</title>\n",
       "<polygon fill=\"#fef6fc\" stroke=\"black\" points=\"1089,-187 850,-187 850,-104 1089,-104 1089,-187\"/>\n",
       "<text text-anchor=\"middle\" x=\"969.5\" y=\"-171.8\" font-family=\"Helvetica,sans-Serif\" font-size=\"14.00\">Age &lt;= 37.5</text>\n",
       "<text text-anchor=\"middle\" x=\"969.5\" y=\"-156.8\" font-family=\"Helvetica,sans-Serif\" font-size=\"14.00\">entropy = 2.056</text>\n",
       "<text text-anchor=\"middle\" x=\"969.5\" y=\"-141.8\" font-family=\"Helvetica,sans-Serif\" font-size=\"14.00\">samples = 797</text>\n",
       "<text text-anchor=\"middle\" x=\"969.5\" y=\"-126.8\" font-family=\"Helvetica,sans-Serif\" font-size=\"14.00\">value = [193, 177, 8, 196, 223]</text>\n",
       "<text text-anchor=\"middle\" x=\"969.5\" y=\"-111.8\" font-family=\"Helvetica,sans-Serif\" font-size=\"14.00\">class = drugB</text>\n",
       "</g>\n",
       "<!-- 8&#45;&gt;9 -->\n",
       "<g id=\"edge9\" class=\"edge\">\n",
       "<title>8&#45;&gt;9</title>\n",
       "<path fill=\"none\" stroke=\"black\" d=\"M969.5,-222.91C969.5,-214.65 969.5,-205.86 969.5,-197.3\"/>\n",
       "<polygon fill=\"black\" stroke=\"black\" points=\"973,-197.02 969.5,-187.02 966,-197.02 973,-197.02\"/>\n",
       "</g>\n",
       "<!-- 12 -->\n",
       "<g id=\"node13\" class=\"node\">\n",
       "<title>12</title>\n",
       "<polygon fill=\"#fefbfe\" stroke=\"black\" points=\"1457,-187 1218,-187 1218,-104 1457,-104 1457,-187\"/>\n",
       "<text text-anchor=\"middle\" x=\"1337.5\" y=\"-171.8\" font-family=\"Helvetica,sans-Serif\" font-size=\"14.00\">Age &lt;= 72.5</text>\n",
       "<text text-anchor=\"middle\" x=\"1337.5\" y=\"-156.8\" font-family=\"Helvetica,sans-Serif\" font-size=\"14.00\">entropy = 2.027</text>\n",
       "<text text-anchor=\"middle\" x=\"1337.5\" y=\"-141.8\" font-family=\"Helvetica,sans-Serif\" font-size=\"14.00\">samples = 680</text>\n",
       "<text text-anchor=\"middle\" x=\"1337.5\" y=\"-126.8\" font-family=\"Helvetica,sans-Serif\" font-size=\"14.00\">value = [133, 183, 4, 166, 194]</text>\n",
       "<text text-anchor=\"middle\" x=\"1337.5\" y=\"-111.8\" font-family=\"Helvetica,sans-Serif\" font-size=\"14.00\">class = drugB</text>\n",
       "</g>\n",
       "<!-- 8&#45;&gt;12 -->\n",
       "<g id=\"edge12\" class=\"edge\">\n",
       "<title>8&#45;&gt;12</title>\n",
       "<path fill=\"none\" stroke=\"black\" d=\"M1093.57,-224.05C1130.35,-212.36 1170.71,-199.53 1207.83,-187.73\"/>\n",
       "<polygon fill=\"black\" stroke=\"black\" points=\"1209.23,-190.95 1217.7,-184.59 1207.11,-184.28 1209.23,-190.95\"/>\n",
       "</g>\n",
       "<!-- 10 -->\n",
       "<g id=\"node11\" class=\"node\">\n",
       "<title>10</title>\n",
       "<polygon fill=\"#fdf1fb\" stroke=\"black\" points=\"979,-68 740,-68 740,0 979,0 979,-68\"/>\n",
       "<text text-anchor=\"middle\" x=\"859.5\" y=\"-52.8\" font-family=\"Helvetica,sans-Serif\" font-size=\"14.00\">entropy = 2.039</text>\n",
       "<text text-anchor=\"middle\" x=\"859.5\" y=\"-37.8\" font-family=\"Helvetica,sans-Serif\" font-size=\"14.00\">samples = 546</text>\n",
       "<text text-anchor=\"middle\" x=\"859.5\" y=\"-22.8\" font-family=\"Helvetica,sans-Serif\" font-size=\"14.00\">value = [125, 132, 4, 124, 161]</text>\n",
       "<text text-anchor=\"middle\" x=\"859.5\" y=\"-7.8\" font-family=\"Helvetica,sans-Serif\" font-size=\"14.00\">class = drugB</text>\n",
       "</g>\n",
       "<!-- 9&#45;&gt;10 -->\n",
       "<g id=\"edge10\" class=\"edge\">\n",
       "<title>9&#45;&gt;10</title>\n",
       "<path fill=\"none\" stroke=\"black\" d=\"M928.54,-103.73C919.29,-94.51 909.46,-84.74 900.22,-75.53\"/>\n",
       "<polygon fill=\"black\" stroke=\"black\" points=\"902.51,-72.87 892.95,-68.3 897.57,-77.84 902.51,-72.87\"/>\n",
       "</g>\n",
       "<!-- 11 -->\n",
       "<g id=\"node12\" class=\"node\">\n",
       "<title>11</title>\n",
       "<polygon fill=\"#fbfbfe\" stroke=\"black\" points=\"1200,-68 997,-68 997,0 1200,0 1200,-68\"/>\n",
       "<text text-anchor=\"middle\" x=\"1098.5\" y=\"-52.8\" font-family=\"Helvetica,sans-Serif\" font-size=\"14.00\">entropy = 2.065</text>\n",
       "<text text-anchor=\"middle\" x=\"1098.5\" y=\"-37.8\" font-family=\"Helvetica,sans-Serif\" font-size=\"14.00\">samples = 251</text>\n",
       "<text text-anchor=\"middle\" x=\"1098.5\" y=\"-22.8\" font-family=\"Helvetica,sans-Serif\" font-size=\"14.00\">value = [68, 45, 4, 72, 62]</text>\n",
       "<text text-anchor=\"middle\" x=\"1098.5\" y=\"-7.8\" font-family=\"Helvetica,sans-Serif\" font-size=\"14.00\">class = drugA</text>\n",
       "</g>\n",
       "<!-- 9&#45;&gt;11 -->\n",
       "<g id=\"edge11\" class=\"edge\">\n",
       "<title>9&#45;&gt;11</title>\n",
       "<path fill=\"none\" stroke=\"black\" d=\"M1017.53,-103.73C1028.6,-94.33 1040.36,-84.35 1051.39,-74.99\"/>\n",
       "<polygon fill=\"black\" stroke=\"black\" points=\"1053.91,-77.44 1059.27,-68.3 1049.38,-72.1 1053.91,-77.44\"/>\n",
       "</g>\n",
       "<!-- 13 -->\n",
       "<g id=\"node14\" class=\"node\">\n",
       "<title>13</title>\n",
       "<polygon fill=\"#fffcfe\" stroke=\"black\" points=\"1457,-68 1218,-68 1218,0 1457,0 1457,-68\"/>\n",
       "<text text-anchor=\"middle\" x=\"1337.5\" y=\"-52.8\" font-family=\"Helvetica,sans-Serif\" font-size=\"14.00\">entropy = 2.028</text>\n",
       "<text text-anchor=\"middle\" x=\"1337.5\" y=\"-37.8\" font-family=\"Helvetica,sans-Serif\" font-size=\"14.00\">samples = 628</text>\n",
       "<text text-anchor=\"middle\" x=\"1337.5\" y=\"-22.8\" font-family=\"Helvetica,sans-Serif\" font-size=\"14.00\">value = [122, 173, 4, 150, 179]</text>\n",
       "<text text-anchor=\"middle\" x=\"1337.5\" y=\"-7.8\" font-family=\"Helvetica,sans-Serif\" font-size=\"14.00\">class = drugB</text>\n",
       "</g>\n",
       "<!-- 12&#45;&gt;13 -->\n",
       "<g id=\"edge13\" class=\"edge\">\n",
       "<title>12&#45;&gt;13</title>\n",
       "<path fill=\"none\" stroke=\"black\" d=\"M1337.5,-103.73C1337.5,-95.52 1337.5,-86.86 1337.5,-78.56\"/>\n",
       "<polygon fill=\"black\" stroke=\"black\" points=\"1341,-78.3 1337.5,-68.3 1334,-78.3 1341,-78.3\"/>\n",
       "</g>\n",
       "<!-- 14 -->\n",
       "<g id=\"node15\" class=\"node\">\n",
       "<title>14</title>\n",
       "<polygon fill=\"#fafafe\" stroke=\"black\" points=\"1678,-68 1475,-68 1475,0 1678,0 1678,-68\"/>\n",
       "<text text-anchor=\"middle\" x=\"1576.5\" y=\"-52.8\" font-family=\"Helvetica,sans-Serif\" font-size=\"14.00\">entropy = 1.972</text>\n",
       "<text text-anchor=\"middle\" x=\"1576.5\" y=\"-37.8\" font-family=\"Helvetica,sans-Serif\" font-size=\"14.00\">samples = 52</text>\n",
       "<text text-anchor=\"middle\" x=\"1576.5\" y=\"-22.8\" font-family=\"Helvetica,sans-Serif\" font-size=\"14.00\">value = [11, 10, 0, 16, 15]</text>\n",
       "<text text-anchor=\"middle\" x=\"1576.5\" y=\"-7.8\" font-family=\"Helvetica,sans-Serif\" font-size=\"14.00\">class = drugA</text>\n",
       "</g>\n",
       "<!-- 12&#45;&gt;14 -->\n",
       "<g id=\"edge14\" class=\"edge\">\n",
       "<title>12&#45;&gt;14</title>\n",
       "<path fill=\"none\" stroke=\"black\" d=\"M1426.16,-103.88C1448.71,-93.55 1472.83,-82.5 1495,-72.34\"/>\n",
       "<polygon fill=\"black\" stroke=\"black\" points=\"1496.74,-75.39 1504.38,-68.04 1493.83,-69.03 1496.74,-75.39\"/>\n",
       "</g>\n",
       "</g>\n",
       "</svg>\n"
      ],
      "text/plain": [
       "<graphviz.files.Source at 0x7f0f8f6d42e8>"
      ]
     },
     "execution_count": 36,
     "metadata": {},
     "output_type": "execute_result"
    }
   ],
   "source": [
    "# Crear gráfico\n",
    "dot_data = tree.export_graphviz(clf_entropy, out_file=None, \n",
    "                                feature_names=['Age', 'Sex', 'Drug'],  \n",
    "                                class_names=data['Drug'].unique(),\n",
    "                                filled=True)\n",
    "# Mostrar el gráfico\n",
    "graph = graphviz.Source(dot_data, format=\"png\") \n",
    "graph"
   ]
  },
  {
   "cell_type": "markdown",
   "metadata": {},
   "source": [
    "### 5. Curva ROC\n",
    "Las curvas ROC suelen presentar una tasa de verdaderos positivos en el eje Y y una tasa de falsos positivos en el eje X. Esto significa que la esquina superior izquierda de la gráfica es el punto \"ideal\": una tasa de falsos positivos de cero y una tasa de verdaderos positivos de uno. Esto no es muy realista, pero significa que un área más grande bajo la curva (AUC) suele ser mejor.\n",
    "\n",
    "La \"inclinación\" de las curvas ROC también es importante, ya que es ideal para maximizar la tasa de verdaderos positivos mientras se minimiza la tasa de falsos positivos.\n",
    "\n",
    "Las curvas ROC se utilizan normalmente en la clasificación binaria para estudiar la salida de un clasificador. Para extender la curva ROC y el área ROC a la clasificación de etiquetas múltiples, es necesario binarizar la salida. Se puede dibujar una curva ROC por etiqueta, pero también se puede dibujar una curva ROC considerando cada elemento de la matriz del indicador de etiqueta como una predicción binaria (micropromedio).\n"
   ]
  },
  {
   "cell_type": "code",
   "execution_count": 37,
   "metadata": {},
   "outputs": [],
   "source": [
    "# Binarize the output\n",
    "y = label_binarize(Y, classes=['drugA', 'drugB', 'drugX', 'drugY'])\n",
    "n_classes = y.shape[1]"
   ]
  },
  {
   "cell_type": "code",
   "execution_count": 38,
   "metadata": {
    "scrolled": false
   },
   "outputs": [
    {
     "data": {
      "text/plain": [
       "array([[0, 0, 0, 1],\n",
       "       [0, 0, 0, 0],\n",
       "       [0, 0, 0, 0],\n",
       "       [0, 0, 1, 0],\n",
       "       [0, 0, 0, 1],\n",
       "       [0, 0, 1, 0],\n",
       "       [0, 0, 0, 1],\n",
       "       [0, 0, 0, 0],\n",
       "       [0, 0, 0, 1],\n",
       "       [0, 0, 0, 1]])"
      ]
     },
     "execution_count": 38,
     "metadata": {},
     "output_type": "execute_result"
    }
   ],
   "source": [
    "y[0:10]"
   ]
  },
  {
   "cell_type": "code",
   "execution_count": 39,
   "metadata": {},
   "outputs": [],
   "source": [
    "def plot_multiclass_roc(clf, X_test, y_test, n_classes, figsize=(17, 6)):\n",
    "    y_score = clf.predict_proba(X_test)\n",
    "\n",
    "    # estructura de datos\n",
    "    fpr = dict()\n",
    "    tpr = dict()\n",
    "    roc_auc = dict()\n",
    "\n",
    "    # calcular los dummies\n",
    "    y_test_dummies = pd.get_dummies(y_test, drop_first=False).values\n",
    "    for i in range(n_classes):\n",
    "        fpr[i], tpr[i], _ = roc_curve(y_test_dummies[:, i], y_score[:, i])\n",
    "        roc_auc[i] = auc(fpr[i], tpr[i])\n",
    "\n",
    "    # roc para cada clase\n",
    "    fig, ax = plt.subplots(figsize=figsize)\n",
    "    ax.plot([0, 1], [0, 1], 'k--')\n",
    "    ax.set_xlim([0.0, 1.0])\n",
    "    ax.set_ylim([0.0, 1.05])\n",
    "    ax.set_xlabel('False Positive Rate')\n",
    "    ax.set_ylabel('True Positive Rate')\n",
    "    ax.set_title('Receiver operating characteristic example')\n",
    "    for i in range(n_classes):\n",
    "        ax.plot(fpr[i], tpr[i], label='ROC curve (area = %0.2f) for label %i' % (roc_auc[i], i))\n",
    "    ax.legend(loc=\"best\")\n",
    "    ax.grid(alpha=.4)\n",
    "    sns.despine()\n",
    "    plt.show()"
   ]
  },
  {
   "cell_type": "code",
   "execution_count": 40,
   "metadata": {},
   "outputs": [
    {
     "data": {
      "image/png": "[encoded data removed]",
      "text/plain": [
       "<Figure size 1152x720 with 1 Axes>"
      ]
     },
     "metadata": {
      "needs_background": "light"
     },
     "output_type": "display_data"
    }
   ],
   "source": [
    "plot_multiclass_roc(clf_entropy, X_test, y_test, n_classes=4, figsize=(16, 10))"
   ]
  },
  {
   "cell_type": "markdown",
   "metadata": {},
   "source": [
    "### Extensión\n",
    "1. Realice el analisis de outliers con la edad\n",
    "2. Realice la prueba chi con menos variables\n",
    "3. Cambie las variables del clasificador para obtener mejor ajuste"
   ]
  }
 ],
 "metadata": {
  "kernelspec": {
   "display_name": "Python 3",
   "language": "python",
   "name": "python3"
  },
  "language_info": {
   "codemirror_mode": {
    "name": "ipython",
    "version": 3
   },
   "file_extension": ".py",
   "mimetype": "text/x-python",
   "name": "python",
   "nbconvert_exporter": "python",
   "pygments_lexer": "ipython3",
   "version": "3.7.3"
  }
 },
 "nbformat": 4,
 "nbformat_minor": 5
}
